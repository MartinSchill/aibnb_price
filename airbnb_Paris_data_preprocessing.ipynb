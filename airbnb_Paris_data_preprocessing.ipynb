{
 "cells": [
  {
   "cell_type": "markdown",
   "metadata": {
    "ExecuteTime": {
     "end_time": "2020-04-27T12:17:43.076557Z",
     "start_time": "2020-04-27T12:17:43.068622Z"
    }
   },
   "source": [
    "<img src=\"data/Airbnb_Logo_Bélo.svg\">"
   ]
  },
  {
   "cell_type": "markdown",
   "metadata": {
    "ExecuteTime": {
     "end_time": "2020-04-16T08:40:32.781878Z",
     "start_time": "2020-04-16T08:40:32.766298Z"
    }
   },
   "source": [
    "# Business Understanding"
   ]
  },
  {
   "cell_type": "markdown",
   "metadata": {},
   "source": [
    "**Overview**\n",
    "\n",
    "Airbnb, founded in 2008, is a internet platform for bookings and reservation of mostly private apartements and houses. It allows home-owners and renters (‘hosts’) to put their properties (‘listings’) online, so that guests can pay to stay in them. \n",
    "\n",
    "**How should I choose my listing's price?**\n",
    "\n",
    "Here is the answer on Airbnb's Website in the Help Center:\n",
    "\n",
    "*The price you charge for your listing is completely up to you. To inform your decision about what price to set, you can search for comparable listings in your city or neighborhood to get an idea of market prices.*\n",
    "\n",
    "Once you have choosen your base price, the algorithm will vary the daily price around that base price on each day depending on day of the week, seasonality, how far away the date is, and other factors.\n",
    "\n",
    "**Goal of this project?**\n",
    "\n",
    "There are several motivations that drive this project. I use airbnb quite often, since I like to travel and I also wanted to apply machine learning skills to a subject that almost anyone has heard of and can relate to. \n",
    "It is important to work with a reasonable big dataset, so I chose with Paris a City that provides 67.323 listings.\n",
    "For a lot people around the world Paris represents the city of love and since I recently got married maybe it is a trip worth and we will use Airbnb. \n",
    "When it comes to the price, Airbnb gives suggestions to the hosts about the base price and adjustments in certain seasons, but when talking to hosts as research for this project, in their experiences prices proved to be way lower than they could have gotten for their appartements. I want to investigate what drives the adverticed price of properties. The biggest problem is: If you set the price too high then no one will book the place. Is the price too low, you’ll be missing out on a lot of potential income.\n",
    "\n",
    "**The dataset**\n",
    "\n",
    "I will perform an analysis of the detailed Paris listings data, sourced from the Inside Airbnb website (http://insideairbnb.com/get-the-data.html) in order to understand the rental landscape. The dataset is named listings.csv.gz and was scraped on March 15th 2020 (week of the lockdown due to corona). It consists of 67.323 listings. A GeoJSON file of Paris borough boundaries was also downloaded from the same site. Quite a bit of preprocessing has to be done with the dataset. It contains as mentioned above the advertised price of the appartment and not the average amount paid per night. Therefore I will eliminate in the course of the analysis unrealistic prices to also make the model more stable. Neverless the dataset offers a lot of information that can be analysed, preprocessed and used for the modeling. "
   ]
  },
  {
   "cell_type": "markdown",
   "metadata": {},
   "source": [
    "# Setup"
   ]
  },
  {
   "cell_type": "code",
   "execution_count": 1,
   "metadata": {
    "ExecuteTime": {
     "end_time": "2020-05-10T17:25:03.107464Z",
     "start_time": "2020-05-10T17:24:59.831353Z"
    }
   },
   "outputs": [],
   "source": [
    "# Common Libraries\n",
    "import pandas as pd\n",
    "import matplotlib.pyplot as plt\n",
    "import seaborn as sns\n",
    "import numpy as np\n",
    "\n",
    "# Feature Engineering\n",
    "import re\n",
    "from collections import Counter\n",
    "from datetime import datetime\n",
    "from geopy.distance import great_circle\n",
    "\n",
    "# Display options:\n",
    "sns.set(style=\"white\", palette=\"pastel\",font_scale=1.5, rc={\"lines.linewidth\": 2.5,'figure.figsize':(11.7,8.27)})\n",
    "pd.set_option('display.max_columns', None)\n",
    "\n",
    "# Deal with warnings:\n",
    "import warnings\n",
    "warnings.simplefilter(action = 'ignore', category=FutureWarning)\n",
    "warnings.filterwarnings('ignore')\n",
    "def ignore_warn(*args, **kwargs):\n",
    "    pass\n",
    "warnings.warn = ignore_warn"
   ]
  },
  {
   "cell_type": "markdown",
   "metadata": {
    "ExecuteTime": {
     "end_time": "2020-04-16T08:25:38.478186Z",
     "start_time": "2020-04-16T08:25:38.464491Z"
    }
   },
   "source": [
    "# Data Mining"
   ]
  },
  {
   "cell_type": "code",
   "execution_count": 2,
   "metadata": {
    "ExecuteTime": {
     "end_time": "2020-05-10T17:25:08.811977Z",
     "start_time": "2020-05-10T17:25:03.111295Z"
    }
   },
   "outputs": [],
   "source": [
    "#%pwd\n",
    "full_data = pd.read_csv('data/listings_paris.csv')"
   ]
  },
  {
   "cell_type": "code",
   "execution_count": 3,
   "metadata": {
    "ExecuteTime": {
     "end_time": "2020-05-10T17:25:08.827881Z",
     "start_time": "2020-05-10T17:25:08.816930Z"
    }
   },
   "outputs": [
    {
     "data": {
      "text/plain": [
       "(67323, 106)"
      ]
     },
     "execution_count": 3,
     "metadata": {},
     "output_type": "execute_result"
    }
   ],
   "source": [
    "full_data.shape"
   ]
  },
  {
   "cell_type": "code",
   "execution_count": 4,
   "metadata": {
    "ExecuteTime": {
     "end_time": "2020-05-10T17:25:09.018238Z",
     "start_time": "2020-05-10T17:25:08.861355Z"
    }
   },
   "outputs": [
    {
     "data": {
      "text/html": [
       "<div>\n",
       "<style scoped>\n",
       "    .dataframe tbody tr th:only-of-type {\n",
       "        vertical-align: middle;\n",
       "    }\n",
       "\n",
       "    .dataframe tbody tr th {\n",
       "        vertical-align: top;\n",
       "    }\n",
       "\n",
       "    .dataframe thead th {\n",
       "        text-align: right;\n",
       "    }\n",
       "</style>\n",
       "<table border=\"1\" class=\"dataframe\">\n",
       "  <thead>\n",
       "    <tr style=\"text-align: right;\">\n",
       "      <th></th>\n",
       "      <th>id</th>\n",
       "      <th>listing_url</th>\n",
       "      <th>scrape_id</th>\n",
       "      <th>last_scraped</th>\n",
       "      <th>name</th>\n",
       "      <th>summary</th>\n",
       "      <th>space</th>\n",
       "      <th>description</th>\n",
       "      <th>experiences_offered</th>\n",
       "      <th>neighborhood_overview</th>\n",
       "      <th>notes</th>\n",
       "      <th>transit</th>\n",
       "      <th>access</th>\n",
       "      <th>interaction</th>\n",
       "      <th>house_rules</th>\n",
       "      <th>thumbnail_url</th>\n",
       "      <th>medium_url</th>\n",
       "      <th>picture_url</th>\n",
       "      <th>xl_picture_url</th>\n",
       "      <th>host_id</th>\n",
       "      <th>host_url</th>\n",
       "      <th>host_name</th>\n",
       "      <th>host_since</th>\n",
       "      <th>host_location</th>\n",
       "      <th>host_about</th>\n",
       "      <th>host_response_time</th>\n",
       "      <th>host_response_rate</th>\n",
       "      <th>host_acceptance_rate</th>\n",
       "      <th>host_is_superhost</th>\n",
       "      <th>host_thumbnail_url</th>\n",
       "      <th>host_picture_url</th>\n",
       "      <th>host_neighbourhood</th>\n",
       "      <th>host_listings_count</th>\n",
       "      <th>host_total_listings_count</th>\n",
       "      <th>host_verifications</th>\n",
       "      <th>host_has_profile_pic</th>\n",
       "      <th>host_identity_verified</th>\n",
       "      <th>street</th>\n",
       "      <th>neighbourhood</th>\n",
       "      <th>neighbourhood_cleansed</th>\n",
       "      <th>neighbourhood_group_cleansed</th>\n",
       "      <th>city</th>\n",
       "      <th>state</th>\n",
       "      <th>zipcode</th>\n",
       "      <th>market</th>\n",
       "      <th>smart_location</th>\n",
       "      <th>country_code</th>\n",
       "      <th>country</th>\n",
       "      <th>latitude</th>\n",
       "      <th>longitude</th>\n",
       "      <th>is_location_exact</th>\n",
       "      <th>property_type</th>\n",
       "      <th>room_type</th>\n",
       "      <th>accommodates</th>\n",
       "      <th>bathrooms</th>\n",
       "      <th>bedrooms</th>\n",
       "      <th>beds</th>\n",
       "      <th>bed_type</th>\n",
       "      <th>amenities</th>\n",
       "      <th>square_feet</th>\n",
       "      <th>price</th>\n",
       "      <th>weekly_price</th>\n",
       "      <th>monthly_price</th>\n",
       "      <th>security_deposit</th>\n",
       "      <th>cleaning_fee</th>\n",
       "      <th>guests_included</th>\n",
       "      <th>extra_people</th>\n",
       "      <th>minimum_nights</th>\n",
       "      <th>maximum_nights</th>\n",
       "      <th>minimum_minimum_nights</th>\n",
       "      <th>maximum_minimum_nights</th>\n",
       "      <th>minimum_maximum_nights</th>\n",
       "      <th>maximum_maximum_nights</th>\n",
       "      <th>minimum_nights_avg_ntm</th>\n",
       "      <th>maximum_nights_avg_ntm</th>\n",
       "      <th>calendar_updated</th>\n",
       "      <th>has_availability</th>\n",
       "      <th>availability_30</th>\n",
       "      <th>availability_60</th>\n",
       "      <th>availability_90</th>\n",
       "      <th>availability_365</th>\n",
       "      <th>calendar_last_scraped</th>\n",
       "      <th>number_of_reviews</th>\n",
       "      <th>number_of_reviews_ltm</th>\n",
       "      <th>first_review</th>\n",
       "      <th>last_review</th>\n",
       "      <th>review_scores_rating</th>\n",
       "      <th>review_scores_accuracy</th>\n",
       "      <th>review_scores_cleanliness</th>\n",
       "      <th>review_scores_checkin</th>\n",
       "      <th>review_scores_communication</th>\n",
       "      <th>review_scores_location</th>\n",
       "      <th>review_scores_value</th>\n",
       "      <th>requires_license</th>\n",
       "      <th>license</th>\n",
       "      <th>jurisdiction_names</th>\n",
       "      <th>instant_bookable</th>\n",
       "      <th>is_business_travel_ready</th>\n",
       "      <th>cancellation_policy</th>\n",
       "      <th>require_guest_profile_picture</th>\n",
       "      <th>require_guest_phone_verification</th>\n",
       "      <th>calculated_host_listings_count</th>\n",
       "      <th>calculated_host_listings_count_entire_homes</th>\n",
       "      <th>calculated_host_listings_count_private_rooms</th>\n",
       "      <th>calculated_host_listings_count_shared_rooms</th>\n",
       "      <th>reviews_per_month</th>\n",
       "    </tr>\n",
       "  </thead>\n",
       "  <tbody>\n",
       "    <tr>\n",
       "      <th>0</th>\n",
       "      <td>3109</td>\n",
       "      <td>https://www.airbnb.com/rooms/3109</td>\n",
       "      <td>20200315231126</td>\n",
       "      <td>2020-03-16</td>\n",
       "      <td>zen and calm</td>\n",
       "      <td>Appartement très calme de 50M2 Utilisation de ...</td>\n",
       "      <td>I bedroom appartment in Paris 14</td>\n",
       "      <td>I bedroom appartment in Paris 14 Good restaura...</td>\n",
       "      <td>none</td>\n",
       "      <td>Good restaurants very close the Montparnasse S...</td>\n",
       "      <td>NaN</td>\n",
       "      <td>RER B Metro Ligne 13 Pernety Metro Ligne 13 Pl...</td>\n",
       "      <td>A la demande, vous pouvez avoir accès à la cha...</td>\n",
       "      <td>yes I can help you out</td>\n",
       "      <td>NaN</td>\n",
       "      <td>NaN</td>\n",
       "      <td>NaN</td>\n",
       "      <td>https://a0.muscache.com/im/pictures/baeae9e2-c...</td>\n",
       "      <td>NaN</td>\n",
       "      <td>3631</td>\n",
       "      <td>https://www.airbnb.com/users/show/3631</td>\n",
       "      <td>Anne</td>\n",
       "      <td>2008-10-14</td>\n",
       "      <td>Paris, Île-de-France, France</td>\n",
       "      <td>NaN</td>\n",
       "      <td>within a few hours</td>\n",
       "      <td>100%</td>\n",
       "      <td>40%</td>\n",
       "      <td>f</td>\n",
       "      <td>https://a0.muscache.com/im/users/3631/profile_...</td>\n",
       "      <td>https://a0.muscache.com/im/users/3631/profile_...</td>\n",
       "      <td>Alésia</td>\n",
       "      <td>1.0</td>\n",
       "      <td>1.0</td>\n",
       "      <td>['email', 'phone', 'facebook', 'reviews']</td>\n",
       "      <td>t</td>\n",
       "      <td>f</td>\n",
       "      <td>Paris, Île-de-France, France</td>\n",
       "      <td>XIV Arrondissement</td>\n",
       "      <td>Observatoire</td>\n",
       "      <td>NaN</td>\n",
       "      <td>Paris</td>\n",
       "      <td>Île-de-France</td>\n",
       "      <td>75014</td>\n",
       "      <td>Paris</td>\n",
       "      <td>Paris, France</td>\n",
       "      <td>FR</td>\n",
       "      <td>France</td>\n",
       "      <td>48.83349</td>\n",
       "      <td>2.31852</td>\n",
       "      <td>f</td>\n",
       "      <td>Apartment</td>\n",
       "      <td>Entire home/apt</td>\n",
       "      <td>2</td>\n",
       "      <td>1.0</td>\n",
       "      <td>0.0</td>\n",
       "      <td>1.0</td>\n",
       "      <td>Real Bed</td>\n",
       "      <td>{Internet,Wifi,Kitchen,\"Paid parking off premi...</td>\n",
       "      <td>NaN</td>\n",
       "      <td>$60.00</td>\n",
       "      <td>$490.00</td>\n",
       "      <td>NaN</td>\n",
       "      <td>$150.00</td>\n",
       "      <td>$60.00</td>\n",
       "      <td>1</td>\n",
       "      <td>$0.00</td>\n",
       "      <td>2</td>\n",
       "      <td>30</td>\n",
       "      <td>2</td>\n",
       "      <td>2</td>\n",
       "      <td>30</td>\n",
       "      <td>30</td>\n",
       "      <td>2.0</td>\n",
       "      <td>30.0</td>\n",
       "      <td>3 weeks ago</td>\n",
       "      <td>t</td>\n",
       "      <td>16</td>\n",
       "      <td>46</td>\n",
       "      <td>76</td>\n",
       "      <td>351</td>\n",
       "      <td>2020-03-16</td>\n",
       "      <td>9</td>\n",
       "      <td>1</td>\n",
       "      <td>2016-12-27</td>\n",
       "      <td>2019-10-24</td>\n",
       "      <td>100.0</td>\n",
       "      <td>10.0</td>\n",
       "      <td>10.0</td>\n",
       "      <td>10.0</td>\n",
       "      <td>10.0</td>\n",
       "      <td>10.0</td>\n",
       "      <td>10.0</td>\n",
       "      <td>t</td>\n",
       "      <td>NaN</td>\n",
       "      <td>{\"translation missing: en.occupancy.taxes.juri...</td>\n",
       "      <td>f</td>\n",
       "      <td>f</td>\n",
       "      <td>flexible</td>\n",
       "      <td>f</td>\n",
       "      <td>f</td>\n",
       "      <td>1</td>\n",
       "      <td>1</td>\n",
       "      <td>0</td>\n",
       "      <td>0</td>\n",
       "      <td>0.23</td>\n",
       "    </tr>\n",
       "  </tbody>\n",
       "</table>\n",
       "</div>"
      ],
      "text/plain": [
       "     id                        listing_url       scrape_id last_scraped  \\\n",
       "0  3109  https://www.airbnb.com/rooms/3109  20200315231126   2020-03-16   \n",
       "\n",
       "           name                                            summary  \\\n",
       "0  zen and calm  Appartement très calme de 50M2 Utilisation de ...   \n",
       "\n",
       "                              space  \\\n",
       "0  I bedroom appartment in Paris 14   \n",
       "\n",
       "                                         description experiences_offered  \\\n",
       "0  I bedroom appartment in Paris 14 Good restaura...                none   \n",
       "\n",
       "                               neighborhood_overview notes  \\\n",
       "0  Good restaurants very close the Montparnasse S...   NaN   \n",
       "\n",
       "                                             transit  \\\n",
       "0  RER B Metro Ligne 13 Pernety Metro Ligne 13 Pl...   \n",
       "\n",
       "                                              access             interaction  \\\n",
       "0  A la demande, vous pouvez avoir accès à la cha...  yes I can help you out   \n",
       "\n",
       "  house_rules  thumbnail_url  medium_url  \\\n",
       "0         NaN            NaN         NaN   \n",
       "\n",
       "                                         picture_url  xl_picture_url  host_id  \\\n",
       "0  https://a0.muscache.com/im/pictures/baeae9e2-c...             NaN     3631   \n",
       "\n",
       "                                 host_url host_name  host_since  \\\n",
       "0  https://www.airbnb.com/users/show/3631      Anne  2008-10-14   \n",
       "\n",
       "                  host_location host_about  host_response_time  \\\n",
       "0  Paris, Île-de-France, France        NaN  within a few hours   \n",
       "\n",
       "  host_response_rate host_acceptance_rate host_is_superhost  \\\n",
       "0               100%                  40%                 f   \n",
       "\n",
       "                                  host_thumbnail_url  \\\n",
       "0  https://a0.muscache.com/im/users/3631/profile_...   \n",
       "\n",
       "                                    host_picture_url host_neighbourhood  \\\n",
       "0  https://a0.muscache.com/im/users/3631/profile_...             Alésia   \n",
       "\n",
       "   host_listings_count  host_total_listings_count  \\\n",
       "0                  1.0                        1.0   \n",
       "\n",
       "                          host_verifications host_has_profile_pic  \\\n",
       "0  ['email', 'phone', 'facebook', 'reviews']                    t   \n",
       "\n",
       "  host_identity_verified                        street       neighbourhood  \\\n",
       "0                      f  Paris, Île-de-France, France  XIV Arrondissement   \n",
       "\n",
       "  neighbourhood_cleansed  neighbourhood_group_cleansed   city          state  \\\n",
       "0           Observatoire                           NaN  Paris  Île-de-France   \n",
       "\n",
       "  zipcode market smart_location country_code country  latitude  longitude  \\\n",
       "0   75014  Paris  Paris, France           FR  France  48.83349    2.31852   \n",
       "\n",
       "  is_location_exact property_type        room_type  accommodates  bathrooms  \\\n",
       "0                 f     Apartment  Entire home/apt             2        1.0   \n",
       "\n",
       "   bedrooms  beds  bed_type  \\\n",
       "0       0.0   1.0  Real Bed   \n",
       "\n",
       "                                           amenities  square_feet   price  \\\n",
       "0  {Internet,Wifi,Kitchen,\"Paid parking off premi...          NaN  $60.00   \n",
       "\n",
       "  weekly_price monthly_price security_deposit cleaning_fee  guests_included  \\\n",
       "0      $490.00           NaN          $150.00       $60.00                1   \n",
       "\n",
       "  extra_people  minimum_nights  maximum_nights  minimum_minimum_nights  \\\n",
       "0        $0.00               2              30                       2   \n",
       "\n",
       "   maximum_minimum_nights  minimum_maximum_nights  maximum_maximum_nights  \\\n",
       "0                       2                      30                      30   \n",
       "\n",
       "   minimum_nights_avg_ntm  maximum_nights_avg_ntm calendar_updated  \\\n",
       "0                     2.0                    30.0      3 weeks ago   \n",
       "\n",
       "  has_availability  availability_30  availability_60  availability_90  \\\n",
       "0                t               16               46               76   \n",
       "\n",
       "   availability_365 calendar_last_scraped  number_of_reviews  \\\n",
       "0               351            2020-03-16                  9   \n",
       "\n",
       "   number_of_reviews_ltm first_review last_review  review_scores_rating  \\\n",
       "0                      1   2016-12-27  2019-10-24                 100.0   \n",
       "\n",
       "   review_scores_accuracy  review_scores_cleanliness  review_scores_checkin  \\\n",
       "0                    10.0                       10.0                   10.0   \n",
       "\n",
       "   review_scores_communication  review_scores_location  review_scores_value  \\\n",
       "0                         10.0                    10.0                 10.0   \n",
       "\n",
       "  requires_license license                                 jurisdiction_names  \\\n",
       "0                t     NaN  {\"translation missing: en.occupancy.taxes.juri...   \n",
       "\n",
       "  instant_bookable is_business_travel_ready cancellation_policy  \\\n",
       "0                f                        f            flexible   \n",
       "\n",
       "  require_guest_profile_picture require_guest_phone_verification  \\\n",
       "0                             f                                f   \n",
       "\n",
       "   calculated_host_listings_count  \\\n",
       "0                               1   \n",
       "\n",
       "   calculated_host_listings_count_entire_homes  \\\n",
       "0                                            1   \n",
       "\n",
       "   calculated_host_listings_count_private_rooms  \\\n",
       "0                                             0   \n",
       "\n",
       "   calculated_host_listings_count_shared_rooms  reviews_per_month  \n",
       "0                                            0               0.23  "
      ]
     },
     "execution_count": 4,
     "metadata": {},
     "output_type": "execute_result"
    }
   ],
   "source": [
    "full_data.head(1)"
   ]
  },
  {
   "cell_type": "code",
   "execution_count": 5,
   "metadata": {
    "ExecuteTime": {
     "end_time": "2020-05-10T17:25:09.060869Z",
     "start_time": "2020-05-10T17:25:09.034006Z"
    },
    "scrolled": true
   },
   "outputs": [
    {
     "data": {
      "text/plain": [
       "0      13923\n",
       "1       5959\n",
       "2       4314\n",
       "3       3462\n",
       "4       2815\n",
       "5       2451\n",
       "6       2084\n",
       "7       1834\n",
       "8       1636\n",
       "9       1506\n",
       "10      1339\n",
       "11      1209\n",
       "12      1159\n",
       "13      1074\n",
       "14      1000\n",
       "16       914\n",
       "15       905\n",
       "17       799\n",
       "18       743\n",
       "19       680\n",
       "20       679\n",
       "21       645\n",
       "22       556\n",
       "23       544\n",
       "24       524\n",
       "25       513\n",
       "26       449\n",
       "27       413\n",
       "29       403\n",
       "28       396\n",
       "       ...  \n",
       "779        1\n",
       "408        1\n",
       "269        1\n",
       "562        1\n",
       "343        1\n",
       "407        1\n",
       "396        1\n",
       "393        1\n",
       "530        1\n",
       "423        1\n",
       "368        1\n",
       "434        1\n",
       "440        1\n",
       "421        1\n",
       "540        1\n",
       "661        1\n",
       "490        1\n",
       "455        1\n",
       "613        1\n",
       "432        1\n",
       "462        1\n",
       "374        1\n",
       "358        1\n",
       "486        1\n",
       "392        1\n",
       "456        1\n",
       "362        1\n",
       "794        1\n",
       "346        1\n",
       "575        1\n",
       "Name: number_of_reviews, Length: 437, dtype: int64"
      ]
     },
     "execution_count": 5,
     "metadata": {},
     "output_type": "execute_result"
    }
   ],
   "source": [
    "# Quite a few listings do not have one review, so they went on the market quite recently or the price is set too high. \n",
    "# I chose to keep that data in order not to lose too many datapoints. \n",
    "full_data.number_of_reviews.value_counts()"
   ]
  },
  {
   "cell_type": "markdown",
   "metadata": {},
   "source": [
    "# Data Cleaning "
   ]
  },
  {
   "cell_type": "code",
   "execution_count": 6,
   "metadata": {
    "ExecuteTime": {
     "end_time": "2020-05-10T17:25:26.724608Z",
     "start_time": "2020-05-10T17:25:09.065101Z"
    }
   },
   "outputs": [
    {
     "data": {
      "image/png": "[encoded data removed]",
      "text/plain": [
       "<Figure size 5760x360 with 2 Axes>"
      ]
     },
     "metadata": {},
     "output_type": "display_data"
    }
   ],
   "source": [
    "# There are quite a bit of missing values in the data\n",
    "fig, ax = plt.subplots(figsize = (80, 5))\n",
    "sns.heatmap(full_data.isna(), cmap = \"cubehelix_r\", yticklabels='')\n",
    "plt.show()"
   ]
  },
  {
   "cell_type": "markdown",
   "metadata": {},
   "source": [
    "## Dropping columns"
   ]
  },
  {
   "cell_type": "markdown",
   "metadata": {},
   "source": [
    "### Columns with no entries / very few entries / no information:"
   ]
  },
  {
   "cell_type": "code",
   "execution_count": 7,
   "metadata": {
    "ExecuteTime": {
     "end_time": "2020-05-10T17:25:27.166193Z",
     "start_time": "2020-05-10T17:25:26.728940Z"
    }
   },
   "outputs": [
    {
     "data": {
      "text/plain": [
       "thumbnail_url                   67323\n",
       "neighbourhood_group_cleansed    67323\n",
       "medium_url                      67323\n",
       "xl_picture_url                  67323\n",
       "square_feet                     66291\n",
       "monthly_price                   61479\n",
       "weekly_price                    58069\n",
       "notes                           47202\n",
       "license                         44051\n",
       "dtype: int64"
      ]
     },
     "execution_count": 7,
     "metadata": {},
     "output_type": "execute_result"
    }
   ],
   "source": [
    "full_data.isna().sum().sort_values(ascending=False)[0:9]\n",
    "\n",
    "# These are the columns with almost no entries:\n",
    "# thumbnail_url\n",
    "# neighbourhood_group_cleansed \n",
    "# medium_url \n",
    "# xl_picture_url\n",
    "# square_feet\n",
    "# monthly_price\n",
    "# weekly_price \n",
    "# notes\n",
    "# license "
   ]
  },
  {
   "cell_type": "code",
   "execution_count": 8,
   "metadata": {
    "ExecuteTime": {
     "end_time": "2020-05-10T17:25:27.181012Z",
     "start_time": "2020-05-10T17:25:27.171732Z"
    }
   },
   "outputs": [
    {
     "data": {
      "text/plain": [
       "0    {\"translation missing: en.occupancy.taxes.juri...\n",
       "1    {\"translation missing: en.occupancy.taxes.juri...\n",
       "2    {\"translation missing: en.occupancy.taxes.juri...\n",
       "Name: jurisdiction_names, dtype: object"
      ]
     },
     "execution_count": 8,
     "metadata": {},
     "output_type": "execute_result"
    }
   ],
   "source": [
    "# jurisdiction_names has no valuable information\n",
    "full_data.jurisdiction_names[0:3]"
   ]
  },
  {
   "cell_type": "code",
   "execution_count": 9,
   "metadata": {
    "ExecuteTime": {
     "end_time": "2020-05-10T17:25:27.209647Z",
     "start_time": "2020-05-10T17:25:27.185445Z"
    }
   },
   "outputs": [
    {
     "data": {
      "text/html": [
       "<div>\n",
       "<style scoped>\n",
       "    .dataframe tbody tr th:only-of-type {\n",
       "        vertical-align: middle;\n",
       "    }\n",
       "\n",
       "    .dataframe tbody tr th {\n",
       "        vertical-align: top;\n",
       "    }\n",
       "\n",
       "    .dataframe thead th {\n",
       "        text-align: right;\n",
       "    }\n",
       "</style>\n",
       "<table border=\"1\" class=\"dataframe\">\n",
       "  <thead>\n",
       "    <tr style=\"text-align: right;\">\n",
       "      <th></th>\n",
       "      <th>scrape_id</th>\n",
       "      <th>last_scraped</th>\n",
       "      <th>experiences_offered</th>\n",
       "      <th>bed_type</th>\n",
       "    </tr>\n",
       "  </thead>\n",
       "  <tbody>\n",
       "    <tr>\n",
       "      <th>0</th>\n",
       "      <td>20200315231126</td>\n",
       "      <td>2020-03-16</td>\n",
       "      <td>none</td>\n",
       "      <td>Real Bed</td>\n",
       "    </tr>\n",
       "    <tr>\n",
       "      <th>1</th>\n",
       "      <td>20200315231126</td>\n",
       "      <td>2020-03-16</td>\n",
       "      <td>none</td>\n",
       "      <td>Pull-out Sofa</td>\n",
       "    </tr>\n",
       "    <tr>\n",
       "      <th>2</th>\n",
       "      <td>20200315231126</td>\n",
       "      <td>2020-03-16</td>\n",
       "      <td>none</td>\n",
       "      <td>Real Bed</td>\n",
       "    </tr>\n",
       "    <tr>\n",
       "      <th>3</th>\n",
       "      <td>20200315231126</td>\n",
       "      <td>2020-03-16</td>\n",
       "      <td>none</td>\n",
       "      <td>Real Bed</td>\n",
       "    </tr>\n",
       "    <tr>\n",
       "      <th>4</th>\n",
       "      <td>20200315231126</td>\n",
       "      <td>2020-03-16</td>\n",
       "      <td>none</td>\n",
       "      <td>Real Bed</td>\n",
       "    </tr>\n",
       "  </tbody>\n",
       "</table>\n",
       "</div>"
      ],
      "text/plain": [
       "        scrape_id last_scraped experiences_offered       bed_type\n",
       "0  20200315231126   2020-03-16                none       Real Bed\n",
       "1  20200315231126   2020-03-16                none  Pull-out Sofa\n",
       "2  20200315231126   2020-03-16                none       Real Bed\n",
       "3  20200315231126   2020-03-16                none       Real Bed\n",
       "4  20200315231126   2020-03-16                none       Real Bed"
      ]
     },
     "execution_count": 9,
     "metadata": {},
     "output_type": "execute_result"
    }
   ],
   "source": [
    "full_data[['scrape_id', 'last_scraped', 'experiences_offered','bed_type' ]].head()\n",
    "\n",
    "# scrape_id - same for all the records\n",
    "# last_scraped - same for all the records\n",
    "# experiences_offered - contains only none value\n",
    "# bed_type - almost all have real beds"
   ]
  },
  {
   "cell_type": "code",
   "execution_count": 10,
   "metadata": {
    "ExecuteTime": {
     "end_time": "2020-05-10T17:25:27.240280Z",
     "start_time": "2020-05-10T17:25:27.214692Z"
    }
   },
   "outputs": [
    {
     "data": {
      "text/plain": [
       "Real Bed         64494\n",
       "Pull-out Sofa     2173\n",
       "Couch              431\n",
       "Futon              208\n",
       "Airbed              17\n",
       "Name: bed_type, dtype: int64"
      ]
     },
     "execution_count": 10,
     "metadata": {},
     "output_type": "execute_result"
    }
   ],
   "source": [
    "full_data.bed_type.value_counts()"
   ]
  },
  {
   "cell_type": "markdown",
   "metadata": {},
   "source": [
    "### Text columns"
   ]
  },
  {
   "cell_type": "code",
   "execution_count": 11,
   "metadata": {
    "ExecuteTime": {
     "end_time": "2020-05-10T17:25:27.278039Z",
     "start_time": "2020-05-10T17:25:27.244144Z"
    }
   },
   "outputs": [
    {
     "data": {
      "text/html": [
       "<div>\n",
       "<style scoped>\n",
       "    .dataframe tbody tr th:only-of-type {\n",
       "        vertical-align: middle;\n",
       "    }\n",
       "\n",
       "    .dataframe tbody tr th {\n",
       "        vertical-align: top;\n",
       "    }\n",
       "\n",
       "    .dataframe thead th {\n",
       "        text-align: right;\n",
       "    }\n",
       "</style>\n",
       "<table border=\"1\" class=\"dataframe\">\n",
       "  <thead>\n",
       "    <tr style=\"text-align: right;\">\n",
       "      <th></th>\n",
       "      <th>name</th>\n",
       "      <th>summary</th>\n",
       "      <th>space</th>\n",
       "      <th>neighborhood_overview</th>\n",
       "      <th>transit</th>\n",
       "      <th>access</th>\n",
       "      <th>interaction</th>\n",
       "      <th>house_rules</th>\n",
       "    </tr>\n",
       "  </thead>\n",
       "  <tbody>\n",
       "    <tr>\n",
       "      <th>0</th>\n",
       "      <td>zen and calm</td>\n",
       "      <td>Appartement très calme de 50M2 Utilisation de ...</td>\n",
       "      <td>I bedroom appartment in Paris 14</td>\n",
       "      <td>Good restaurants very close the Montparnasse S...</td>\n",
       "      <td>RER B Metro Ligne 13 Pernety Metro Ligne 13 Pl...</td>\n",
       "      <td>A la demande, vous pouvez avoir accès à la cha...</td>\n",
       "      <td>yes I can help you out</td>\n",
       "      <td>NaN</td>\n",
       "    </tr>\n",
       "    <tr>\n",
       "      <th>1</th>\n",
       "      <td>Explore the heart of old Paris</td>\n",
       "      <td>Cozy, well-appointed and graciously designed s...</td>\n",
       "      <td>Small, well appointed studio apartment at the ...</td>\n",
       "      <td>You are within walking distance to the Louvre,...</td>\n",
       "      <td>The flat is close to two or three major metro ...</td>\n",
       "      <td>The flat includes its own modern bathroom, a w...</td>\n",
       "      <td>We expect guests to operate rather independent...</td>\n",
       "      <td>This is a small flat in a very old building th...</td>\n",
       "    </tr>\n",
       "  </tbody>\n",
       "</table>\n",
       "</div>"
      ],
      "text/plain": [
       "                             name  \\\n",
       "0                    zen and calm   \n",
       "1  Explore the heart of old Paris   \n",
       "\n",
       "                                             summary  \\\n",
       "0  Appartement très calme de 50M2 Utilisation de ...   \n",
       "1  Cozy, well-appointed and graciously designed s...   \n",
       "\n",
       "                                               space  \\\n",
       "0                   I bedroom appartment in Paris 14   \n",
       "1  Small, well appointed studio apartment at the ...   \n",
       "\n",
       "                               neighborhood_overview  \\\n",
       "0  Good restaurants very close the Montparnasse S...   \n",
       "1  You are within walking distance to the Louvre,...   \n",
       "\n",
       "                                             transit  \\\n",
       "0  RER B Metro Ligne 13 Pernety Metro Ligne 13 Pl...   \n",
       "1  The flat is close to two or three major metro ...   \n",
       "\n",
       "                                              access  \\\n",
       "0  A la demande, vous pouvez avoir accès à la cha...   \n",
       "1  The flat includes its own modern bathroom, a w...   \n",
       "\n",
       "                                         interaction  \\\n",
       "0                             yes I can help you out   \n",
       "1  We expect guests to operate rather independent...   \n",
       "\n",
       "                                         house_rules  \n",
       "0                                                NaN  \n",
       "1  This is a small flat in a very old building th...  "
      ]
     },
     "execution_count": 11,
     "metadata": {},
     "output_type": "execute_result"
    }
   ],
   "source": [
    "# I will drop most Text columns, since I will focus on the description column for feature extraction. \n",
    "\n",
    "full_data[['name','summary','space',\n",
    "           'neighborhood_overview',\n",
    "           'transit','access','interaction', \n",
    "           'house_rules']].head(2)\n",
    "# name \n",
    "# summary\n",
    "# space\n",
    "# neighborhood_overview\n",
    "# notes\n",
    "# transit\n",
    "# access\n",
    "# interaction \n",
    "# house_rules"
   ]
  },
  {
   "cell_type": "markdown",
   "metadata": {},
   "source": [
    "### Geographical Data"
   ]
  },
  {
   "cell_type": "code",
   "execution_count": 12,
   "metadata": {
    "ExecuteTime": {
     "end_time": "2020-05-10T17:25:27.315182Z",
     "start_time": "2020-05-10T17:25:27.282343Z"
    }
   },
   "outputs": [
    {
     "data": {
      "text/html": [
       "<div>\n",
       "<style scoped>\n",
       "    .dataframe tbody tr th:only-of-type {\n",
       "        vertical-align: middle;\n",
       "    }\n",
       "\n",
       "    .dataframe tbody tr th {\n",
       "        vertical-align: top;\n",
       "    }\n",
       "\n",
       "    .dataframe thead th {\n",
       "        text-align: right;\n",
       "    }\n",
       "</style>\n",
       "<table border=\"1\" class=\"dataframe\">\n",
       "  <thead>\n",
       "    <tr style=\"text-align: right;\">\n",
       "      <th></th>\n",
       "      <th>country</th>\n",
       "      <th>country_code</th>\n",
       "      <th>state</th>\n",
       "      <th>city</th>\n",
       "      <th>street</th>\n",
       "      <th>neighbourhood</th>\n",
       "      <th>zipcode</th>\n",
       "      <th>market</th>\n",
       "      <th>smart_location</th>\n",
       "      <th>is_location_exact</th>\n",
       "    </tr>\n",
       "  </thead>\n",
       "  <tbody>\n",
       "    <tr>\n",
       "      <th>0</th>\n",
       "      <td>France</td>\n",
       "      <td>FR</td>\n",
       "      <td>Île-de-France</td>\n",
       "      <td>Paris</td>\n",
       "      <td>Paris, Île-de-France, France</td>\n",
       "      <td>XIV Arrondissement</td>\n",
       "      <td>75014</td>\n",
       "      <td>Paris</td>\n",
       "      <td>Paris, France</td>\n",
       "      <td>f</td>\n",
       "    </tr>\n",
       "    <tr>\n",
       "      <th>1</th>\n",
       "      <td>France</td>\n",
       "      <td>FR</td>\n",
       "      <td>Ile-de-France</td>\n",
       "      <td>Paris</td>\n",
       "      <td>Paris, Ile-de-France, France</td>\n",
       "      <td>IV Arrondissement</td>\n",
       "      <td>75004</td>\n",
       "      <td>Paris</td>\n",
       "      <td>Paris, France</td>\n",
       "      <td>t</td>\n",
       "    </tr>\n",
       "  </tbody>\n",
       "</table>\n",
       "</div>"
      ],
      "text/plain": [
       "  country country_code          state   city                        street  \\\n",
       "0  France           FR  Île-de-France  Paris  Paris, Île-de-France, France   \n",
       "1  France           FR  Ile-de-France  Paris  Paris, Ile-de-France, France   \n",
       "\n",
       "        neighbourhood zipcode market smart_location is_location_exact  \n",
       "0  XIV Arrondissement   75014  Paris  Paris, France                 f  \n",
       "1   IV Arrondissement   75004  Paris  Paris, France                 t  "
      ]
     },
     "execution_count": 12,
     "metadata": {},
     "output_type": "execute_result"
    }
   ],
   "source": [
    "# Since we focus on Paris in this entire analysis, there are several\n",
    "# columns that can be discarded. When it comes to the column 'is_location_exact',\n",
    "# since it just differs 150 meters, there is no valuable information in it,\n",
    "# and can also be removed. \n",
    "\n",
    "full_data[['country','country_code','state',\n",
    "           'city','street','neighbourhood','zipcode',\n",
    "           'market', 'smart_location', 'is_location_exact'\n",
    "           ]].head(2)"
   ]
  },
  {
   "cell_type": "code",
   "execution_count": 13,
   "metadata": {
    "ExecuteTime": {
     "end_time": "2020-05-10T17:25:27.334940Z",
     "start_time": "2020-05-10T17:25:27.318864Z"
    }
   },
   "outputs": [
    {
     "data": {
      "text/plain": [
       "array(['Paris', 'Paris 11e Arrondissement', 'Paris, 4th arrondissement',\n",
       "       'Paris-13E-Arrondissement', 'Levallois-Perret',\n",
       "       'Paris-2E-Arrondissement', 'Paris ', 'Vincennes',\n",
       "       'Boulogne-Billancourt', '10th arrondissement, Paris',\n",
       "       'Paris 13e Arrondissement', nan, 'Saint-Mandé',\n",
       "       'Paris-4E-Arrondissement', 'Paris 4e arrondissement',\n",
       "       'Joinville-le-Pont', 'PARIS', 'Paris-19E-Arrondissement',\n",
       "       'Paris 11e arrondissement', 'Le Kremlin-Bicêtre',\n",
       "       'Paris 9e arrondissement', 'Paris 8è', 'NEUILLY SUR SEINE',\n",
       "       'PARIS 3eme', 'Issy-les-Moulineaux', 'Paris 1er Arrondissement',\n",
       "       'paris', ' Deuil-la-Barre ', 'vanves', 'Le Pré-Saint-Gervais',\n",
       "       'Issy les moulineaux', 'París', 'PARIS 02', 'Parigi',\n",
       "       'Paris-10E-Arrondissement', 'Paris 9e Arrondissement',\n",
       "       'Paris 10e Arrondissement', 'Paris 16', 'Paris 6e arrondissement',\n",
       "       'Paris 10', 'Neuilly Sur Seine ', 'Bagnolet', 'Montrouge',\n",
       "       'PARIS 05', 'Paris 17', 'Neuilly-sur-Seine',\n",
       "       'Charenton Le Pont - limitrophe avec paris ',\n",
       "       'Paris-20E-Arrondissement', 'Paris-11E-Arrondissement',\n",
       "       'Paris-18E-Arrondissement', 'Clichy', 'Paris Vincennes', 'Париж',\n",
       "       'Paris-8E-Arrondissement', 'Paris-5E-Arrondissement', 'Paris city',\n",
       "       'Paris 18e Arrondissement', 'Charenton-le-Pont', 'Saint-Ouen',\n",
       "       '파리', 'Gentilly', 'Issy les Moulineaux',\n",
       "       'Paris-17E-Arrondissement', 'Paris 17ème', 'Pantin',\n",
       "       'Paris 19e Arrondissement', 'Suresnes', 'Nogent-sur-Marne',\n",
       "       'Paris-3E-Arrondissement', 'Paris-1ER-Arrondissement',\n",
       "       'Ivry-sur-Seine', 'Ivry sur Seine', 'Paris 2e Arrondissement',\n",
       "       'Paris-16E-Arrondissement', 'Paris-12E-Arrondissement',\n",
       "       'Montreuil', 'Paris-14E-Arrondissement',\n",
       "       'Paris-15E-Arrondissement', 'Paris-7E-Arrondissement',\n",
       "       'Paris-3eme-Arrondissement', 'Arrondissement', 'Saint-Maurice',\n",
       "       'Paris-6E-Arrondissement', 'Paris-9E-Arrondissement',\n",
       "       'Paris 4e Arrondissement', 'Issy-les-Moulineaux/Paris',\n",
       "       'Paris 16e Arrondissement', 'SAINT MAURICE', 'Vanves',\n",
       "       'Paris-18E-Bas de Montmartre', 'Paris 3e Arrondissement',\n",
       "       'Paris 17e Arrondissement', 'Paris 20e Arrondissement',\n",
       "       'Aubervilliers', 'issy les moulineaux', 'Les Lilas',\n",
       "       'Paris, Île-de-France, FR', 'Paris 15e Arrondissement', 'PARIS ',\n",
       "       '巴黎', 'Paris 5e Arrondissement', 'Asnières-sur-Seine',\n",
       "       'Paris 8e Arrondissement', 'Paris 12e Arrondissement', 'Boulogne ',\n",
       "       'Paris 7e Arrondissement', 'Paris 14e Arrondissement', '.',\n",
       "       'Paris 6e Arrondissement', '*', 'Île-de-France', '.Champs-Elysées',\n",
       "       '9th District, Paris', 'Paris 07', 'France', 'Fontenay-sous-Bois',\n",
       "       'Villejuif', 'Malakoff', 'SOULAC SUR MER', 'Paris 05 Panthéon',\n",
       "       'Paris Centre', 'Saint mandé', 'Parijs', '-', 'Paris 13 Gobelins',\n",
       "       'Dordogne ', 'PAris', 'pairs', 'Sénas', 'Neuilly-sur-seine',\n",
       "       'Courbevoie ', ' Paris', 'Paris 2er Arrondissement',\n",
       "       'Charenton-Le-Pont', 'Saint-Denis', '75018',\n",
       "       'Paris 20 Ménilmontant', 'Paris 09 Opéra',\n",
       "       'Paris 18 Buttes-Montmartre', 'Puteaux',\n",
       "       'Paris 15e arrondissement', 'Paris 03 Temple',\n",
       "       'Paris 07 Palais-Bourbon', 'Paris 11 Popincourt',\n",
       "       'Paris 02 Bourse', 'Paris 04', 'levallois-perret', 'Mbalmayo ',\n",
       "       'Paris 16 Passy', 'Paris 14 Observatoire', 'Saint-Ouen-sur-Seine',\n",
       "       'GENTILLY ', 'Boulogne Billancourt', '94250', 'Maisons-Alfort',\n",
       "       'Le Pré Saint Gervais '], dtype=object)"
      ]
     },
     "execution_count": 13,
     "metadata": {},
     "output_type": "execute_result"
    }
   ],
   "source": [
    "# In the city column we expect just Paris, but people find quite a few ways to spell it. \n",
    "full_data.city.unique()"
   ]
  },
  {
   "cell_type": "code",
   "execution_count": 14,
   "metadata": {
    "ExecuteTime": {
     "end_time": "2020-05-10T17:25:27.353349Z",
     "start_time": "2020-05-10T17:25:27.337975Z"
    }
   },
   "outputs": [
    {
     "data": {
      "text/plain": [
       "array(['Observatoire', 'Hôtel-de-Ville', 'Opéra', 'Louvre', 'Popincourt',\n",
       "       'Buttes-Montmartre', 'Élysée', 'Panthéon', 'Entrepôt', 'Gobelins',\n",
       "       'Luxembourg', 'Buttes-Chaumont', 'Palais-Bourbon', 'Reuilly',\n",
       "       'Bourse', 'Ménilmontant', 'Vaugirard', 'Batignolles-Monceau',\n",
       "       'Temple', 'Passy'], dtype=object)"
      ]
     },
     "execution_count": 14,
     "metadata": {},
     "output_type": "execute_result"
    }
   ],
   "source": [
    "# There has been some cleaning already for the neighbourhoods done, which we will use. There are some differences, since certain neighbourhood have been put together.\n",
    "#sum((full_data.neighbourhood == full_data.neighbourhood_cleansed) == False)\n",
    "#full_data.neighbourhood.unique()\n",
    "\n",
    "full_data.neighbourhood_cleansed.unique()"
   ]
  },
  {
   "cell_type": "code",
   "execution_count": 15,
   "metadata": {
    "ExecuteTime": {
     "end_time": "2020-05-10T17:25:27.375879Z",
     "start_time": "2020-05-10T17:25:27.356689Z"
    }
   },
   "outputs": [
    {
     "data": {
      "text/plain": [
       "array(['Paris, Île-de-France, France', 'Paris, Ile-de-France, France',\n",
       "       'Paris 11e Arrondissement, Île-de-France, France',\n",
       "       'Paris, IDF, France', 'Paris, Paris, France', 'Paris, France',\n",
       "       'Paris, Idf, France', 'Paris, IdF, France',\n",
       "       'Paris, 4th arrondissement, Île-de-France, France',\n",
       "       'Paris-13E-Arrondissement, Île-de-France, France',\n",
       "       'Paris, FRANCE, France', 'Levallois-Perret, Île-de-France, France',\n",
       "       'Paris, Ile de France, France', 'Paris, Île de France, France',\n",
       "       'Paris-2E-Arrondissement, Île-de-France, France',\n",
       "       'Paris, France, France', 'Paris , Ile-de-France, France',\n",
       "       'Vincennes, Île-de-France, France', 'Paris, Ile de france, France',\n",
       "       'Boulogne-Billancourt, Île-de-France, France',\n",
       "       'Paris, france, France',\n",
       "       '10th arrondissement, Paris, Île-de-France, France',\n",
       "       'Paris 13e Arrondissement, Île-de-France, France', 'FR, France',\n",
       "       'Saint-Mandé, Île-de-France, France',\n",
       "       'Paris-4E-Arrondissement, Paris, France', 'Paris, Pigalle, France',\n",
       "       'Paris, le marais, France',\n",
       "       'Paris 4e arrondissement, Île-de-France, France',\n",
       "       'Joinville-le-Pont, Île-de-France, France',\n",
       "       'PARIS, Île-de-France, France',\n",
       "       'Paris-19E-Arrondissement, Île-de-France, France',\n",
       "       'Paris, Ã\\x8ele-de-France, France',\n",
       "       'Paris 11e arrondissement, Île-de-France, France',\n",
       "       'Le Kremlin-Bicêtre, Île-de-France, France',\n",
       "       'Paris , île de France, France', 'Paris, ile de france, France',\n",
       "       'Paris 9e arrondissement, Île-de-France, France',\n",
       "       'Paris 8è, Île-de-France, France',\n",
       "       'NEUILLY SUR SEINE, Île-de-France, France',\n",
       "       'Paris, Paris province, France',\n",
       "       'PARIS 3eme, Île-de-France, France',\n",
       "       'Issy-les-Moulineaux, Île-de-France, France',\n",
       "       'Paris 1er Arrondissement, Île-de-France, France',\n",
       "       'paris, ile de france, France',\n",
       "       ' Deuil-la-Barre , Île-de-France, France',\n",
       "       'vanves, Île-de-France, France',\n",
       "       'Le Pré-Saint-Gervais, Île-de-France, France',\n",
       "       'Paris-2E-Arrondissement, île de France, France', 'paris, France',\n",
       "       'Issy les moulineaux, Île-de-France, France',\n",
       "       'París, Île-de-France, France', 'PARIS 02, Île-de-France, France',\n",
       "       'Parigi, Île-de-France, France',\n",
       "       'Paris-10E-Arrondissement, Île-de-France, France',\n",
       "       'Paris 9e Arrondissement, Île-de-France, France',\n",
       "       'Paris 10e Arrondissement, France', 'Paris 16, France, France',\n",
       "       'Paris 6e arrondissement, Île-de-France, France',\n",
       "       'Paris 10, France, France', 'PARIS, Ilha de França, France',\n",
       "       'Neuilly Sur Seine , Île-de-France, France',\n",
       "       'Bagnolet, France, France', 'Montrouge, Île-de-France, France',\n",
       "       'PARIS 05, Île-de-France, France', 'Paris 17, France',\n",
       "       'Neuilly-sur-Seine, Île-de-France, France',\n",
       "       'Charenton Le Pont - limitrophe avec paris , Île-de-France, France',\n",
       "       'Paris-20E-Arrondissement, Île-de-France, France',\n",
       "       'Paris-11E-Arrondissement, Île-de-France, France',\n",
       "       'Paris, Pleine de Monceau, France',\n",
       "       'Paris-18E-Arrondissement, Île-de-France, France',\n",
       "       'Clichy, Île-de-France, France', 'Paris, Rhône-Alpes, France',\n",
       "       'Paris, île de France, France',\n",
       "       'Paris Vincennes, Île-de-France, France',\n",
       "       'Paris , Île-de-France, France', 'Париж, Île-de-France, France',\n",
       "       'Paris-8E-Arrondissement, Île-de-France, France',\n",
       "       'Paris-5E-Arrondissement, Île-de-France, France',\n",
       "       'Paris city, Paris province, France',\n",
       "       'Paris 18e Arrondissement, Île-de-France, France',\n",
       "       'Charenton-le-Pont, Île-de-France, France',\n",
       "       'Saint-Ouen, Île-de-France, France', '파리, 일 드 프랑스, France',\n",
       "       'Gentilly, Île-de-France, France',\n",
       "       'Issy les Moulineaux, Île-de-France, France',\n",
       "       'Paris-17E-Arrondissement, Île-de-France, France',\n",
       "       'Paris 17ème, Île-de-France, France',\n",
       "       'Pantin, Île-de-France, France', 'paris, Île-de-France, France',\n",
       "       'Bagnolet, IDF, France', 'Paris 19e Arrondissement, France',\n",
       "       'Paris 18e Arrondissement, France',\n",
       "       'Boulogne-Billancourt, IDF, France',\n",
       "       'Suresnes, Île-de-France, France',\n",
       "       'Nogent-sur-Marne, Île-de-France, France',\n",
       "       'Paris-3E-Arrondissement, Île-de-France, France',\n",
       "       'Paris, Montmartre, France',\n",
       "       'Paris-4E-Arrondissement, Île-de-France, France',\n",
       "       'Paris-1ER-Arrondissement, Île-de-France, France',\n",
       "       'Ivry-sur-Seine, Île-de-France, France',\n",
       "       'Ivry sur Seine, Île-de-France, France', 'Paris, IDF bis, France',\n",
       "       'Paris 2e Arrondissement, Île-de-France, France',\n",
       "       'Paris-16E-Arrondissement, Île-de-France, France',\n",
       "       'Paris-12E-Arrondissement, Île-de-France, France',\n",
       "       'Montreuil, Île-de-France, France',\n",
       "       'Paris-14E-Arrondissement, IDF, France',\n",
       "       'Paris 9e Arrondissement, France',\n",
       "       'Paris-14E-Arrondissement, Île-de-France, France',\n",
       "       'Clichy, IDF, France',\n",
       "       'Paris-15E-Arrondissement, Île-de-France, France',\n",
       "       'Paris , Île de France, France',\n",
       "       'Paris-7E-Arrondissement, Île-de-France, France',\n",
       "       'Paris, Switzerland', 'Paris, Île-de-Francs, France',\n",
       "       'Paris-3eme-Arrondissement, Île-de-France, France',\n",
       "       'Île-de-France, Île-de-France, France',\n",
       "       'Arrondissement, Île-de-France, France',\n",
       "       'Paris-12E-Arrondissement, IDF, France',\n",
       "       'Paris-20E-Arrondissement, IDF, France',\n",
       "       'Saint-Maurice, Île-de-France, France',\n",
       "       'Paris-2E-Arrondissement, IDF, France',\n",
       "       'Paris-6E-Arrondissement, Île-de-France, France',\n",
       "       'Issy-les-Moulineaux, France',\n",
       "       'Paris-9E-Arrondissement, Île-de-France, France',\n",
       "       'Paris-16E-Arrondissement, IDF, France',\n",
       "       'Paris-8E-Arrondissement, IDF, France',\n",
       "       'Paris 4e Arrondissement, Île-de-France, France',\n",
       "       'Issy-les-Moulineaux/Paris, Île-de-France, France',\n",
       "       'Paris 16e Arrondissement, Île-de-France, France',\n",
       "       'SAINT MAURICE, Île-de-France, France',\n",
       "       'Paris-11E-Arrondissement, France',\n",
       "       'Paris-9E-Arrondissement, France', 'PARIS, Idf, France',\n",
       "       'Vanves, Île-de-France, France',\n",
       "       'Paris-18E-Bas de Montmartre, Île-de-France, France',\n",
       "       'Paris 3e Arrondissement, France', 'Paris, 75, France',\n",
       "       'Paris 17e Arrondissement, France',\n",
       "       'Paris 20e Arrondissement, France',\n",
       "       'Paris 17e Arrondissement, Île-de-France, France',\n",
       "       'PARIS, France, France', 'Paris, Iles de France, France',\n",
       "       'Aubervilliers, Île-de-France, France',\n",
       "       'issy les moulineaux, France, France',\n",
       "       'París, Isla de Francia, France',\n",
       "       'Paris 13e Arrondissement, France',\n",
       "       'Les Lilas, Île-de-France, France',\n",
       "       'Paris, Île-de-France, FR, Paris, France',\n",
       "       'Paris 16e Arrondissement, France',\n",
       "       'Paris 10e Arrondissement, Île-de-France, France',\n",
       "       'Paris 15e Arrondissement, France',\n",
       "       'PARIS , Île-de-France, France', '巴黎, 法兰西岛, France',\n",
       "       'Paris 5e Arrondissement, France',\n",
       "       'Paris 15e Arrondissement, Île-de-France, France',\n",
       "       'Paris, Île-de-France, FR, île de France, France',\n",
       "       'Asnières-sur-Seine, Île-de-France, France',\n",
       "       'Paris 8e Arrondissement, Île-de-France, France',\n",
       "       'Paris 12e Arrondissement, Île-de-France, France',\n",
       "       'Paris, IF, France', 'Paris-19E-Arrondissement, France',\n",
       "       'Paris-8E-Arrondissement, France',\n",
       "       'Paris-12E-Arrondissement, France',\n",
       "       'Paris-3E-Arrondissement, France', 'PARIS, France',\n",
       "       'Paris 11e Arrondissement, France',\n",
       "       'Boulogne , Île-de-France, France', 'Paris, 75015, France',\n",
       "       'Paris 16e Arrondissement, Ile de France, France',\n",
       "       'Paris 7e Arrondissement, Île-de-France, France',\n",
       "       'Paris 3e Arrondissement, Île-de-France, France',\n",
       "       'Paris 14e Arrondissement, Ile de France, France',\n",
       "       'Paris 20e Arrondissement, Ile de France, France',\n",
       "       'Paris 14e Arrondissement, Île-de-France, France',\n",
       "       '., Paris, France', 'Paris 8e Arrondissement, France',\n",
       "       'Paris 5e Arrondissement, Île-de-France, France',\n",
       "       'Paris 20e Arrondissement, Île-de-France, France',\n",
       "       'Paris 6e Arrondissement, Île-de-France, France', '., ., France',\n",
       "       '*, Paris, France', 'Paris, ., France',\n",
       "       'Paris 14e Arrondissement, France',\n",
       "       'Paris-17E-Arrondissement, France', 'Île-de-France, Paris, France',\n",
       "       '.Champs-Elysées, PARIS, France',\n",
       "       'Paris-6E-Arrondissement, France',\n",
       "       'Paris 7e Arrondissement, Paris, France',\n",
       "       'Bagnolet, Île-de-France, France',\n",
       "       '9th District, Paris, Paris, France',\n",
       "       'Paris, ile de France, France', 'Paris , France',\n",
       "       'Boulogne-Billancourt, France', 'Paris-15E-Arrondissement, France',\n",
       "       'PARIS, Nouvelle-Aquitaine, France',\n",
       "       'Paris 7e Arrondissement, France', 'Paris, Occitanie, France',\n",
       "       'Paris 07, Île-de-France, France', 'Paris, *, France',\n",
       "       'Paris, Alpes-Maritimes, France',\n",
       "       'Paris 4e Arrondissement, France', 'France, ile de france, France',\n",
       "       'Fontenay-sous-Bois, Île-de-France, France',\n",
       "       'Paris, .Paris, France', 'Paris 2e Arrondissement, France',\n",
       "       'Paris 9e Arrondissement, 75, France',\n",
       "       'Villejuif, Île-de-France, France',\n",
       "       'Paris, Île-de-France Region, France',\n",
       "       'Paris , Ile de France, France',\n",
       "       'Paris 19e Arrondissement, Île-de-France, France',\n",
       "       'Malakoff, Île-de-France, France',\n",
       "       'Paris 6e Arrondissement, France', 'Paris, Île-de-France,, France',\n",
       "       'SOULAC SUR MER, France', 'Paris 05 Panthéon, France',\n",
       "       'Paris, Sélectionnez la région, France', 'PARIS , France',\n",
       "       'Paris Centre, Île-de-France, France',\n",
       "       'PARIS, Île-de-France Region, France',\n",
       "       'Paris 12e Arrondissement, France', 'Paris, J, France',\n",
       "       'Saint mandé, Île-de-France, France', 'Paris, Grand Est, France',\n",
       "       'Parijs, France', 'Paris, 75016, France', 'Paris , Paris, France',\n",
       "       '-, Paris, France', 'Paris 1er Arrondissement, France',\n",
       "       'Paris 13 Gobelins, France', 'PARIS, ILE DE FRANCE, France',\n",
       "       'Dordogne , Nouvelle Aquitaine, France', 'paris, 75, France',\n",
       "       'PARIS, 75, France', 'PAris, 75, France', 'pairs, France',\n",
       "       \"Sénas, Provence-Alpes-Côte d'Azur, France\",\n",
       "       'PARIS, Paris, France', 'Neuilly-sur-seine, Île-de-France, France',\n",
       "       'Paris , 75011, France', 'Paris, 14, France',\n",
       "       'PARIS, PARIS, France', 'Courbevoie , Île-de-France, France',\n",
       "       ' Paris, Île-de-France, France',\n",
       "       'Paris 2er Arrondissement, Île-de-France, France',\n",
       "       'Vincennes, France', 'Paris 20e Arrondissement, Paris, France',\n",
       "       'paris, paris, France', 'Charenton-Le-Pont, Île-de-France, France',\n",
       "       'Paris 19e Arrondissement, 75, France',\n",
       "       'Saint-Denis, Île-de-France, France',\n",
       "       '75018, Île-de-France, France', 'Paris, 75011, France',\n",
       "       'Paris, 75014, France', 'Paris 20 Ménilmontant, France',\n",
       "       'Paris 09 Opéra, France', 'Paris 18 Buttes-Montmartre, France',\n",
       "       'Paris, ILE DE FRANCE, France', 'Puteaux, Île-de-France, France',\n",
       "       'Paris 15e arrondissement, France', 'Paris 03 Temple, France',\n",
       "       'Paris 07 Palais-Bourbon, France', 'Paris 11 Popincourt, France',\n",
       "       'Paris 02 Bourse, France', 'PARIS, Ile de France, France',\n",
       "       'Paris-2E-Arrondissement, France', 'Paris, Paris 09, France',\n",
       "       'Gentilly, IDF, France', 'Paris 04, Paris, France',\n",
       "       'Charenton-le-Pont, France', 'levallois-perret, 92, France',\n",
       "       'Aubervilliers, IDF, France', 'Mbalmayo , Île-de-France, Cameroon',\n",
       "       'Issy-les-Moulineaux, IDF, France', 'Pantin, IDF, France',\n",
       "       'Paris , Ile de france, France', 'Paris 16 Passy, France',\n",
       "       'Joinville-le-Pont, IDF, France', 'Paris 14 Observatoire, France',\n",
       "       'Saint-Ouen-sur-Seine, Île-de-France, France', 'GENTILLY , France',\n",
       "       'Paris 1er Arrondissement, Paris, France',\n",
       "       'Le Kremlin-Bicêtre, IDF, France', 'paris, Ile-de-france, France',\n",
       "       'Boulogne Billancourt, France', 'Neuilly-sur-Seine, IDF, France',\n",
       "       'Clichy, France', '94250, Île-de-France, France',\n",
       "       'Ivry-sur-Seine, IDF, France',\n",
       "       'Maisons-Alfort, Île-de-France, France',\n",
       "       'Saint-Maurice, IDF, France', 'Bagnolet, France',\n",
       "       'Le Pré Saint Gervais , Île-de-France, France'], dtype=object)"
      ]
     },
     "execution_count": 15,
     "metadata": {},
     "output_type": "execute_result"
    }
   ],
   "source": [
    "# There does not seem to be any valuable information in the Street column.\n",
    "\n",
    "full_data.street.unique()"
   ]
  },
  {
   "cell_type": "markdown",
   "metadata": {},
   "source": [
    "### Picture /  Host / Calendar"
   ]
  },
  {
   "cell_type": "code",
   "execution_count": 16,
   "metadata": {
    "ExecuteTime": {
     "end_time": "2020-05-10T17:25:27.435215Z",
     "start_time": "2020-05-10T17:25:27.378961Z"
    }
   },
   "outputs": [
    {
     "data": {
      "text/html": [
       "<div>\n",
       "<style scoped>\n",
       "    .dataframe tbody tr th:only-of-type {\n",
       "        vertical-align: middle;\n",
       "    }\n",
       "\n",
       "    .dataframe tbody tr th {\n",
       "        vertical-align: top;\n",
       "    }\n",
       "\n",
       "    .dataframe thead th {\n",
       "        text-align: right;\n",
       "    }\n",
       "</style>\n",
       "<table border=\"1\" class=\"dataframe\">\n",
       "  <thead>\n",
       "    <tr style=\"text-align: right;\">\n",
       "      <th></th>\n",
       "      <th>picture_url</th>\n",
       "      <th>host_id</th>\n",
       "      <th>host_url</th>\n",
       "      <th>host_name</th>\n",
       "      <th>host_location</th>\n",
       "      <th>host_about</th>\n",
       "      <th>host_thumbnail_url</th>\n",
       "      <th>host_picture_url</th>\n",
       "      <th>host_neighbourhood</th>\n",
       "      <th>host_verifications</th>\n",
       "      <th>calendar_last_scraped</th>\n",
       "      <th>calendar_updated</th>\n",
       "    </tr>\n",
       "  </thead>\n",
       "  <tbody>\n",
       "    <tr>\n",
       "      <th>0</th>\n",
       "      <td>https://a0.muscache.com/im/pictures/baeae9e2-c...</td>\n",
       "      <td>3631</td>\n",
       "      <td>https://www.airbnb.com/users/show/3631</td>\n",
       "      <td>Anne</td>\n",
       "      <td>Paris, Île-de-France, France</td>\n",
       "      <td>NaN</td>\n",
       "      <td>https://a0.muscache.com/im/users/3631/profile_...</td>\n",
       "      <td>https://a0.muscache.com/im/users/3631/profile_...</td>\n",
       "      <td>Alésia</td>\n",
       "      <td>['email', 'phone', 'facebook', 'reviews']</td>\n",
       "      <td>2020-03-16</td>\n",
       "      <td>3 weeks ago</td>\n",
       "    </tr>\n",
       "    <tr>\n",
       "      <th>1</th>\n",
       "      <td>https://a0.muscache.com/im/pictures/52413/f9bf...</td>\n",
       "      <td>7903</td>\n",
       "      <td>https://www.airbnb.com/users/show/7903</td>\n",
       "      <td>Borzou</td>\n",
       "      <td>Istanbul, İstanbul, Turkey</td>\n",
       "      <td>We are both journalists based in the Middle Ea...</td>\n",
       "      <td>https://a0.muscache.com/im/users/7903/profile_...</td>\n",
       "      <td>https://a0.muscache.com/im/users/7903/profile_...</td>\n",
       "      <td>Saint-Paul - Ile Saint-Louis</td>\n",
       "      <td>['email', 'phone', 'facebook', 'google', 'revi...</td>\n",
       "      <td>2020-03-16</td>\n",
       "      <td>1 week ago</td>\n",
       "    </tr>\n",
       "  </tbody>\n",
       "</table>\n",
       "</div>"
      ],
      "text/plain": [
       "                                         picture_url  host_id  \\\n",
       "0  https://a0.muscache.com/im/pictures/baeae9e2-c...     3631   \n",
       "1  https://a0.muscache.com/im/pictures/52413/f9bf...     7903   \n",
       "\n",
       "                                 host_url host_name  \\\n",
       "0  https://www.airbnb.com/users/show/3631      Anne   \n",
       "1  https://www.airbnb.com/users/show/7903    Borzou   \n",
       "\n",
       "                  host_location  \\\n",
       "0  Paris, Île-de-France, France   \n",
       "1    Istanbul, İstanbul, Turkey   \n",
       "\n",
       "                                          host_about  \\\n",
       "0                                                NaN   \n",
       "1  We are both journalists based in the Middle Ea...   \n",
       "\n",
       "                                  host_thumbnail_url  \\\n",
       "0  https://a0.muscache.com/im/users/3631/profile_...   \n",
       "1  https://a0.muscache.com/im/users/7903/profile_...   \n",
       "\n",
       "                                    host_picture_url  \\\n",
       "0  https://a0.muscache.com/im/users/3631/profile_...   \n",
       "1  https://a0.muscache.com/im/users/7903/profile_...   \n",
       "\n",
       "             host_neighbourhood  \\\n",
       "0                        Alésia   \n",
       "1  Saint-Paul - Ile Saint-Louis   \n",
       "\n",
       "                                  host_verifications calendar_last_scraped  \\\n",
       "0          ['email', 'phone', 'facebook', 'reviews']            2020-03-16   \n",
       "1  ['email', 'phone', 'facebook', 'google', 'revi...            2020-03-16   \n",
       "\n",
       "  calendar_updated  \n",
       "0      3 weeks ago  \n",
       "1       1 week ago  "
      ]
     },
     "execution_count": 16,
     "metadata": {},
     "output_type": "execute_result"
    }
   ],
   "source": [
    "# I will keep listing_url, so that we can look it up during the exploration,\n",
    "# the other information will be dropped. \n",
    "# picture_url - interesting if we want to analyse the pictures as well but out of scope otherwise\n",
    "# host_id - id that is not used anywhere else\n",
    "# host_url - interesting but we can get to the host page with the listing_url\n",
    "# host_name\n",
    "# host_location\n",
    "# host_about\n",
    "# host_thumbnail_url\n",
    "# host_picture_url\n",
    "# host_neighbourhood\n",
    "# host_verifications\n",
    "# calendar_last_scraped\n",
    "# calendar_updated\n",
    "\n",
    "full_data[['picture_url','host_id','host_url','host_name',\n",
    "           'host_location','host_about','host_thumbnail_url','host_picture_url',\n",
    "           'host_neighbourhood', 'host_verifications', 'calendar_last_scraped', 'calendar_updated'\n",
    "           ]].head(2)"
   ]
  },
  {
   "cell_type": "code",
   "execution_count": 17,
   "metadata": {
    "ExecuteTime": {
     "end_time": "2020-05-10T17:25:27.533058Z",
     "start_time": "2020-05-10T17:25:27.476840Z"
    }
   },
   "outputs": [
    {
     "data": {
      "text/plain": [
       "2193"
      ]
     },
     "execution_count": 17,
     "metadata": {},
     "output_type": "execute_result"
    }
   ],
   "source": [
    "# The host seem to come from all over the world\n",
    "full_data.host_location.nunique()"
   ]
  },
  {
   "cell_type": "markdown",
   "metadata": {},
   "source": [
    "### Listings count "
   ]
  },
  {
   "cell_type": "code",
   "execution_count": 18,
   "metadata": {
    "ExecuteTime": {
     "end_time": "2020-05-10T17:25:27.568721Z",
     "start_time": "2020-05-10T17:25:27.538697Z"
    }
   },
   "outputs": [
    {
     "data": {
      "text/html": [
       "<div>\n",
       "<style scoped>\n",
       "    .dataframe tbody tr th:only-of-type {\n",
       "        vertical-align: middle;\n",
       "    }\n",
       "\n",
       "    .dataframe tbody tr th {\n",
       "        vertical-align: top;\n",
       "    }\n",
       "\n",
       "    .dataframe thead th {\n",
       "        text-align: right;\n",
       "    }\n",
       "</style>\n",
       "<table border=\"1\" class=\"dataframe\">\n",
       "  <thead>\n",
       "    <tr style=\"text-align: right;\">\n",
       "      <th></th>\n",
       "      <th>host_total_listings_count</th>\n",
       "      <th>host_listings_count</th>\n",
       "      <th>calculated_host_listings_count_entire_homes</th>\n",
       "      <th>calculated_host_listings_count_private_rooms</th>\n",
       "      <th>calculated_host_listings_count_shared_rooms</th>\n",
       "    </tr>\n",
       "  </thead>\n",
       "  <tbody>\n",
       "    <tr>\n",
       "      <th>0</th>\n",
       "      <td>1.0</td>\n",
       "      <td>1.0</td>\n",
       "      <td>1</td>\n",
       "      <td>0</td>\n",
       "      <td>0</td>\n",
       "    </tr>\n",
       "    <tr>\n",
       "      <th>1</th>\n",
       "      <td>1.0</td>\n",
       "      <td>1.0</td>\n",
       "      <td>1</td>\n",
       "      <td>0</td>\n",
       "      <td>0</td>\n",
       "    </tr>\n",
       "  </tbody>\n",
       "</table>\n",
       "</div>"
      ],
      "text/plain": [
       "   host_total_listings_count  host_listings_count  \\\n",
       "0                        1.0                  1.0   \n",
       "1                        1.0                  1.0   \n",
       "\n",
       "   calculated_host_listings_count_entire_homes  \\\n",
       "0                                            1   \n",
       "1                                            1   \n",
       "\n",
       "   calculated_host_listings_count_private_rooms  \\\n",
       "0                                             0   \n",
       "1                                             0   \n",
       "\n",
       "   calculated_host_listings_count_shared_rooms  \n",
       "0                                            0  \n",
       "1                                            0  "
      ]
     },
     "execution_count": 18,
     "metadata": {},
     "output_type": "execute_result"
    }
   ],
   "source": [
    "#Columns that include highly correlated data or even the same information concerning the listings_count.\n",
    "#host_listings_count and host_total_listings_count do not seem to display the right amount of listings,\n",
    "#so they will be droped, together with the correlated calculated counts. On further investigation calculated_host_listings_count gave more accurate information. \n",
    "\n",
    "# host_total_listings_count\n",
    "# host_listings_count\n",
    "# calculated_host_listings_count_entire_homes\n",
    "# calculated_host_listings_count_private_rooms \n",
    "# calculated_host_listings_count_shared_rooms\n",
    "\n",
    "full_data[['host_total_listings_count','host_listings_count','calculated_host_listings_count_entire_homes',\n",
    "           'calculated_host_listings_count_private_rooms','calculated_host_listings_count_shared_rooms'\n",
    "           ]].head(2)"
   ]
  },
  {
   "cell_type": "code",
   "execution_count": 109,
   "metadata": {
    "ExecuteTime": {
     "end_time": "2020-05-11T06:02:04.973524Z",
     "start_time": "2020-05-11T06:02:04.966977Z"
    }
   },
   "outputs": [],
   "source": [
    "#full_data.loc[((full_data.host_listings_count == full_data.calculated_host_listings_count) == False)]"
   ]
  },
  {
   "cell_type": "markdown",
   "metadata": {},
   "source": [
    "### Stay Time"
   ]
  },
  {
   "cell_type": "code",
   "execution_count": 20,
   "metadata": {
    "ExecuteTime": {
     "end_time": "2020-05-10T17:25:27.583397Z",
     "start_time": "2020-05-10T17:25:27.579311Z"
    }
   },
   "outputs": [],
   "source": [
    "#Columns are highly correlated:\n",
    "# minimum_minimum_nights\n",
    "# maximum_minimum_nights\n",
    "# minimum_maximum_nights\n",
    "# maximum_maximum_nights\n",
    "# minimum_nights_avg_ntm\n",
    "# maximum_nights_avg_ntm\n",
    "# availability_30\n",
    "# availability_90\n",
    "# availability_60"
   ]
  },
  {
   "cell_type": "code",
   "execution_count": 21,
   "metadata": {
    "ExecuteTime": {
     "end_time": "2020-05-10T17:25:27.610149Z",
     "start_time": "2020-05-10T17:25:27.587353Z"
    }
   },
   "outputs": [
    {
     "data": {
      "text/html": [
       "<div>\n",
       "<style scoped>\n",
       "    .dataframe tbody tr th:only-of-type {\n",
       "        vertical-align: middle;\n",
       "    }\n",
       "\n",
       "    .dataframe tbody tr th {\n",
       "        vertical-align: top;\n",
       "    }\n",
       "\n",
       "    .dataframe thead th {\n",
       "        text-align: right;\n",
       "    }\n",
       "</style>\n",
       "<table border=\"1\" class=\"dataframe\">\n",
       "  <thead>\n",
       "    <tr style=\"text-align: right;\">\n",
       "      <th></th>\n",
       "      <th>minimum_minimum_nights</th>\n",
       "      <th>maximum_minimum_nights</th>\n",
       "      <th>minimum_maximum_nights</th>\n",
       "      <th>maximum_maximum_nights</th>\n",
       "      <th>minimum_nights_avg_ntm</th>\n",
       "      <th>maximum_nights_avg_ntm</th>\n",
       "      <th>availability_30</th>\n",
       "      <th>availability_90</th>\n",
       "      <th>availability_60</th>\n",
       "    </tr>\n",
       "  </thead>\n",
       "  <tbody>\n",
       "    <tr>\n",
       "      <th>0</th>\n",
       "      <td>2</td>\n",
       "      <td>2</td>\n",
       "      <td>30</td>\n",
       "      <td>30</td>\n",
       "      <td>2.0</td>\n",
       "      <td>30.0</td>\n",
       "      <td>16</td>\n",
       "      <td>76</td>\n",
       "      <td>46</td>\n",
       "    </tr>\n",
       "  </tbody>\n",
       "</table>\n",
       "</div>"
      ],
      "text/plain": [
       "   minimum_minimum_nights  maximum_minimum_nights  minimum_maximum_nights  \\\n",
       "0                       2                       2                      30   \n",
       "\n",
       "   maximum_maximum_nights  minimum_nights_avg_ntm  maximum_nights_avg_ntm  \\\n",
       "0                      30                     2.0                    30.0   \n",
       "\n",
       "   availability_30  availability_90  availability_60  \n",
       "0               16               76               46  "
      ]
     },
     "execution_count": 21,
     "metadata": {},
     "output_type": "execute_result"
    }
   ],
   "source": [
    "full_data[['minimum_minimum_nights','maximum_minimum_nights','minimum_maximum_nights',\n",
    "           'maximum_maximum_nights','minimum_nights_avg_ntm', 'maximum_nights_avg_ntm',\n",
    "           'availability_30','availability_90','availability_60'\n",
    "           ]].head(1)"
   ]
  },
  {
   "cell_type": "markdown",
   "metadata": {},
   "source": [
    "### Reviews"
   ]
  },
  {
   "cell_type": "code",
   "execution_count": 22,
   "metadata": {
    "ExecuteTime": {
     "end_time": "2020-05-10T17:25:27.629663Z",
     "start_time": "2020-05-10T17:25:27.615902Z"
    }
   },
   "outputs": [
    {
     "data": {
      "text/html": [
       "<div>\n",
       "<style scoped>\n",
       "    .dataframe tbody tr th:only-of-type {\n",
       "        vertical-align: middle;\n",
       "    }\n",
       "\n",
       "    .dataframe tbody tr th {\n",
       "        vertical-align: top;\n",
       "    }\n",
       "\n",
       "    .dataframe thead th {\n",
       "        text-align: right;\n",
       "    }\n",
       "</style>\n",
       "<table border=\"1\" class=\"dataframe\">\n",
       "  <thead>\n",
       "    <tr style=\"text-align: right;\">\n",
       "      <th></th>\n",
       "      <th>number_of_reviews_ltm</th>\n",
       "      <th>reviews_per_month</th>\n",
       "    </tr>\n",
       "  </thead>\n",
       "  <tbody>\n",
       "    <tr>\n",
       "      <th>0</th>\n",
       "      <td>1</td>\n",
       "      <td>0.23</td>\n",
       "    </tr>\n",
       "  </tbody>\n",
       "</table>\n",
       "</div>"
      ],
      "text/plain": [
       "   number_of_reviews_ltm  reviews_per_month\n",
       "0                      1               0.23"
      ]
     },
     "execution_count": 22,
     "metadata": {},
     "output_type": "execute_result"
    }
   ],
   "source": [
    "#I will keep the column number of reviews. The following columns will be dropped:\n",
    "# number_of_reviews_ltm\n",
    "# reviews_per_month\n",
    "\n",
    "full_data[['number_of_reviews_ltm','reviews_per_month'\n",
    "           ]].head(1)"
   ]
  },
  {
   "cell_type": "markdown",
   "metadata": {
    "ExecuteTime": {
     "end_time": "2020-04-26T08:26:02.120400Z",
     "start_time": "2020-04-26T08:26:02.116507Z"
    }
   },
   "source": [
    "### Columns with just one or very few categories - boolean features"
   ]
  },
  {
   "cell_type": "code",
   "execution_count": 23,
   "metadata": {
    "ExecuteTime": {
     "end_time": "2020-05-10T17:25:27.663900Z",
     "start_time": "2020-05-10T17:25:27.638076Z"
    }
   },
   "outputs": [
    {
     "data": {
      "text/html": [
       "<div>\n",
       "<style scoped>\n",
       "    .dataframe tbody tr th:only-of-type {\n",
       "        vertical-align: middle;\n",
       "    }\n",
       "\n",
       "    .dataframe tbody tr th {\n",
       "        vertical-align: top;\n",
       "    }\n",
       "\n",
       "    .dataframe thead th {\n",
       "        text-align: right;\n",
       "    }\n",
       "</style>\n",
       "<table border=\"1\" class=\"dataframe\">\n",
       "  <thead>\n",
       "    <tr style=\"text-align: right;\">\n",
       "      <th></th>\n",
       "      <th>has_availability</th>\n",
       "      <th>host_has_profile_pic</th>\n",
       "      <th>is_business_travel_ready</th>\n",
       "      <th>require_guest_phone_verification</th>\n",
       "      <th>require_guest_profile_picture</th>\n",
       "      <th>requires_license</th>\n",
       "    </tr>\n",
       "  </thead>\n",
       "  <tbody>\n",
       "    <tr>\n",
       "      <th>0</th>\n",
       "      <td>t</td>\n",
       "      <td>t</td>\n",
       "      <td>f</td>\n",
       "      <td>f</td>\n",
       "      <td>f</td>\n",
       "      <td>t</td>\n",
       "    </tr>\n",
       "  </tbody>\n",
       "</table>\n",
       "</div>"
      ],
      "text/plain": [
       "  has_availability host_has_profile_pic is_business_travel_ready  \\\n",
       "0                t                    t                        f   \n",
       "\n",
       "  require_guest_phone_verification require_guest_profile_picture  \\\n",
       "0                                f                             f   \n",
       "\n",
       "  requires_license  \n",
       "0                t  "
      ]
     },
     "execution_count": 23,
     "metadata": {},
     "output_type": "execute_result"
    }
   ],
   "source": [
    "# These columns have just one category or very few instances of another.\n",
    "# has_availability (all)\n",
    "# host_has_profile_pic \n",
    "# is_business_travel_ready (all)\n",
    "# require_guest_phone_verification \n",
    "# require_guest_profile_picture \n",
    "# requires_license (all)\n",
    "\n",
    "features = ['has_availability','host_has_profile_pic',\n",
    "           'is_business_travel_ready', 'require_guest_phone_verification',\n",
    "           'require_guest_profile_picture','requires_license'\n",
    "           ]\n",
    "\n",
    "full_data[features\n",
    "           ].head(1)"
   ]
  },
  {
   "cell_type": "code",
   "execution_count": 24,
   "metadata": {
    "ExecuteTime": {
     "end_time": "2020-05-10T17:25:27.685793Z",
     "start_time": "2020-05-10T17:25:27.670268Z"
    }
   },
   "outputs": [],
   "source": [
    "def lessthan1percent(list_of_features):\n",
    "    for i in list_of_features:\n",
    "        if full_data[i].value_counts(normalize=True)[0] > 0.99 or full_data[i].value_counts(normalize=True)[0] < 0.01:\n",
    "            print('feature: ' +  i)\n",
    "            print('one category below 1 percent!')\n",
    "            print(full_data[i].value_counts(normalize=True)[0])\n",
    "        else:\n",
    "            print(i)\n",
    "            print('both categories above 1 percent!!!')\n",
    "            print(full_data[i].value_counts(normalize=True)[0])\n",
    "        print(10 * '___')"
   ]
  },
  {
   "cell_type": "code",
   "execution_count": 25,
   "metadata": {
    "ExecuteTime": {
     "end_time": "2020-05-10T17:25:27.845710Z",
     "start_time": "2020-05-10T17:25:27.692269Z"
    }
   },
   "outputs": [
    {
     "name": "stdout",
     "output_type": "stream",
     "text": [
      "feature: has_availability\n",
      "one category below 1 percent!\n",
      "1.0\n",
      "______________________________\n",
      "feature: host_has_profile_pic\n",
      "one category below 1 percent!\n",
      "0.9969694718859096\n",
      "______________________________\n",
      "feature: is_business_travel_ready\n",
      "one category below 1 percent!\n",
      "1.0\n",
      "______________________________\n",
      "require_guest_phone_verification\n",
      "both categories above 1 percent!!!\n",
      "0.9812099876713753\n",
      "______________________________\n",
      "feature: require_guest_profile_picture\n",
      "one category below 1 percent!\n",
      "0.9927662165975967\n",
      "______________________________\n",
      "feature: requires_license\n",
      "one category below 1 percent!\n",
      "0.9999702924706266\n",
      "______________________________\n"
     ]
    }
   ],
   "source": [
    "lessthan1percent(features)"
   ]
  },
  {
   "cell_type": "markdown",
   "metadata": {},
   "source": [
    "There is just one feature where one category is slightly above 1 percent. "
   ]
  },
  {
   "cell_type": "code",
   "execution_count": 26,
   "metadata": {
    "ExecuteTime": {
     "end_time": "2020-05-10T17:25:27.935080Z",
     "start_time": "2020-05-10T17:25:27.848627Z"
    }
   },
   "outputs": [
    {
     "data": {
      "text/plain": [
       "t    67323\n",
       "Name: has_availability, dtype: int64"
      ]
     },
     "execution_count": 26,
     "metadata": {},
     "output_type": "execute_result"
    }
   ],
   "source": [
    "full_data.has_availability.value_counts()"
   ]
  },
  {
   "cell_type": "code",
   "execution_count": 27,
   "metadata": {
    "ExecuteTime": {
     "end_time": "2020-05-10T17:25:27.970859Z",
     "start_time": "2020-05-10T17:25:27.942019Z"
    }
   },
   "outputs": [
    {
     "data": {
      "text/plain": [
       "0.9969694718859096"
      ]
     },
     "execution_count": 27,
     "metadata": {},
     "output_type": "execute_result"
    }
   ],
   "source": [
    "full_data.host_has_profile_pic.value_counts(normalize=True)[0]"
   ]
  },
  {
   "cell_type": "code",
   "execution_count": 28,
   "metadata": {
    "ExecuteTime": {
     "end_time": "2020-05-10T17:25:28.012069Z",
     "start_time": "2020-05-10T17:25:27.978016Z"
    }
   },
   "outputs": [
    {
     "data": {
      "text/plain": [
       "f    67323\n",
       "Name: is_business_travel_ready, dtype: int64"
      ]
     },
     "execution_count": 28,
     "metadata": {},
     "output_type": "execute_result"
    }
   ],
   "source": [
    "full_data.is_business_travel_ready.value_counts()"
   ]
  },
  {
   "cell_type": "code",
   "execution_count": 29,
   "metadata": {
    "ExecuteTime": {
     "end_time": "2020-05-10T17:25:28.082892Z",
     "start_time": "2020-05-10T17:25:28.017714Z"
    }
   },
   "outputs": [
    {
     "data": {
      "text/plain": [
       "t    67321\n",
       "f        2\n",
       "Name: requires_license, dtype: int64"
      ]
     },
     "execution_count": 29,
     "metadata": {},
     "output_type": "execute_result"
    }
   ],
   "source": [
    "full_data.requires_license.value_counts()"
   ]
  },
  {
   "cell_type": "code",
   "execution_count": 30,
   "metadata": {
    "ExecuteTime": {
     "end_time": "2020-05-10T17:25:28.121139Z",
     "start_time": "2020-05-10T17:25:28.092998Z"
    }
   },
   "outputs": [
    {
     "data": {
      "text/plain": [
       "f    66836\n",
       "t      487\n",
       "Name: require_guest_profile_picture, dtype: int64"
      ]
     },
     "execution_count": 30,
     "metadata": {},
     "output_type": "execute_result"
    }
   ],
   "source": [
    "full_data.require_guest_profile_picture.value_counts()"
   ]
  },
  {
   "cell_type": "markdown",
   "metadata": {},
   "source": [
    "### How to deal with boolean features"
   ]
  },
  {
   "cell_type": "code",
   "execution_count": 31,
   "metadata": {
    "ExecuteTime": {
     "end_time": "2020-05-10T17:25:33.274049Z",
     "start_time": "2020-05-10T17:25:28.133180Z"
    }
   },
   "outputs": [],
   "source": [
    "full_data.replace({'f': False, 't': True}, inplace=True)"
   ]
  },
  {
   "cell_type": "markdown",
   "metadata": {},
   "source": [
    "### Summary"
   ]
  },
  {
   "cell_type": "markdown",
   "metadata": {},
   "source": [
    "Columns with no entries / very few entries / no information:\n",
    "At a first glance you see that certain columns (thumbnail_url, etc.) dont have any information in them, I can therefore not use them for my EDA and model.\n",
    "\n",
    "* weekly_price \n",
    "* monthly_price \n",
    "* square_feet \n",
    "* license \n",
    "* jurisdiction_names \n",
    "* medium_url \n",
    "* thumbnail_url \n",
    "* notes\n",
    "* neighbourhood_group_cleansed \n",
    "* xl_picture_url \n",
    "* scrape_id - same for all the records\n",
    "* last_scraped - same for all the records\n",
    "* experiences_offered - contains only none value\n",
    "* bed_type - almost all have real beds\n",
    "\n",
    "Text columns (The description column will be used to extract information):\n",
    "* name \n",
    "* summary\n",
    "* space\n",
    "* neighborhood_overview\n",
    "* transit\n",
    "* access\n",
    "* interaction \n",
    "* house_rules\n",
    "\n",
    "Geographical data:\n",
    "\n",
    "Since we just want to predict prices for Paris and thats what our data consists of, we will drop the city column. The 'market' column as well as the 'smart location' column also do not include valuable information with only Paris in it. Also the country column is not usefull for our model, as well as the country code and the state. \n",
    "Moreover the street column does not seem to have good information.\n",
    "There is also the column neighbourhood and neighbourhood_cleansed, we will keep neighbourhood cleansed, so it will match the also provided Geojson file. Since we include the neighbourhood column I will also drop the zipcodes.The column 'is_location_exact' will also not be integrated.\n",
    "\n",
    "* country\n",
    "* country_code\n",
    "* state\n",
    "* city\n",
    "* street\n",
    "* neighbourhood\n",
    "* zipcode\n",
    "* market\n",
    "* smart_location\n",
    "* is_location_exact - unimportant as it could be inacurate up to 150 meters http://insideairbnb.com/about.html#disclaimers\n",
    "\n",
    "Further data for picture/host/calendar will be dropped, listing_url will be kept for data exploration:\n",
    "\n",
    "* picture_url - interesting if we want to analyse the pictures as well but out of scope otherwise\n",
    "* host_id - id that is not used anywhere else\n",
    "* host_url - interesting but we can get to the host page with the listing_url\n",
    "* host_name\n",
    "* host_location\n",
    "* host_about\n",
    "* host_thumbnail_url\n",
    "* host_picture_url\n",
    "* host_neighbourhood\n",
    "* host_verifications\n",
    "* calendar_last_scraped\n",
    "* calendar_updated\n",
    "\n",
    "Columns that include highly correlated data or even the same information concerning the listings_count:\n",
    "\n",
    "host_listings_count and host_total_listings_count do not seem to display the right amount of listings so they will be droped. Together with the correlated calculated counts. \n",
    "\n",
    "* host_total_listings_count\n",
    "* host_listings_count\n",
    "* calculated_host_listings_count_entire_homes\n",
    "* calculated_host_listings_count_private_rooms \n",
    "* calculated_host_listings_count_shared_rooms\n",
    "\n",
    "Columns that include highly correlated data or even the same information concering the required stay time:\n",
    "\n",
    "Since the count of minimum and maximum stays can vary over the year, \n",
    "there are not only the minimum nights in the dataset, but also the minimum_minimum_nights, etc.\n",
    "For our exploration we will only work with the minimum_nights, etc. default value\n",
    "I will keep availability_365 since it is highly correlated with the others.\n",
    "\n",
    "* minimum_minimum_nights\n",
    "* maximum_minimum_nights\n",
    "* minimum_maximum_nights\n",
    "* maximum_maximum_nights\n",
    "* minimum_nights_avg_ntm\n",
    "* maximum_nights_avg_ntm\n",
    "* availability_30\n",
    "* availability_90\n",
    "* availability_60\n",
    "\n",
    "Columns that include highly correlated data or even the same information concering the reviews:\n",
    "\n",
    "* number_of_reviews_ltm\n",
    "* reviews_per_month\n",
    "\n",
    "\n",
    "Several columns only contain one category / or very few from the other category:\n",
    "\n",
    "* has_availability (all)\n",
    "* host_has_profile_pic \n",
    "* is_business_travel_ready (all)\n",
    "* require_guest_phone_verification \n",
    "* require_guest_profile_picture \n",
    "* requires_license (all)"
   ]
  },
  {
   "cell_type": "code",
   "execution_count": 32,
   "metadata": {
    "ExecuteTime": {
     "end_time": "2020-05-10T17:25:33.421396Z",
     "start_time": "2020-05-10T17:25:33.302557Z"
    }
   },
   "outputs": [],
   "source": [
    "raw_data = full_data.drop(['xl_picture_url','neighbourhood_group_cleansed','thumbnail_url',\n",
    "                           'medium_url','jurisdiction_names','license','square_feet',\n",
    "                           'monthly_price','weekly_price','country','country_code',\n",
    "                           'state','city','street','neighbourhood','zipcode','market', 'availability_60',\n",
    "                           'smart_location','is_location_exact','host_id','scrape_id', 'availability_90',\n",
    "                           'last_scraped','name','summary','space', 'availability_30',\n",
    "                           'neighborhood_overview','notes','transit','access','interaction',\n",
    "                           'house_rules','experiences_offered','picture_url','host_id','bed_type',\n",
    "                           'host_url','host_name','host_location','host_about','host_thumbnail_url',\n",
    "                           'host_picture_url','host_neighbourhood','host_verifications','calendar_last_scraped',\n",
    "                           'host_total_listings_count', 'host_listings_count','calendar_updated',\n",
    "                           'calculated_host_listings_count_entire_homes', 'calculated_host_listings_count_private_rooms', \n",
    "                           'calculated_host_listings_count_shared_rooms','minimum_minimum_nights', 'maximum_minimum_nights',\n",
    "                           'minimum_maximum_nights', 'maximum_maximum_nights', 'minimum_nights_avg_ntm', 'maximum_nights_avg_ntm',\n",
    "                           'has_availability', 'host_has_profile_pic', 'is_business_travel_ready', \n",
    "                           'require_guest_phone_verification', 'require_guest_profile_picture', 'requires_license',\n",
    "                           'number_of_reviews_ltm', 'reviews_per_month'], axis=1)\n",
    "\n",
    "raw_data.set_index('id', inplace = True)"
   ]
  },
  {
   "cell_type": "code",
   "execution_count": 33,
   "metadata": {
    "ExecuteTime": {
     "end_time": "2020-05-10T17:25:33.660105Z",
     "start_time": "2020-05-10T17:25:33.439085Z"
    }
   },
   "outputs": [],
   "source": [
    "raw_data.rename(columns={'neighbourhood_cleansed': 'neighbourhood'}, inplace=True)"
   ]
  },
  {
   "cell_type": "code",
   "execution_count": 34,
   "metadata": {
    "ExecuteTime": {
     "end_time": "2020-05-10T17:25:34.113049Z",
     "start_time": "2020-05-10T17:25:33.670815Z"
    }
   },
   "outputs": [
    {
     "name": "stdout",
     "output_type": "stream",
     "text": [
      "<class 'pandas.core.frame.DataFrame'>\n",
      "Int64Index: 67323 entries, 3109 to 42913034\n",
      "Data columns (total 39 columns):\n",
      "listing_url                       67323 non-null object\n",
      "description                       66206 non-null object\n",
      "host_since                        67315 non-null object\n",
      "host_response_time                37207 non-null object\n",
      "host_response_rate                37207 non-null object\n",
      "host_acceptance_rate              47482 non-null object\n",
      "host_is_superhost                 67315 non-null object\n",
      "host_identity_verified            67315 non-null object\n",
      "neighbourhood                     67323 non-null object\n",
      "latitude                          67323 non-null float64\n",
      "longitude                         67323 non-null float64\n",
      "property_type                     67323 non-null object\n",
      "room_type                         67323 non-null object\n",
      "accommodates                      67323 non-null int64\n",
      "bathrooms                         67272 non-null float64\n",
      "bedrooms                          67179 non-null float64\n",
      "beds                              66787 non-null float64\n",
      "amenities                         67323 non-null object\n",
      "price                             67323 non-null object\n",
      "security_deposit                  47641 non-null object\n",
      "cleaning_fee                      50501 non-null object\n",
      "guests_included                   67323 non-null int64\n",
      "extra_people                      67323 non-null object\n",
      "minimum_nights                    67323 non-null int64\n",
      "maximum_nights                    67323 non-null int64\n",
      "availability_365                  67323 non-null int64\n",
      "number_of_reviews                 67323 non-null int64\n",
      "first_review                      53400 non-null object\n",
      "last_review                       53400 non-null object\n",
      "review_scores_rating              52303 non-null float64\n",
      "review_scores_accuracy            52249 non-null float64\n",
      "review_scores_cleanliness         52260 non-null float64\n",
      "review_scores_checkin             52233 non-null float64\n",
      "review_scores_communication       52255 non-null float64\n",
      "review_scores_location            52234 non-null float64\n",
      "review_scores_value               52234 non-null float64\n",
      "instant_bookable                  67323 non-null bool\n",
      "cancellation_policy               67323 non-null object\n",
      "calculated_host_listings_count    67323 non-null int64\n",
      "dtypes: bool(1), float64(12), int64(7), object(19)\n",
      "memory usage: 20.1+ MB\n"
     ]
    }
   ],
   "source": [
    "raw_data.info()"
   ]
  },
  {
   "cell_type": "markdown",
   "metadata": {
    "ExecuteTime": {
     "end_time": "2020-04-26T06:50:21.381507Z",
     "start_time": "2020-04-26T06:50:21.374568Z"
    }
   },
   "source": [
    "# Feature Engineering"
   ]
  },
  {
   "cell_type": "markdown",
   "metadata": {
    "ExecuteTime": {
     "end_time": "2020-04-18T09:54:48.553676Z",
     "start_time": "2020-04-18T09:54:48.532492Z"
    }
   },
   "source": [
    "## A closer look at the price columns"
   ]
  },
  {
   "cell_type": "code",
   "execution_count": 35,
   "metadata": {
    "ExecuteTime": {
     "end_time": "2020-05-10T17:25:34.221598Z",
     "start_time": "2020-05-10T17:25:34.130638Z"
    }
   },
   "outputs": [
    {
     "data": {
      "text/html": [
       "<div>\n",
       "<style scoped>\n",
       "    .dataframe tbody tr th:only-of-type {\n",
       "        vertical-align: middle;\n",
       "    }\n",
       "\n",
       "    .dataframe tbody tr th {\n",
       "        vertical-align: top;\n",
       "    }\n",
       "\n",
       "    .dataframe thead th {\n",
       "        text-align: right;\n",
       "    }\n",
       "</style>\n",
       "<table border=\"1\" class=\"dataframe\">\n",
       "  <thead>\n",
       "    <tr style=\"text-align: right;\">\n",
       "      <th></th>\n",
       "      <th>price</th>\n",
       "      <th>cleaning_fee</th>\n",
       "      <th>extra_people</th>\n",
       "      <th>security_deposit</th>\n",
       "    </tr>\n",
       "    <tr>\n",
       "      <th>id</th>\n",
       "      <th></th>\n",
       "      <th></th>\n",
       "      <th></th>\n",
       "      <th></th>\n",
       "    </tr>\n",
       "  </thead>\n",
       "  <tbody>\n",
       "    <tr>\n",
       "      <th>3109</th>\n",
       "      <td>$60.00</td>\n",
       "      <td>$60.00</td>\n",
       "      <td>$0.00</td>\n",
       "      <td>$150.00</td>\n",
       "    </tr>\n",
       "    <tr>\n",
       "      <th>5396</th>\n",
       "      <td>$115.00</td>\n",
       "      <td>$36.00</td>\n",
       "      <td>$0.00</td>\n",
       "      <td>$0.00</td>\n",
       "    </tr>\n",
       "    <tr>\n",
       "      <th>7397</th>\n",
       "      <td>$119.00</td>\n",
       "      <td>$50.00</td>\n",
       "      <td>$10.00</td>\n",
       "      <td>$200.00</td>\n",
       "    </tr>\n",
       "    <tr>\n",
       "      <th>7964</th>\n",
       "      <td>$130.00</td>\n",
       "      <td>$60.00</td>\n",
       "      <td>$20.00</td>\n",
       "      <td>$500.00</td>\n",
       "    </tr>\n",
       "    <tr>\n",
       "      <th>9359</th>\n",
       "      <td>$75.00</td>\n",
       "      <td>$200.00</td>\n",
       "      <td>$30.00</td>\n",
       "      <td>$1,500.00</td>\n",
       "    </tr>\n",
       "  </tbody>\n",
       "</table>\n",
       "</div>"
      ],
      "text/plain": [
       "        price cleaning_fee extra_people security_deposit\n",
       "id                                                      \n",
       "3109   $60.00       $60.00        $0.00          $150.00\n",
       "5396  $115.00       $36.00        $0.00            $0.00\n",
       "7397  $119.00       $50.00       $10.00          $200.00\n",
       "7964  $130.00       $60.00       $20.00          $500.00\n",
       "9359   $75.00      $200.00       $30.00        $1,500.00"
      ]
     },
     "execution_count": 35,
     "metadata": {},
     "output_type": "execute_result"
    }
   ],
   "source": [
    "# All prices are euro prices and should be transformed to floats for the regression\n",
    "raw_data[['price','cleaning_fee', 'extra_people', 'security_deposit']].head()"
   ]
  },
  {
   "cell_type": "code",
   "execution_count": 36,
   "metadata": {
    "ExecuteTime": {
     "end_time": "2020-05-10T17:25:34.367707Z",
     "start_time": "2020-05-10T17:25:34.241906Z"
    }
   },
   "outputs": [
    {
     "name": "stdout",
     "output_type": "stream",
     "text": [
      "<class 'pandas.core.frame.DataFrame'>\n",
      "Int64Index: 67323 entries, 3109 to 42913034\n",
      "Data columns (total 4 columns):\n",
      "price               67323 non-null object\n",
      "cleaning_fee        50501 non-null object\n",
      "extra_people        67323 non-null object\n",
      "security_deposit    47641 non-null object\n",
      "dtypes: object(4)\n",
      "memory usage: 2.6+ MB\n"
     ]
    }
   ],
   "source": [
    "raw_data[['price','cleaning_fee', 'extra_people', 'security_deposit']].info()"
   ]
  },
  {
   "cell_type": "code",
   "execution_count": 37,
   "metadata": {
    "ExecuteTime": {
     "end_time": "2020-05-10T17:25:34.552979Z",
     "start_time": "2020-05-10T17:25:34.388731Z"
    }
   },
   "outputs": [],
   "source": [
    "raw_data.cleaning_fee.fillna('0', inplace=True)\n",
    "raw_data.security_deposit.fillna('0', inplace=True)"
   ]
  },
  {
   "cell_type": "code",
   "execution_count": 38,
   "metadata": {
    "ExecuteTime": {
     "end_time": "2020-05-10T17:25:38.567411Z",
     "start_time": "2020-05-10T17:25:34.557579Z"
    }
   },
   "outputs": [],
   "source": [
    "price_list = ['price','cleaning_fee', 'extra_people', 'security_deposit']\n",
    "for i in price_list:\n",
    "    raw_data[i] = [float(re.sub(r'[^\\d.]', '', a)) for a in raw_data[i]]"
   ]
  },
  {
   "cell_type": "code",
   "execution_count": 39,
   "metadata": {
    "ExecuteTime": {
     "end_time": "2020-05-10T17:25:40.750277Z",
     "start_time": "2020-05-10T17:25:38.576485Z"
    }
   },
   "outputs": [
    {
     "data": {
      "image/png": "[encoded data removed]",
      "text/plain": [
       "<Figure size 842.4x595.44 with 1 Axes>"
      ]
     },
     "metadata": {},
     "output_type": "display_data"
    }
   ],
   "source": [
    "sns.boxplot(x=raw_data[\"price\"]);"
   ]
  },
  {
   "cell_type": "code",
   "execution_count": 40,
   "metadata": {
    "ExecuteTime": {
     "end_time": "2020-05-10T17:25:42.501935Z",
     "start_time": "2020-05-10T17:25:40.766751Z"
    }
   },
   "outputs": [
    {
     "data": {
      "image/png": "[encoded data removed]",
      "text/plain": [
       "<Figure size 1152x144 with 1 Axes>"
      ]
     },
     "metadata": {},
     "output_type": "display_data"
    }
   ],
   "source": [
    "red_square = dict(markerfacecolor='r', markeredgecolor='r', marker='.')\n",
    "raw_data['price'].plot(kind='box', xlim=(0, 1000), vert=False, flierprops=red_square, figsize=(16,2));"
   ]
  },
  {
   "cell_type": "code",
   "execution_count": 41,
   "metadata": {
    "ExecuteTime": {
     "end_time": "2020-05-10T17:25:42.768881Z",
     "start_time": "2020-05-10T17:25:42.538784Z"
    }
   },
   "outputs": [],
   "source": [
    "# Prices above 600 and equal to zero are dropped to make the dataset more realistic and stable. \n",
    "raw_data.drop(raw_data[ (raw_data.price > 600) | (raw_data.price == 0) ].index, axis=0, inplace=True)"
   ]
  },
  {
   "cell_type": "markdown",
   "metadata": {
    "ExecuteTime": {
     "end_time": "2020-04-18T11:41:03.823035Z",
     "start_time": "2020-04-18T11:41:03.817416Z"
    }
   },
   "source": [
    "## Bedrooms / Bathrooms / Beds "
   ]
  },
  {
   "cell_type": "code",
   "execution_count": 42,
   "metadata": {
    "ExecuteTime": {
     "end_time": "2020-05-10T17:25:54.484311Z",
     "start_time": "2020-05-10T17:25:42.777941Z"
    }
   },
   "outputs": [
    {
     "data": {
      "image/png": "[encoded data removed]",
      "text/plain": [
       "<Figure size 1440x360 with 2 Axes>"
      ]
     },
     "metadata": {},
     "output_type": "display_data"
    }
   ],
   "source": [
    "fig, ax = plt.subplots(figsize = (20, 5))\n",
    "sns.heatmap(raw_data.isna(), cmap = \"cubehelix_r\", yticklabels='')\n",
    "plt.show()"
   ]
  },
  {
   "cell_type": "code",
   "execution_count": 43,
   "metadata": {
    "ExecuteTime": {
     "end_time": "2020-05-10T17:25:54.636134Z",
     "start_time": "2020-05-10T17:25:54.517524Z"
    }
   },
   "outputs": [],
   "source": [
    "# just a few missing columns\n",
    "raw_data.dropna(subset=['bathrooms', 'bedrooms', 'beds', ], inplace=True)"
   ]
  },
  {
   "cell_type": "markdown",
   "metadata": {},
   "source": [
    "## host "
   ]
  },
  {
   "cell_type": "markdown",
   "metadata": {},
   "source": [
    "### host_identity_verified "
   ]
  },
  {
   "cell_type": "code",
   "execution_count": 44,
   "metadata": {
    "ExecuteTime": {
     "end_time": "2020-05-10T17:25:54.730757Z",
     "start_time": "2020-05-10T17:25:54.667346Z"
    }
   },
   "outputs": [
    {
     "data": {
      "text/plain": [
       "array([False, True, nan], dtype=object)"
      ]
     },
     "execution_count": 44,
     "metadata": {},
     "output_type": "execute_result"
    }
   ],
   "source": [
    "raw_data.host_identity_verified.unique()"
   ]
  },
  {
   "cell_type": "code",
   "execution_count": 45,
   "metadata": {
    "ExecuteTime": {
     "end_time": "2020-05-10T17:25:54.988981Z",
     "start_time": "2020-05-10T17:25:54.756815Z"
    }
   },
   "outputs": [],
   "source": [
    "raw_data[['host_identity_verified']] = raw_data[['host_identity_verified']].applymap(bool)"
   ]
  },
  {
   "cell_type": "code",
   "execution_count": 46,
   "metadata": {
    "ExecuteTime": {
     "end_time": "2020-05-10T17:25:55.044860Z",
     "start_time": "2020-05-10T17:25:55.023835Z"
    }
   },
   "outputs": [
    {
     "data": {
      "text/plain": [
       "array([False,  True])"
      ]
     },
     "execution_count": 46,
     "metadata": {},
     "output_type": "execute_result"
    }
   ],
   "source": [
    "raw_data.host_identity_verified.unique()"
   ]
  },
  {
   "cell_type": "markdown",
   "metadata": {},
   "source": [
    "### host_is_superhost "
   ]
  },
  {
   "cell_type": "code",
   "execution_count": 47,
   "metadata": {
    "ExecuteTime": {
     "end_time": "2020-05-10T17:25:55.513486Z",
     "start_time": "2020-05-10T17:25:55.067826Z"
    }
   },
   "outputs": [],
   "source": [
    "# just a few missing columns, that can be dropped\n",
    "raw_data.dropna(subset=['host_is_superhost'], inplace=True)\n",
    "raw_data[['host_is_superhost']] = raw_data[['host_is_superhost']].applymap(bool)"
   ]
  },
  {
   "cell_type": "code",
   "execution_count": 48,
   "metadata": {
    "ExecuteTime": {
     "end_time": "2020-05-10T17:25:55.945447Z",
     "start_time": "2020-05-10T17:25:55.518255Z"
    }
   },
   "outputs": [
    {
     "name": "stdout",
     "output_type": "stream",
     "text": [
      "<class 'pandas.core.frame.DataFrame'>\n",
      "Int64Index: 65575 entries, 3109 to 42913034\n",
      "Data columns (total 39 columns):\n",
      "listing_url                       65575 non-null object\n",
      "description                       64559 non-null object\n",
      "host_since                        65575 non-null object\n",
      "host_response_time                35811 non-null object\n",
      "host_response_rate                35811 non-null object\n",
      "host_acceptance_rate              46031 non-null object\n",
      "host_is_superhost                 65575 non-null bool\n",
      "host_identity_verified            65575 non-null bool\n",
      "neighbourhood                     65575 non-null object\n",
      "latitude                          65575 non-null float64\n",
      "longitude                         65575 non-null float64\n",
      "property_type                     65575 non-null object\n",
      "room_type                         65575 non-null object\n",
      "accommodates                      65575 non-null int64\n",
      "bathrooms                         65575 non-null float64\n",
      "bedrooms                          65575 non-null float64\n",
      "beds                              65575 non-null float64\n",
      "amenities                         65575 non-null object\n",
      "price                             65575 non-null float64\n",
      "security_deposit                  65575 non-null float64\n",
      "cleaning_fee                      65575 non-null float64\n",
      "guests_included                   65575 non-null int64\n",
      "extra_people                      65575 non-null float64\n",
      "minimum_nights                    65575 non-null int64\n",
      "maximum_nights                    65575 non-null int64\n",
      "availability_365                  65575 non-null int64\n",
      "number_of_reviews                 65575 non-null int64\n",
      "first_review                      52570 non-null object\n",
      "last_review                       52570 non-null object\n",
      "review_scores_rating              51496 non-null float64\n",
      "review_scores_accuracy            51446 non-null float64\n",
      "review_scores_cleanliness         51456 non-null float64\n",
      "review_scores_checkin             51430 non-null float64\n",
      "review_scores_communication       51451 non-null float64\n",
      "review_scores_location            51431 non-null float64\n",
      "review_scores_value               51431 non-null float64\n",
      "instant_bookable                  65575 non-null bool\n",
      "cancellation_policy               65575 non-null object\n",
      "calculated_host_listings_count    65575 non-null int64\n",
      "dtypes: bool(3), float64(16), int64(7), object(13)\n",
      "memory usage: 18.7+ MB\n"
     ]
    }
   ],
   "source": [
    "raw_data.info()"
   ]
  },
  {
   "cell_type": "markdown",
   "metadata": {
    "ExecuteTime": {
     "end_time": "2020-04-23T10:16:07.866653Z",
     "start_time": "2020-04-23T10:16:07.841079Z"
    }
   },
   "source": [
    "### host_since "
   ]
  },
  {
   "cell_type": "code",
   "execution_count": 49,
   "metadata": {
    "ExecuteTime": {
     "end_time": "2020-05-10T17:25:56.276332Z",
     "start_time": "2020-05-10T17:25:55.971596Z"
    }
   },
   "outputs": [
    {
     "name": "stdout",
     "output_type": "stream",
     "text": [
      "Mean days as host: 1642.0\n",
      "Median days as host: 1728.0\n"
     ]
    }
   ],
   "source": [
    "# Converting to datetime\n",
    "raw_data.host_since = pd.to_datetime(raw_data.host_since) \n",
    "# Calculating the number of days\n",
    "raw_data['host_days_active'] = (datetime(2020, 3, 20) - raw_data.host_since).astype('timedelta64[D]')\n",
    "# Printing mean and median\n",
    "print(\"Mean days as host:\", round(raw_data['host_days_active'].mean(),0))\n",
    "print(\"Median days as host:\", raw_data['host_days_active'].median())\n",
    "# Replacing null values with the median\n",
    "raw_data.host_days_active.fillna(raw_data.host_days_active.median(), inplace=True)"
   ]
  },
  {
   "cell_type": "markdown",
   "metadata": {},
   "source": [
    "### host_acceptance_rate "
   ]
  },
  {
   "cell_type": "code",
   "execution_count": 50,
   "metadata": {
    "ExecuteTime": {
     "end_time": "2020-05-10T17:25:57.056352Z",
     "start_time": "2020-05-10T17:25:56.289109Z"
    },
    "scrolled": true
   },
   "outputs": [
    {
     "data": {
      "text/plain": [
       "60-99%     21210\n",
       "unknown    19544\n",
       "100%       16019\n",
       "0-59%       8802\n",
       "Name: host_acceptance_rate, dtype: int64"
      ]
     },
     "execution_count": 50,
     "metadata": {},
     "output_type": "execute_result"
    }
   ],
   "source": [
    "# Removing the % sign from the host_response_rate string and converting to an integer\n",
    "raw_data['host_acceptance_rate'] = [float(re.sub(r'[^\\d.]', '', a)) if type(a)!=float else float(a) for a in raw_data['host_acceptance_rate']]\n",
    "# Bin into four categories\n",
    "raw_data.host_acceptance_rate = pd.cut(raw_data.host_acceptance_rate, bins=[0, 60, 99, 100], labels=['0-59%', '60-99%', '100%'], include_lowest=True)\n",
    "# Converting to string\n",
    "raw_data.host_acceptance_rate = raw_data.host_acceptance_rate.astype('str')\n",
    "# Replace nulls with 'unknown'\n",
    "raw_data.host_acceptance_rate.replace('nan', 'unknown', inplace=True)\n",
    "# Category counts\n",
    "raw_data.host_acceptance_rate.value_counts()"
   ]
  },
  {
   "cell_type": "markdown",
   "metadata": {
    "ExecuteTime": {
     "end_time": "2020-04-20T13:32:34.987085Z",
     "start_time": "2020-04-20T13:32:34.982123Z"
    }
   },
   "source": [
    "### host_response_rate "
   ]
  },
  {
   "cell_type": "code",
   "execution_count": 51,
   "metadata": {
    "ExecuteTime": {
     "end_time": "2020-05-10T17:25:57.681894Z",
     "start_time": "2020-05-10T17:25:57.073127Z"
    }
   },
   "outputs": [
    {
     "data": {
      "text/plain": [
       "unknown    29764\n",
       "100%       25675\n",
       "60-99%      7791\n",
       "0-59%       2345\n",
       "Name: host_response_rate, dtype: int64"
      ]
     },
     "execution_count": 51,
     "metadata": {},
     "output_type": "execute_result"
    }
   ],
   "source": [
    "# Removing the % sign from the host_response_rate string and converting to an integer\n",
    "raw_data['host_response_rate'] = [float(re.sub(r'[^\\d.]', '', a)) if type(a)!=float else float(a) for a in raw_data['host_response_rate']]\n",
    "# Bin into four categories\n",
    "raw_data.host_response_rate = pd.cut(raw_data.host_response_rate, bins=[0, 60, 99, 100], labels=['0-59%', '60-99%', '100%'], include_lowest=True)\n",
    "# Converting to string\n",
    "raw_data.host_response_rate = raw_data.host_response_rate.astype('str')\n",
    "# Replace nulls with 'unknown'\n",
    "raw_data.host_response_rate.replace('nan', 'unknown', inplace=True)\n",
    "# Category counts\n",
    "raw_data.host_response_rate.value_counts()"
   ]
  },
  {
   "cell_type": "markdown",
   "metadata": {},
   "source": [
    "### host_response_time "
   ]
  },
  {
   "cell_type": "code",
   "execution_count": 52,
   "metadata": {
    "ExecuteTime": {
     "end_time": "2020-05-10T17:25:57.777642Z",
     "start_time": "2020-05-10T17:25:57.710407Z"
    }
   },
   "outputs": [
    {
     "data": {
      "text/plain": [
       "unknown               29764\n",
       "within an hour        21232\n",
       "within a few hours     7410\n",
       "within a day           5850\n",
       "a few days or more     1319\n",
       "Name: host_response_time, dtype: int64"
      ]
     },
     "execution_count": 52,
     "metadata": {},
     "output_type": "execute_result"
    }
   ],
   "source": [
    "# Replace nulls with 'unknown'\n",
    "raw_data.host_response_time.fillna(\"unknown\", inplace=True)\n",
    "# Category counts\n",
    "raw_data.host_response_time.value_counts()"
   ]
  },
  {
   "cell_type": "markdown",
   "metadata": {
    "ExecuteTime": {
     "end_time": "2020-04-20T12:59:56.420228Z",
     "start_time": "2020-04-20T12:59:56.416742Z"
    }
   },
   "source": [
    "## amenities "
   ]
  },
  {
   "cell_type": "markdown",
   "metadata": {},
   "source": [
    "### How many amenities per listing are there?"
   ]
  },
  {
   "cell_type": "code",
   "execution_count": 53,
   "metadata": {
    "ExecuteTime": {
     "end_time": "2020-05-10T17:25:58.283095Z",
     "start_time": "2020-05-10T17:25:57.814675Z"
    }
   },
   "outputs": [
    {
     "data": {
      "text/html": [
       "<div>\n",
       "<style scoped>\n",
       "    .dataframe tbody tr th:only-of-type {\n",
       "        vertical-align: middle;\n",
       "    }\n",
       "\n",
       "    .dataframe tbody tr th {\n",
       "        vertical-align: top;\n",
       "    }\n",
       "\n",
       "    .dataframe thead th {\n",
       "        text-align: right;\n",
       "    }\n",
       "</style>\n",
       "<table border=\"1\" class=\"dataframe\">\n",
       "  <thead>\n",
       "    <tr style=\"text-align: right;\">\n",
       "      <th></th>\n",
       "      <th>listing_url</th>\n",
       "      <th>description</th>\n",
       "      <th>host_since</th>\n",
       "      <th>host_response_time</th>\n",
       "      <th>host_response_rate</th>\n",
       "      <th>host_acceptance_rate</th>\n",
       "      <th>host_is_superhost</th>\n",
       "      <th>host_identity_verified</th>\n",
       "      <th>neighbourhood</th>\n",
       "      <th>latitude</th>\n",
       "      <th>longitude</th>\n",
       "      <th>property_type</th>\n",
       "      <th>room_type</th>\n",
       "      <th>accommodates</th>\n",
       "      <th>bathrooms</th>\n",
       "      <th>bedrooms</th>\n",
       "      <th>beds</th>\n",
       "      <th>amenities</th>\n",
       "      <th>price</th>\n",
       "      <th>security_deposit</th>\n",
       "      <th>cleaning_fee</th>\n",
       "      <th>guests_included</th>\n",
       "      <th>extra_people</th>\n",
       "      <th>minimum_nights</th>\n",
       "      <th>maximum_nights</th>\n",
       "      <th>availability_365</th>\n",
       "      <th>number_of_reviews</th>\n",
       "      <th>first_review</th>\n",
       "      <th>last_review</th>\n",
       "      <th>review_scores_rating</th>\n",
       "      <th>review_scores_accuracy</th>\n",
       "      <th>review_scores_cleanliness</th>\n",
       "      <th>review_scores_checkin</th>\n",
       "      <th>review_scores_communication</th>\n",
       "      <th>review_scores_location</th>\n",
       "      <th>review_scores_value</th>\n",
       "      <th>instant_bookable</th>\n",
       "      <th>cancellation_policy</th>\n",
       "      <th>calculated_host_listings_count</th>\n",
       "      <th>host_days_active</th>\n",
       "      <th>amenities_count</th>\n",
       "    </tr>\n",
       "    <tr>\n",
       "      <th>id</th>\n",
       "      <th></th>\n",
       "      <th></th>\n",
       "      <th></th>\n",
       "      <th></th>\n",
       "      <th></th>\n",
       "      <th></th>\n",
       "      <th></th>\n",
       "      <th></th>\n",
       "      <th></th>\n",
       "      <th></th>\n",
       "      <th></th>\n",
       "      <th></th>\n",
       "      <th></th>\n",
       "      <th></th>\n",
       "      <th></th>\n",
       "      <th></th>\n",
       "      <th></th>\n",
       "      <th></th>\n",
       "      <th></th>\n",
       "      <th></th>\n",
       "      <th></th>\n",
       "      <th></th>\n",
       "      <th></th>\n",
       "      <th></th>\n",
       "      <th></th>\n",
       "      <th></th>\n",
       "      <th></th>\n",
       "      <th></th>\n",
       "      <th></th>\n",
       "      <th></th>\n",
       "      <th></th>\n",
       "      <th></th>\n",
       "      <th></th>\n",
       "      <th></th>\n",
       "      <th></th>\n",
       "      <th></th>\n",
       "      <th></th>\n",
       "      <th></th>\n",
       "      <th></th>\n",
       "      <th></th>\n",
       "      <th></th>\n",
       "    </tr>\n",
       "  </thead>\n",
       "  <tbody>\n",
       "    <tr>\n",
       "      <th>3109</th>\n",
       "      <td>https://www.airbnb.com/rooms/3109</td>\n",
       "      <td>I bedroom appartment in Paris 14 Good restaura...</td>\n",
       "      <td>2008-10-14</td>\n",
       "      <td>within a few hours</td>\n",
       "      <td>100%</td>\n",
       "      <td>0-59%</td>\n",
       "      <td>False</td>\n",
       "      <td>False</td>\n",
       "      <td>Observatoire</td>\n",
       "      <td>48.83349</td>\n",
       "      <td>2.31852</td>\n",
       "      <td>Apartment</td>\n",
       "      <td>Entire home/apt</td>\n",
       "      <td>2</td>\n",
       "      <td>1.0</td>\n",
       "      <td>0.0</td>\n",
       "      <td>1.0</td>\n",
       "      <td>{Internet,Wifi,Kitchen,\"Paid parking off premi...</td>\n",
       "      <td>60.0</td>\n",
       "      <td>150.0</td>\n",
       "      <td>60.0</td>\n",
       "      <td>1</td>\n",
       "      <td>0.0</td>\n",
       "      <td>2</td>\n",
       "      <td>30</td>\n",
       "      <td>351</td>\n",
       "      <td>9</td>\n",
       "      <td>2016-12-27</td>\n",
       "      <td>2019-10-24</td>\n",
       "      <td>100.0</td>\n",
       "      <td>10.0</td>\n",
       "      <td>10.0</td>\n",
       "      <td>10.0</td>\n",
       "      <td>10.0</td>\n",
       "      <td>10.0</td>\n",
       "      <td>10.0</td>\n",
       "      <td>False</td>\n",
       "      <td>flexible</td>\n",
       "      <td>1</td>\n",
       "      <td>4175.0</td>\n",
       "      <td>16</td>\n",
       "    </tr>\n",
       "    <tr>\n",
       "      <th>5396</th>\n",
       "      <td>https://www.airbnb.com/rooms/5396</td>\n",
       "      <td>Cozy, well-appointed and graciously designed s...</td>\n",
       "      <td>2009-02-14</td>\n",
       "      <td>within an hour</td>\n",
       "      <td>100%</td>\n",
       "      <td>100%</td>\n",
       "      <td>False</td>\n",
       "      <td>True</td>\n",
       "      <td>Hôtel-de-Ville</td>\n",
       "      <td>48.85100</td>\n",
       "      <td>2.35869</td>\n",
       "      <td>Apartment</td>\n",
       "      <td>Entire home/apt</td>\n",
       "      <td>2</td>\n",
       "      <td>1.0</td>\n",
       "      <td>0.0</td>\n",
       "      <td>1.0</td>\n",
       "      <td>{Internet,Wifi,Kitchen,Heating,Washer,\"Smoke d...</td>\n",
       "      <td>115.0</td>\n",
       "      <td>0.0</td>\n",
       "      <td>36.0</td>\n",
       "      <td>1</td>\n",
       "      <td>0.0</td>\n",
       "      <td>1</td>\n",
       "      <td>2</td>\n",
       "      <td>32</td>\n",
       "      <td>215</td>\n",
       "      <td>2009-06-30</td>\n",
       "      <td>2020-03-01</td>\n",
       "      <td>90.0</td>\n",
       "      <td>8.0</td>\n",
       "      <td>8.0</td>\n",
       "      <td>9.0</td>\n",
       "      <td>9.0</td>\n",
       "      <td>10.0</td>\n",
       "      <td>8.0</td>\n",
       "      <td>True</td>\n",
       "      <td>strict_14_with_grace_period</td>\n",
       "      <td>1</td>\n",
       "      <td>4052.0</td>\n",
       "      <td>17</td>\n",
       "    </tr>\n",
       "    <tr>\n",
       "      <th>7397</th>\n",
       "      <td>https://www.airbnb.com/rooms/7397</td>\n",
       "      <td>VERY CONVENIENT, WITH THE BEST LOCATION ! PLEA...</td>\n",
       "      <td>2008-08-30</td>\n",
       "      <td>within an hour</td>\n",
       "      <td>100%</td>\n",
       "      <td>60-99%</td>\n",
       "      <td>True</td>\n",
       "      <td>True</td>\n",
       "      <td>Hôtel-de-Ville</td>\n",
       "      <td>48.85758</td>\n",
       "      <td>2.35275</td>\n",
       "      <td>Apartment</td>\n",
       "      <td>Entire home/apt</td>\n",
       "      <td>4</td>\n",
       "      <td>1.0</td>\n",
       "      <td>2.0</td>\n",
       "      <td>2.0</td>\n",
       "      <td>{TV,\"Cable TV\",Internet,Wifi,Kitchen,\"Paid par...</td>\n",
       "      <td>119.0</td>\n",
       "      <td>200.0</td>\n",
       "      <td>50.0</td>\n",
       "      <td>2</td>\n",
       "      <td>10.0</td>\n",
       "      <td>4</td>\n",
       "      <td>23</td>\n",
       "      <td>238</td>\n",
       "      <td>268</td>\n",
       "      <td>2011-04-08</td>\n",
       "      <td>2020-02-26</td>\n",
       "      <td>94.0</td>\n",
       "      <td>10.0</td>\n",
       "      <td>9.0</td>\n",
       "      <td>10.0</td>\n",
       "      <td>10.0</td>\n",
       "      <td>10.0</td>\n",
       "      <td>10.0</td>\n",
       "      <td>False</td>\n",
       "      <td>moderate</td>\n",
       "      <td>1</td>\n",
       "      <td>4220.0</td>\n",
       "      <td>30</td>\n",
       "    </tr>\n",
       "  </tbody>\n",
       "</table>\n",
       "</div>"
      ],
      "text/plain": [
       "                            listing_url  \\\n",
       "id                                        \n",
       "3109  https://www.airbnb.com/rooms/3109   \n",
       "5396  https://www.airbnb.com/rooms/5396   \n",
       "7397  https://www.airbnb.com/rooms/7397   \n",
       "\n",
       "                                            description host_since  \\\n",
       "id                                                                   \n",
       "3109  I bedroom appartment in Paris 14 Good restaura... 2008-10-14   \n",
       "5396  Cozy, well-appointed and graciously designed s... 2009-02-14   \n",
       "7397  VERY CONVENIENT, WITH THE BEST LOCATION ! PLEA... 2008-08-30   \n",
       "\n",
       "      host_response_time host_response_rate host_acceptance_rate  \\\n",
       "id                                                                 \n",
       "3109  within a few hours               100%                0-59%   \n",
       "5396      within an hour               100%                 100%   \n",
       "7397      within an hour               100%               60-99%   \n",
       "\n",
       "      host_is_superhost  host_identity_verified   neighbourhood  latitude  \\\n",
       "id                                                                          \n",
       "3109              False                   False    Observatoire  48.83349   \n",
       "5396              False                    True  Hôtel-de-Ville  48.85100   \n",
       "7397               True                    True  Hôtel-de-Ville  48.85758   \n",
       "\n",
       "      longitude property_type        room_type  accommodates  bathrooms  \\\n",
       "id                                                                        \n",
       "3109    2.31852     Apartment  Entire home/apt             2        1.0   \n",
       "5396    2.35869     Apartment  Entire home/apt             2        1.0   \n",
       "7397    2.35275     Apartment  Entire home/apt             4        1.0   \n",
       "\n",
       "      bedrooms  beds                                          amenities  \\\n",
       "id                                                                        \n",
       "3109       0.0   1.0  {Internet,Wifi,Kitchen,\"Paid parking off premi...   \n",
       "5396       0.0   1.0  {Internet,Wifi,Kitchen,Heating,Washer,\"Smoke d...   \n",
       "7397       2.0   2.0  {TV,\"Cable TV\",Internet,Wifi,Kitchen,\"Paid par...   \n",
       "\n",
       "      price  security_deposit  cleaning_fee  guests_included  extra_people  \\\n",
       "id                                                                           \n",
       "3109   60.0             150.0          60.0                1           0.0   \n",
       "5396  115.0               0.0          36.0                1           0.0   \n",
       "7397  119.0             200.0          50.0                2          10.0   \n",
       "\n",
       "      minimum_nights  maximum_nights  availability_365  number_of_reviews  \\\n",
       "id                                                                          \n",
       "3109               2              30               351                  9   \n",
       "5396               1               2                32                215   \n",
       "7397               4              23               238                268   \n",
       "\n",
       "     first_review last_review  review_scores_rating  review_scores_accuracy  \\\n",
       "id                                                                            \n",
       "3109   2016-12-27  2019-10-24                 100.0                    10.0   \n",
       "5396   2009-06-30  2020-03-01                  90.0                     8.0   \n",
       "7397   2011-04-08  2020-02-26                  94.0                    10.0   \n",
       "\n",
       "      review_scores_cleanliness  review_scores_checkin  \\\n",
       "id                                                       \n",
       "3109                       10.0                   10.0   \n",
       "5396                        8.0                    9.0   \n",
       "7397                        9.0                   10.0   \n",
       "\n",
       "      review_scores_communication  review_scores_location  \\\n",
       "id                                                          \n",
       "3109                         10.0                    10.0   \n",
       "5396                          9.0                    10.0   \n",
       "7397                         10.0                    10.0   \n",
       "\n",
       "      review_scores_value  instant_bookable          cancellation_policy  \\\n",
       "id                                                                         \n",
       "3109                 10.0             False                     flexible   \n",
       "5396                  8.0              True  strict_14_with_grace_period   \n",
       "7397                 10.0             False                     moderate   \n",
       "\n",
       "      calculated_host_listings_count  host_days_active  amenities_count  \n",
       "id                                                                       \n",
       "3109                               1            4175.0               16  \n",
       "5396                               1            4052.0               17  \n",
       "7397                               1            4220.0               30  "
      ]
     },
     "execution_count": 53,
     "metadata": {},
     "output_type": "execute_result"
    }
   ],
   "source": [
    "# Count the amenities and create a new feature with it\n",
    "def amenities_counter(x):\n",
    "    return len(x.split(\",\"))\n",
    "\n",
    "raw_data['amenities_count'] = raw_data.amenities.map(amenities_counter)\n",
    "raw_data.head(3)"
   ]
  },
  {
   "cell_type": "markdown",
   "metadata": {
    "ExecuteTime": {
     "end_time": "2020-04-27T13:07:49.903938Z",
     "start_time": "2020-04-27T13:07:49.899111Z"
    }
   },
   "source": [
    "### What amenities are in the dataset?"
   ]
  },
  {
   "cell_type": "code",
   "execution_count": 54,
   "metadata": {
    "ExecuteTime": {
     "end_time": "2020-05-10T17:26:00.697505Z",
     "start_time": "2020-05-10T17:25:58.310412Z"
    }
   },
   "outputs": [
    {
     "data": {
      "text/plain": [
       "[('Heating', 62192),\n",
       " ('Kitchen', 61811),\n",
       " ('Wifi', 61535),\n",
       " ('Essentials', 61430),\n",
       " ('Washer', 50578),\n",
       " ('Hangers', 46886),\n",
       " ('Smoke detector', 46862),\n",
       " ('Hair dryer', 45258),\n",
       " ('Iron', 44446),\n",
       " ('TV', 42931),\n",
       " ('Shampoo', 41437),\n",
       " ('Laptop friendly workspace', 40100),\n",
       " ('Hot water', 35576),\n",
       " ('Refrigerator', 29625),\n",
       " ('Dishes and silverware', 29413),\n",
       " ('Elevator', 26231),\n",
       " ('Coffee maker', 24918),\n",
       " ('Bed linens', 24141),\n",
       " ('Cooking basics', 23839),\n",
       " ('Microwave', 22427),\n",
       " ('Oven', 20922),\n",
       " ('Internet', 19461),\n",
       " ('Stove', 19406),\n",
       " ('Family/kid friendly', 19313),\n",
       " ('Dryer', 18964),\n",
       " ('Cable TV', 15502),\n",
       " ('Carbon monoxide detector', 15142),\n",
       " ('Dishwasher', 13529),\n",
       " ('Host greets you', 12781),\n",
       " ('Paid parking off premises', 12732),\n",
       " ('Extra pillows and blankets', 10780),\n",
       " ('Buzzer/wireless intercom', 10566),\n",
       " ('Private entrance', 9496),\n",
       " ('Smoking allowed', 9150),\n",
       " ('Long term stays allowed', 8984),\n",
       " ('First aid kit', 8910),\n",
       " ('Luggage dropoff allowed', 8603),\n",
       " ('Breakfast', 8424),\n",
       " ('Fire extinguisher', 8318),\n",
       " ('translation missing: en.hosting_amenity_50', 7931),\n",
       " ('Lock on bedroom door', 6611),\n",
       " ('24-hour check-in', 6585),\n",
       " ('Self check-in', 6532),\n",
       " ('Safety card', 6288),\n",
       " ('Private living room', 6099),\n",
       " ('Pets allowed', 5770),\n",
       " ('translation missing: en.hosting_amenity_49', 5417),\n",
       " ('Patio or balcony', 4812),\n",
       " ('Air conditioning', 4750),\n",
       " ('Bathtub', 4322),\n",
       " ('Indoor fireplace', 4127),\n",
       " ('Lockbox', 4096),\n",
       " ('Ethernet connection', 3719),\n",
       " ('Other', 3522),\n",
       " ('Trash can', 3516),\n",
       " ('Pocket wifi', 3447),\n",
       " ('Pack ’n Play/travel crib', 3037),\n",
       " ('Shower gel', 2838),\n",
       " ('Children’s books and toys', 2784),\n",
       " ('Crib', 2669),\n",
       " ('Cleaning before checkout', 2558),\n",
       " ('Single level home', 2489),\n",
       " ('High chair', 2385),\n",
       " ('Free street parking', 2186),\n",
       " ('Free parking on premises', 2036),\n",
       " ('Room-darkening shades', 1985),\n",
       " ('Garden or backyard', 1895),\n",
       " ('Baking sheet', 1810),\n",
       " ('Building staff', 1718),\n",
       " ('Wheelchair accessible', 1616),\n",
       " ('Paid parking on premises', 1399),\n",
       " ('Suitable for events', 1354),\n",
       " ('No stairs or steps to enter', 1341),\n",
       " ('Children’s dinnerware', 1145),\n",
       " ('Babysitter recommendations', 1115),\n",
       " ('Baby bath', 958),\n",
       " ('Doorman', 906),\n",
       " ('Pets live on this property', 828),\n",
       " ('Changing table', 820),\n",
       " ('Game console', 676),\n",
       " ('Cat(s)', 544),\n",
       " ('Bread maker', 528),\n",
       " ('Window guards', 512),\n",
       " ('Gym', 506),\n",
       " ('Outlet covers', 501),\n",
       " ('Keypad', 480),\n",
       " ('Hot tub', 441),\n",
       " ('Wide entrance for guests', 394),\n",
       " ('Well-lit path to entrance', 388),\n",
       " ('Full kitchen', 377),\n",
       " ('Flat path to guest entrance', 356),\n",
       " ('EV charger', 287),\n",
       " ('Waterfront', 276),\n",
       " ('Wide entryway', 272),\n",
       " ('Fireplace guards', 268),\n",
       " ('Wide hallways', 267),\n",
       " ('Smart lock', 254),\n",
       " ('BBQ grill', 242),\n",
       " ('Table corner guards', 215),\n",
       " ('Stair gates', 215)]"
      ]
     },
     "execution_count": 54,
     "metadata": {},
     "output_type": "execute_result"
    }
   ],
   "source": [
    "results = Counter()\n",
    "raw_data['amenities'].str.strip('{}')\\\n",
    "               .str.replace('\"', '')\\\n",
    "               .str.lstrip('\\\"')\\\n",
    "               .str.rstrip('\\\"')\\\n",
    "               .str.split(',')\\\n",
    "               .apply(results.update)\n",
    "\n",
    "results.most_common(100)"
   ]
  },
  {
   "cell_type": "code",
   "execution_count": 55,
   "metadata": {
    "ExecuteTime": {
     "end_time": "2020-05-10T17:26:00.715011Z",
     "start_time": "2020-05-10T17:26:00.702008Z"
    }
   },
   "outputs": [],
   "source": [
    "sub_df = pd.DataFrame(results.most_common(20), columns=['amenity', 'count'])"
   ]
  },
  {
   "cell_type": "code",
   "execution_count": 56,
   "metadata": {
    "ExecuteTime": {
     "end_time": "2020-05-10T17:26:01.864916Z",
     "start_time": "2020-05-10T17:26:00.719384Z"
    }
   },
   "outputs": [
    {
     "data": {
      "image/png": "[encoded data removed]",
      "text/plain": [
       "<Figure size 1440x504 with 1 Axes>"
      ]
     },
     "metadata": {},
     "output_type": "display_data"
    }
   ],
   "source": [
    "sub_df.sort_values(by=['count'], ascending=True).plot(kind='barh', x='amenity', y='count',  \n",
    "                                                      figsize=(20,7), legend=False,\n",
    "                                                      title='Amenities')\n",
    "plt.xlabel('Count');"
   ]
  },
  {
   "cell_type": "code",
   "execution_count": 58,
   "metadata": {
    "ExecuteTime": {
     "end_time": "2020-05-10T17:26:06.831964Z",
     "start_time": "2020-05-10T17:26:01.905056Z"
    }
   },
   "outputs": [],
   "source": [
    "list_new_features = [['check_in_24h','check_in_24h'],\n",
    "                     ['Air conditioning|Central air conditioning','air_conditioning'],\n",
    "                     ['Amazon Echo|Apple TV|Game console|Netflix|Projector and screen|Smart TV','high_end_electronics'],\n",
    "                     ['BBQ grill|Fire pit|Propane barbeque','bbq'], \n",
    "                     ['Balcony|Patio','balcony'],\n",
    "                     ['Bed linens','bed_linen'],\n",
    "                     ['Breakfast','breakfast'],\n",
    "                     ['TV','tv'],\n",
    "                     ['Coffee maker','coffee_machine'],\n",
    "                     ['Cooking basics','cooking_basics'],\n",
    "                     ['Dishwasher|Dryer|Washer','household appliance'],\n",
    "                     ['Elevator','elevator'],\n",
    "                     ['Exercise equipment|Gym|gym','gym'],\n",
    "                     ['Family/kid friendly|Children|children','child_friendly'],\n",
    "                     ['parking','parking'],\n",
    "                     ['Garden|Outdoor|Sun loungers|Terrace', 'outdoor_space'],\n",
    "                     ['Host greets you', 'host_greeting'],\n",
    "                     ['Hot tub|Jetted tub|hot tub|Sauna|Pool|pool', 'hot_tub_sauna_or_pool'],\n",
    "                     ['Internet|Pocket wifi|Wifi', 'internet'],\n",
    "                     ['Long term stays allowed', 'long_term_stays'],\n",
    "                     ['Pets|pet|Cat(s)|Dog(s)', 'pets_allowed'],\n",
    "                     ['Private entrance', 'private_entrance'],\n",
    "                     ['Safe|Security system', 'secure'],\n",
    "                     ['Self check-in', 'self_check_in'],\n",
    "                     ['Smoking allowed', 'smoking_allowed'],\n",
    "                     ['Step-free access|Wheelchair|Accessible','accessible'],\n",
    "                     ['Suitable for events','event_suitable']]\n",
    "\n",
    "for a,n in list_new_features:\n",
    "    raw_data.loc[raw_data['amenities'].str.contains(a), n] = 1"
   ]
  },
  {
   "cell_type": "code",
   "execution_count": 59,
   "metadata": {
    "ExecuteTime": {
     "end_time": "2020-05-10T17:26:07.038486Z",
     "start_time": "2020-05-10T17:26:06.835428Z"
    }
   },
   "outputs": [
    {
     "name": "stdout",
     "output_type": "stream",
     "text": [
      "['check_in_24h', 'air_conditioning', 'high_end_electronics', 'bbq', 'balcony', 'gym', 'outdoor_space', 'hot_tub_sauna_or_pool', 'pets_allowed', 'secure', 'self_check_in', 'accessible', 'event_suitable']\n"
     ]
    }
   ],
   "source": [
    "# Replacing nulls with zeros for new columns\n",
    "cols_to_replace_nulls = raw_data.iloc[:,40:].columns\n",
    "raw_data[cols_to_replace_nulls] = raw_data[cols_to_replace_nulls].fillna(0)\n",
    "# Produces a list of amenity features where one category (true or false) contains fewer than 10% of listings\n",
    "infrequent_amenities = []\n",
    "for col in raw_data.iloc[:,40:].columns:\n",
    "    if raw_data[col].sum() < len(raw_data)/10:\n",
    "        infrequent_amenities.append(col)\n",
    "print(infrequent_amenities)\n",
    "# Dropping infrequent amenity features\n",
    "raw_data.drop(infrequent_amenities, axis=1, inplace=True)\n",
    "# Dropping the original amenity feature\n",
    "raw_data.drop('amenities', axis=1, inplace=True)"
   ]
  },
  {
   "cell_type": "code",
   "execution_count": 60,
   "metadata": {
    "ExecuteTime": {
     "end_time": "2020-05-10T17:26:07.609651Z",
     "start_time": "2020-05-10T17:26:07.047021Z"
    }
   },
   "outputs": [],
   "source": [
    "raw_data.iloc[:,40:] = raw_data.iloc[:,40:].applymap(bool)"
   ]
  },
  {
   "cell_type": "markdown",
   "metadata": {},
   "source": [
    "## review"
   ]
  },
  {
   "cell_type": "markdown",
   "metadata": {},
   "source": [
    "### first_review and last_review"
   ]
  },
  {
   "cell_type": "code",
   "execution_count": 61,
   "metadata": {
    "ExecuteTime": {
     "end_time": "2020-05-10T17:26:08.801046Z",
     "start_time": "2020-05-10T17:26:07.613319Z"
    }
   },
   "outputs": [
    {
     "data": {
      "image/png": "[encoded data removed]",
      "text/plain": [
       "<Figure size 1440x1440 with 2 Axes>"
      ]
     },
     "metadata": {},
     "output_type": "display_data"
    }
   ],
   "source": [
    "#most listings have have their first and last review quite recently, since they are not on the market for too long\n",
    "fig, ax = plt.subplots(nrows=2,figsize=(20,20))\n",
    "review_list = ['first_review', 'last_review']\n",
    "for idx, i in enumerate(review_list):\n",
    "    raw_data[i] = pd.to_datetime(raw_data[i])\n",
    "    raw_data['time_since_' + str(i)] = (datetime(2020, 3, 19) - raw_data[i]).astype('timedelta64[D]')\n",
    "    sns.distplot(raw_data['time_since_' + str(i)],ax=ax[idx], bins=30)"
   ]
  },
  {
   "cell_type": "code",
   "execution_count": 62,
   "metadata": {
    "ExecuteTime": {
     "end_time": "2020-05-10T17:26:09.064327Z",
     "start_time": "2020-05-10T17:26:08.805314Z"
    }
   },
   "outputs": [],
   "source": [
    "review_list_time = ['time_since_first_review', 'time_since_last_review']\n",
    "bins = [[0, 182, 365, 730, 1460, max(raw_data.time_since_first_review)],\n",
    "        [0, 14, 60, 182, 365, max(raw_data.time_since_last_review)]]\n",
    "labels = [['0-6 months','6-12 months', '1-2 years','2-3 years','4+ years'],\n",
    "          ['0-2 weeks', '2-8 weeks', '2-6 months','6-12 months', '1+ year']]\n",
    "                   \n",
    "for idx, i in enumerate(review_list_time):\n",
    "    raw_data[i] = pd.cut(raw_data[i], bins=bins[idx], labels=labels[idx], include_lowest=True)\n",
    "    raw_data[i] = raw_data[i].astype('str')\n",
    "    raw_data[i].fillna('no reviews', inplace=True)"
   ]
  },
  {
   "cell_type": "markdown",
   "metadata": {},
   "source": [
    "### review_scores"
   ]
  },
  {
   "cell_type": "code",
   "execution_count": 63,
   "metadata": {
    "ExecuteTime": {
     "end_time": "2020-05-10T17:26:11.774392Z",
     "start_time": "2020-05-10T17:26:09.110838Z"
    }
   },
   "outputs": [
    {
     "data": {
      "image/png": "[encoded data removed]",
      "text/plain": [
       "<Figure size 864x576 with 7 Axes>"
      ]
     },
     "metadata": {},
     "output_type": "display_data"
    }
   ],
   "source": [
    "#most listings have a high review score, it is skewed to the right. But it also means that being close to 50 or 5 is really bad. \n",
    "review_list = list(raw_data.columns[raw_data.columns.str.startswith(\"review_scores\") == True])\n",
    "fig = plt.figure(figsize=(12,8))\n",
    "for idx, i in enumerate(review_list):\n",
    "    ax = fig.add_subplot(3,3,idx+1)\n",
    "    raw_data[i].hist(bins=10)\n",
    "    ax.set_title(i)\n",
    "fig.tight_layout()\n",
    "plt.show()"
   ]
  },
  {
   "cell_type": "code",
   "execution_count": 64,
   "metadata": {
    "ExecuteTime": {
     "end_time": "2020-05-10T17:26:12.652011Z",
     "start_time": "2020-05-10T17:26:11.955502Z"
    }
   },
   "outputs": [],
   "source": [
    "# I will make bins for the review scores\n",
    "review_scores_list = list(raw_data.columns[raw_data.columns.str.startswith(\"review_scores\") == True])\n",
    "bins = [0, 8, 9, 10]\n",
    "labels = ['0-8/10', '9/10', '10/10']\n",
    "                   \n",
    "for i in review_scores_list[1:]:\n",
    "    raw_data[i] = pd.cut(raw_data[i], bins=bins, labels=labels, include_lowest=True)\n",
    "    raw_data[i] = raw_data[i].astype('str')\n",
    "    raw_data[i].fillna('no reviews', inplace=True)"
   ]
  },
  {
   "cell_type": "code",
   "execution_count": 65,
   "metadata": {
    "ExecuteTime": {
     "end_time": "2020-05-10T17:26:12.834372Z",
     "start_time": "2020-05-10T17:26:12.667103Z"
    }
   },
   "outputs": [],
   "source": [
    "bins = [0, 80, 95, 100]\n",
    "labels = ['0-79/100', '80-94/100', '95-100/100']\n",
    "raw_data[review_scores_list[0]] = pd.cut(raw_data[review_scores_list[0]], bins=bins, labels=labels, include_lowest=True)\n",
    "raw_data[review_scores_list[0]] = raw_data[review_scores_list[0]].astype('str')\n",
    "raw_data[review_scores_list[0]].fillna('no reviews', inplace=True)"
   ]
  },
  {
   "cell_type": "markdown",
   "metadata": {},
   "source": [
    "## Distance to Centroid of Paris"
   ]
  },
  {
   "cell_type": "code",
   "execution_count": 67,
   "metadata": {
    "ExecuteTime": {
     "end_time": "2020-05-10T17:26:12.890485Z",
     "start_time": "2020-05-10T17:26:12.882265Z"
    }
   },
   "outputs": [],
   "source": [
    "# With this function and the geo data of the listing I will create a feature for distance to center\n",
    "def distance_to_mid(lat, lon):\n",
    "    paris_centre = (48.864716, 2.349014)\n",
    "    accommodation = (lat, lon)\n",
    "    return great_circle(paris_centre, accommodation).km"
   ]
  },
  {
   "cell_type": "code",
   "execution_count": 68,
   "metadata": {
    "ExecuteTime": {
     "end_time": "2020-05-10T17:26:22.734369Z",
     "start_time": "2020-05-10T17:26:12.917918Z"
    }
   },
   "outputs": [],
   "source": [
    "raw_data['distance'] = raw_data.apply(lambda x: distance_to_mid(x.latitude, x.longitude), axis=1)"
   ]
  },
  {
   "cell_type": "markdown",
   "metadata": {},
   "source": [
    "## Size"
   ]
  },
  {
   "cell_type": "code",
   "execution_count": 69,
   "metadata": {
    "ExecuteTime": {
     "end_time": "2020-05-10T17:26:22.807900Z",
     "start_time": "2020-05-10T17:26:22.758866Z"
    }
   },
   "outputs": [
    {
     "name": "stdout",
     "output_type": "stream",
     "text": [
      "['30 square ']\n"
     ]
    },
    {
     "data": {
      "text/plain": [
       "\"Cozy, well-appointed and graciously designed studio apartment that mixes old and new aesthetics at the very heart of Paris, on the famous Isle St Louis that is a stone's throw from Le Marais, Quartier Latin, Notre Dame and Le Louvre. Small, well appointed studio apartment at the very heart of Paris, on the famous Isle St Louis. FOUR-NIGHT MINIMUM.  We are looking for quiet persons or couples to rent our fully equipped and furnished studio (about 30 square meters or 300 square feet) in central Paris on the famous Isle St. Louis. Please contact us for more information. Discounts available for longer stays. The location is superb. Pick up fresh bread at the nearby boulangerie and some exquisite cheese at the local fromagerie for breakfast. Take a late night stroll along the nearby Seine. Bar hop in the adjacent Marais district, the East Village of Paris. The flat includes its own modern bathroom, a washing machine, stove, oven, toaster and coffee press. For sleeping there is only a fold-o\""
      ]
     },
     "execution_count": 69,
     "metadata": {},
     "output_type": "execute_result"
    }
   ],
   "source": [
    "# Test for possible ways to extract size\n",
    "s = full_data.description[1]\n",
    "\n",
    "re_list = [r'\\b([0-9]+) ?m2 ?', r'\\b([0-9]+) ?qm ?',\n",
    "           r'\\b([0-9]+) ?sqm ?', r'\\b([0-9]+) ?m² ?',\n",
    "           r'\\b([0-9]+) ?square ?', r'\\b([0-9]+) ?Square ?']\n",
    "matches = []\n",
    "for r in re_list:\n",
    "    result = re.search(r, s)\n",
    "    if result:\n",
    "        matches.append(result.group(0)) \n",
    "print(matches) \n",
    "s"
   ]
  },
  {
   "cell_type": "code",
   "execution_count": 70,
   "metadata": {
    "ExecuteTime": {
     "end_time": "2020-05-10T17:26:22.849902Z",
     "start_time": "2020-05-10T17:26:22.829611Z"
    }
   },
   "outputs": [],
   "source": [
    "# function to extract price\n",
    "def extract_numbers(list_of_regex):\n",
    "    for idx, s in enumerate(list_of_regex):\n",
    "        raw_data['size'+ str(idx)] = raw_data['description'].str.extract(s, expand=True)\n",
    "    raw_data['size'] = raw_data[raw_data.columns[57:]].apply(lambda x: ','.join(x.dropna().astype(str)), axis=1)\n",
    "    raw_data['size'] = raw_data['size'].apply(lambda x: min(x.split(',')))\n",
    "    raw_data['size'] = raw_data['size'].replace(r'^\\s*$', np.nan, regex=True)\n",
    "    for idx, s in enumerate(list_of_regex):\n",
    "        raw_data.drop('size'+ str(idx), axis=1, inplace=True)\n",
    "    print('NaNs in size_column absolute:     ', raw_data['size'].isna().sum())\n",
    "    print('NaNs in size_column in percentage:', round(raw_data['size'].isna().sum()/len(raw_data)*100,3), '%')"
   ]
  },
  {
   "cell_type": "code",
   "execution_count": 71,
   "metadata": {
    "ExecuteTime": {
     "end_time": "2020-05-10T17:27:27.911143Z",
     "start_time": "2020-05-10T17:26:22.863918Z"
    }
   },
   "outputs": [
    {
     "name": "stdout",
     "output_type": "stream",
     "text": [
      "NaNs in size_column absolute:      39935\n",
      "NaNs in size_column in percentage: 60.9 %\n"
     ]
    }
   ],
   "source": [
    "re_list = [r'\\b([0-9]+) ?m2 ?', \n",
    "           r'\\b([0-9]+) ?qm ?', \n",
    "           r'\\b([0-9]+) ?sqm ?', \n",
    "           r'\\b([0-9]+) ?m² ?',  \n",
    "           r'\\b([0-9]+) ?square ?',\n",
    "           r'\\b([0-9]+) ?Square ?']\n",
    "\n",
    "extract_numbers(re_list)"
   ]
  },
  {
   "cell_type": "code",
   "execution_count": 72,
   "metadata": {
    "ExecuteTime": {
     "end_time": "2020-05-10T17:27:27.936806Z",
     "start_time": "2020-05-10T17:27:27.916509Z"
    }
   },
   "outputs": [],
   "source": [
    "sub_df = raw_data[['accommodates', 'bathrooms', 'bedrooms', 'cleaning_fee', \n",
    "                   'security_deposit', 'extra_people', 'guests_included', 'distance', 'size']]"
   ]
  },
  {
   "cell_type": "code",
   "execution_count": 73,
   "metadata": {
    "ExecuteTime": {
     "end_time": "2020-05-10T17:27:27.983579Z",
     "start_time": "2020-05-10T17:27:27.941452Z"
    }
   },
   "outputs": [],
   "source": [
    "# split datasets\n",
    "train_data = sub_df[sub_df['size'].notnull()]\n",
    "test_data  = sub_df[sub_df['size'].isnull()]\n",
    "\n",
    "# define X\n",
    "X_train = train_data.drop('size', axis=1)\n",
    "X_test  = test_data.drop('size', axis=1)\n",
    "\n",
    "# define y\n",
    "y_train = train_data['size']"
   ]
  },
  {
   "cell_type": "code",
   "execution_count": 74,
   "metadata": {
    "ExecuteTime": {
     "end_time": "2020-05-10T17:27:28.004673Z",
     "start_time": "2020-05-10T17:27:27.987919Z"
    }
   },
   "outputs": [
    {
     "name": "stdout",
     "output_type": "stream",
     "text": [
      "Shape of Training Data: (25640, 9)\n",
      "Shape of Test Data:     (39935, 9)\n",
      "\n",
      "Shape of X_train: (25640, 8)\n",
      "Shape of X_test: (39935, 8)\n",
      "\n",
      "Shape of y_train: (25640,)\n"
     ]
    }
   ],
   "source": [
    "print(\"Shape of Training Data:\", train_data.shape)\n",
    "print(\"Shape of Test Data:    \",test_data.shape)\n",
    "print(\"\\nShape of X_train:\", X_train.shape)\n",
    "print(\"Shape of X_test:\", X_test.shape)\n",
    "print(\"\\nShape of y_train:\", y_train.shape)"
   ]
  },
  {
   "cell_type": "code",
   "execution_count": 75,
   "metadata": {
    "ExecuteTime": {
     "end_time": "2020-05-10T17:27:28.353260Z",
     "start_time": "2020-05-10T17:27:28.014470Z"
    }
   },
   "outputs": [
    {
     "data": {
      "text/plain": [
       "LinearRegression(copy_X=True, fit_intercept=True, n_jobs=None, normalize=False)"
      ]
     },
     "execution_count": 75,
     "metadata": {},
     "output_type": "execute_result"
    }
   ],
   "source": [
    "# import Linear Regression\n",
    "from sklearn.linear_model import LinearRegression\n",
    "\n",
    "# instantiate\n",
    "linreg = LinearRegression()\n",
    "\n",
    "# fit model to training data\n",
    "linreg.fit(X_train, y_train)"
   ]
  },
  {
   "cell_type": "code",
   "execution_count": 76,
   "metadata": {
    "ExecuteTime": {
     "end_time": "2020-05-10T17:27:28.372859Z",
     "start_time": "2020-05-10T17:27:28.359628Z"
    }
   },
   "outputs": [],
   "source": [
    "# making predictions\n",
    "y_test = linreg.predict(X_test)"
   ]
  },
  {
   "cell_type": "code",
   "execution_count": 77,
   "metadata": {
    "ExecuteTime": {
     "end_time": "2020-05-10T17:27:28.406065Z",
     "start_time": "2020-05-10T17:27:28.378039Z"
    }
   },
   "outputs": [
    {
     "name": "stdout",
     "output_type": "stream",
     "text": [
      "(39935, 1)\n"
     ]
    },
    {
     "data": {
      "text/html": [
       "<div>\n",
       "<style scoped>\n",
       "    .dataframe tbody tr th:only-of-type {\n",
       "        vertical-align: middle;\n",
       "    }\n",
       "\n",
       "    .dataframe tbody tr th {\n",
       "        vertical-align: top;\n",
       "    }\n",
       "\n",
       "    .dataframe thead th {\n",
       "        text-align: right;\n",
       "    }\n",
       "</style>\n",
       "<table border=\"1\" class=\"dataframe\">\n",
       "  <thead>\n",
       "    <tr style=\"text-align: right;\">\n",
       "      <th></th>\n",
       "      <th>size</th>\n",
       "    </tr>\n",
       "  </thead>\n",
       "  <tbody>\n",
       "    <tr>\n",
       "      <th>0</th>\n",
       "      <td>35.978620</td>\n",
       "    </tr>\n",
       "    <tr>\n",
       "      <th>1</th>\n",
       "      <td>63.643509</td>\n",
       "    </tr>\n",
       "    <tr>\n",
       "      <th>2</th>\n",
       "      <td>51.374765</td>\n",
       "    </tr>\n",
       "    <tr>\n",
       "      <th>3</th>\n",
       "      <td>21.857724</td>\n",
       "    </tr>\n",
       "    <tr>\n",
       "      <th>4</th>\n",
       "      <td>53.049762</td>\n",
       "    </tr>\n",
       "  </tbody>\n",
       "</table>\n",
       "</div>"
      ],
      "text/plain": [
       "        size\n",
       "0  35.978620\n",
       "1  63.643509\n",
       "2  51.374765\n",
       "3  21.857724\n",
       "4  53.049762"
      ]
     },
     "execution_count": 77,
     "metadata": {},
     "output_type": "execute_result"
    }
   ],
   "source": [
    "y_test = pd.DataFrame(y_test)\n",
    "y_test.columns = ['size']\n",
    "print(y_test.shape)\n",
    "y_test.head()"
   ]
  },
  {
   "cell_type": "code",
   "execution_count": 78,
   "metadata": {
    "ExecuteTime": {
     "end_time": "2020-05-10T17:27:28.447311Z",
     "start_time": "2020-05-10T17:27:28.416797Z"
    }
   },
   "outputs": [
    {
     "data": {
      "text/html": [
       "<div>\n",
       "<style scoped>\n",
       "    .dataframe tbody tr th:only-of-type {\n",
       "        vertical-align: middle;\n",
       "    }\n",
       "\n",
       "    .dataframe tbody tr th {\n",
       "        vertical-align: top;\n",
       "    }\n",
       "\n",
       "    .dataframe thead th {\n",
       "        text-align: right;\n",
       "    }\n",
       "</style>\n",
       "<table border=\"1\" class=\"dataframe\">\n",
       "  <thead>\n",
       "    <tr style=\"text-align: right;\">\n",
       "      <th></th>\n",
       "      <th>size</th>\n",
       "    </tr>\n",
       "    <tr>\n",
       "      <th>prelim</th>\n",
       "      <th></th>\n",
       "    </tr>\n",
       "  </thead>\n",
       "  <tbody>\n",
       "    <tr>\n",
       "      <th>3109</th>\n",
       "      <td>35.978620</td>\n",
       "    </tr>\n",
       "    <tr>\n",
       "      <th>9359</th>\n",
       "      <td>63.643509</td>\n",
       "    </tr>\n",
       "    <tr>\n",
       "      <th>10710</th>\n",
       "      <td>51.374765</td>\n",
       "    </tr>\n",
       "    <tr>\n",
       "      <th>11170</th>\n",
       "      <td>21.857724</td>\n",
       "    </tr>\n",
       "    <tr>\n",
       "      <th>11798</th>\n",
       "      <td>53.049762</td>\n",
       "    </tr>\n",
       "  </tbody>\n",
       "</table>\n",
       "</div>"
      ],
      "text/plain": [
       "             size\n",
       "prelim           \n",
       "3109    35.978620\n",
       "9359    63.643509\n",
       "10710   51.374765\n",
       "11170   21.857724\n",
       "11798   53.049762"
      ]
     },
     "execution_count": 78,
     "metadata": {},
     "output_type": "execute_result"
    }
   ],
   "source": [
    "# make the index of X_test to an own dataframe\n",
    "prelim_index = pd.DataFrame(X_test.index)\n",
    "prelim_index.columns = ['prelim']\n",
    "\n",
    "# ... and concat this dataframe with y_test\n",
    "y_test = pd.concat([y_test, prelim_index], axis=1)\n",
    "y_test.set_index(['prelim'], inplace=True)\n",
    "y_test.head()"
   ]
  },
  {
   "cell_type": "code",
   "execution_count": 79,
   "metadata": {
    "ExecuteTime": {
     "end_time": "2020-05-10T17:27:28.467703Z",
     "start_time": "2020-05-10T17:27:28.454798Z"
    }
   },
   "outputs": [],
   "source": [
    "new_test_data = pd.concat([X_test, y_test], axis=1)"
   ]
  },
  {
   "cell_type": "code",
   "execution_count": 80,
   "metadata": {
    "ExecuteTime": {
     "end_time": "2020-05-10T17:27:28.513774Z",
     "start_time": "2020-05-10T17:27:28.476239Z"
    }
   },
   "outputs": [
    {
     "name": "stdout",
     "output_type": "stream",
     "text": [
      "(39935, 9)\n"
     ]
    },
    {
     "data": {
      "text/html": [
       "<div>\n",
       "<style scoped>\n",
       "    .dataframe tbody tr th:only-of-type {\n",
       "        vertical-align: middle;\n",
       "    }\n",
       "\n",
       "    .dataframe tbody tr th {\n",
       "        vertical-align: top;\n",
       "    }\n",
       "\n",
       "    .dataframe thead th {\n",
       "        text-align: right;\n",
       "    }\n",
       "</style>\n",
       "<table border=\"1\" class=\"dataframe\">\n",
       "  <thead>\n",
       "    <tr style=\"text-align: right;\">\n",
       "      <th></th>\n",
       "      <th>accommodates</th>\n",
       "      <th>bathrooms</th>\n",
       "      <th>bedrooms</th>\n",
       "      <th>cleaning_fee</th>\n",
       "      <th>security_deposit</th>\n",
       "      <th>extra_people</th>\n",
       "      <th>guests_included</th>\n",
       "      <th>distance</th>\n",
       "      <th>size</th>\n",
       "    </tr>\n",
       "  </thead>\n",
       "  <tbody>\n",
       "    <tr>\n",
       "      <th>3109</th>\n",
       "      <td>2</td>\n",
       "      <td>1.0</td>\n",
       "      <td>0.0</td>\n",
       "      <td>60.0</td>\n",
       "      <td>150.0</td>\n",
       "      <td>0.0</td>\n",
       "      <td>1</td>\n",
       "      <td>4.127306</td>\n",
       "      <td>35.978620</td>\n",
       "    </tr>\n",
       "    <tr>\n",
       "      <th>9359</th>\n",
       "      <td>2</td>\n",
       "      <td>1.0</td>\n",
       "      <td>1.0</td>\n",
       "      <td>200.0</td>\n",
       "      <td>1500.0</td>\n",
       "      <td>30.0</td>\n",
       "      <td>1</td>\n",
       "      <td>0.648235</td>\n",
       "      <td>63.643509</td>\n",
       "    </tr>\n",
       "    <tr>\n",
       "      <th>10710</th>\n",
       "      <td>4</td>\n",
       "      <td>1.0</td>\n",
       "      <td>1.0</td>\n",
       "      <td>60.0</td>\n",
       "      <td>600.0</td>\n",
       "      <td>10.0</td>\n",
       "      <td>3</td>\n",
       "      <td>2.885256</td>\n",
       "      <td>51.374765</td>\n",
       "    </tr>\n",
       "    <tr>\n",
       "      <th>11170</th>\n",
       "      <td>2</td>\n",
       "      <td>1.0</td>\n",
       "      <td>0.0</td>\n",
       "      <td>0.0</td>\n",
       "      <td>0.0</td>\n",
       "      <td>0.0</td>\n",
       "      <td>2</td>\n",
       "      <td>2.008292</td>\n",
       "      <td>21.857724</td>\n",
       "    </tr>\n",
       "    <tr>\n",
       "      <th>11798</th>\n",
       "      <td>3</td>\n",
       "      <td>1.0</td>\n",
       "      <td>1.0</td>\n",
       "      <td>40.0</td>\n",
       "      <td>600.0</td>\n",
       "      <td>10.0</td>\n",
       "      <td>2</td>\n",
       "      <td>4.736548</td>\n",
       "      <td>53.049762</td>\n",
       "    </tr>\n",
       "  </tbody>\n",
       "</table>\n",
       "</div>"
      ],
      "text/plain": [
       "       accommodates  bathrooms  bedrooms  cleaning_fee  security_deposit  \\\n",
       "3109              2        1.0       0.0          60.0             150.0   \n",
       "9359              2        1.0       1.0         200.0            1500.0   \n",
       "10710             4        1.0       1.0          60.0             600.0   \n",
       "11170             2        1.0       0.0           0.0               0.0   \n",
       "11798             3        1.0       1.0          40.0             600.0   \n",
       "\n",
       "       extra_people  guests_included  distance       size  \n",
       "3109            0.0                1  4.127306  35.978620  \n",
       "9359           30.0                1  0.648235  63.643509  \n",
       "10710          10.0                3  2.885256  51.374765  \n",
       "11170           0.0                2  2.008292  21.857724  \n",
       "11798          10.0                2  4.736548  53.049762  "
      ]
     },
     "execution_count": 80,
     "metadata": {},
     "output_type": "execute_result"
    }
   ],
   "source": [
    "print(new_test_data.shape)\n",
    "new_test_data.head()"
   ]
  },
  {
   "cell_type": "code",
   "execution_count": 81,
   "metadata": {
    "ExecuteTime": {
     "end_time": "2020-05-10T17:27:28.530999Z",
     "start_time": "2020-05-10T17:27:28.520508Z"
    }
   },
   "outputs": [
    {
     "data": {
      "text/plain": [
       "0"
      ]
     },
     "execution_count": 81,
     "metadata": {},
     "output_type": "execute_result"
    }
   ],
   "source": [
    "new_test_data['size'].isna().sum()"
   ]
  },
  {
   "cell_type": "code",
   "execution_count": 82,
   "metadata": {
    "ExecuteTime": {
     "end_time": "2020-05-10T17:27:28.596042Z",
     "start_time": "2020-05-10T17:27:28.537005Z"
    }
   },
   "outputs": [
    {
     "name": "stdout",
     "output_type": "stream",
     "text": [
      "(65575, 9)\n"
     ]
    },
    {
     "data": {
      "text/html": [
       "<div>\n",
       "<style scoped>\n",
       "    .dataframe tbody tr th:only-of-type {\n",
       "        vertical-align: middle;\n",
       "    }\n",
       "\n",
       "    .dataframe tbody tr th {\n",
       "        vertical-align: top;\n",
       "    }\n",
       "\n",
       "    .dataframe thead th {\n",
       "        text-align: right;\n",
       "    }\n",
       "</style>\n",
       "<table border=\"1\" class=\"dataframe\">\n",
       "  <thead>\n",
       "    <tr style=\"text-align: right;\">\n",
       "      <th></th>\n",
       "      <th>accommodates</th>\n",
       "      <th>bathrooms</th>\n",
       "      <th>bedrooms</th>\n",
       "      <th>cleaning_fee</th>\n",
       "      <th>security_deposit</th>\n",
       "      <th>extra_people</th>\n",
       "      <th>guests_included</th>\n",
       "      <th>distance</th>\n",
       "      <th>size</th>\n",
       "    </tr>\n",
       "  </thead>\n",
       "  <tbody>\n",
       "    <tr>\n",
       "      <th>3109</th>\n",
       "      <td>2</td>\n",
       "      <td>1.0</td>\n",
       "      <td>0.0</td>\n",
       "      <td>60.0</td>\n",
       "      <td>150.0</td>\n",
       "      <td>0.0</td>\n",
       "      <td>1</td>\n",
       "      <td>4.127306</td>\n",
       "      <td>35.9786</td>\n",
       "    </tr>\n",
       "    <tr>\n",
       "      <th>9359</th>\n",
       "      <td>2</td>\n",
       "      <td>1.0</td>\n",
       "      <td>1.0</td>\n",
       "      <td>200.0</td>\n",
       "      <td>1500.0</td>\n",
       "      <td>30.0</td>\n",
       "      <td>1</td>\n",
       "      <td>0.648235</td>\n",
       "      <td>63.6435</td>\n",
       "    </tr>\n",
       "    <tr>\n",
       "      <th>10710</th>\n",
       "      <td>4</td>\n",
       "      <td>1.0</td>\n",
       "      <td>1.0</td>\n",
       "      <td>60.0</td>\n",
       "      <td>600.0</td>\n",
       "      <td>10.0</td>\n",
       "      <td>3</td>\n",
       "      <td>2.885256</td>\n",
       "      <td>51.3748</td>\n",
       "    </tr>\n",
       "    <tr>\n",
       "      <th>11170</th>\n",
       "      <td>2</td>\n",
       "      <td>1.0</td>\n",
       "      <td>0.0</td>\n",
       "      <td>0.0</td>\n",
       "      <td>0.0</td>\n",
       "      <td>0.0</td>\n",
       "      <td>2</td>\n",
       "      <td>2.008292</td>\n",
       "      <td>21.8577</td>\n",
       "    </tr>\n",
       "    <tr>\n",
       "      <th>11798</th>\n",
       "      <td>3</td>\n",
       "      <td>1.0</td>\n",
       "      <td>1.0</td>\n",
       "      <td>40.0</td>\n",
       "      <td>600.0</td>\n",
       "      <td>10.0</td>\n",
       "      <td>2</td>\n",
       "      <td>4.736548</td>\n",
       "      <td>53.0498</td>\n",
       "    </tr>\n",
       "  </tbody>\n",
       "</table>\n",
       "</div>"
      ],
      "text/plain": [
       "       accommodates  bathrooms  bedrooms  cleaning_fee  security_deposit  \\\n",
       "3109              2        1.0       0.0          60.0             150.0   \n",
       "9359              2        1.0       1.0         200.0            1500.0   \n",
       "10710             4        1.0       1.0          60.0             600.0   \n",
       "11170             2        1.0       0.0           0.0               0.0   \n",
       "11798             3        1.0       1.0          40.0             600.0   \n",
       "\n",
       "       extra_people  guests_included  distance     size  \n",
       "3109            0.0                1  4.127306  35.9786  \n",
       "9359           30.0                1  0.648235  63.6435  \n",
       "10710          10.0                3  2.885256  51.3748  \n",
       "11170           0.0                2  2.008292  21.8577  \n",
       "11798          10.0                2  4.736548  53.0498  "
      ]
     },
     "execution_count": 82,
     "metadata": {},
     "output_type": "execute_result"
    }
   ],
   "source": [
    "sub_df_new = pd.concat([new_test_data, train_data], axis=0)\n",
    "\n",
    "print(sub_df_new.shape)\n",
    "sub_df_new.head()"
   ]
  },
  {
   "cell_type": "code",
   "execution_count": 83,
   "metadata": {
    "ExecuteTime": {
     "end_time": "2020-05-10T17:27:28.628064Z",
     "start_time": "2020-05-10T17:27:28.601324Z"
    }
   },
   "outputs": [
    {
     "data": {
      "text/plain": [
       "0"
      ]
     },
     "execution_count": 83,
     "metadata": {},
     "output_type": "execute_result"
    }
   ],
   "source": [
    "sub_df_new['size'].isna().sum()"
   ]
  },
  {
   "cell_type": "code",
   "execution_count": 84,
   "metadata": {
    "ExecuteTime": {
     "end_time": "2020-05-10T17:27:28.688375Z",
     "start_time": "2020-05-10T17:27:28.633867Z"
    }
   },
   "outputs": [],
   "source": [
    "# prepare the multiple columns before concatening\n",
    "raw_data.drop(['accommodates', 'bathrooms', 'bedrooms', 'cleaning_fee', \n",
    "              'security_deposit', 'extra_people', 'guests_included', 'distance', 'size'], \n",
    "               axis=1, inplace=True)"
   ]
  },
  {
   "cell_type": "code",
   "execution_count": 85,
   "metadata": {
    "ExecuteTime": {
     "end_time": "2020-05-10T17:27:28.838502Z",
     "start_time": "2020-05-10T17:27:28.693713Z"
    }
   },
   "outputs": [],
   "source": [
    "raw_data = pd.concat([sub_df_new, raw_data], axis=1)"
   ]
  },
  {
   "cell_type": "code",
   "execution_count": 86,
   "metadata": {
    "ExecuteTime": {
     "end_time": "2020-05-10T17:27:29.321738Z",
     "start_time": "2020-05-10T17:27:28.842558Z"
    }
   },
   "outputs": [
    {
     "data": {
      "text/html": [
       "<div>\n",
       "<style scoped>\n",
       "    .dataframe tbody tr th:only-of-type {\n",
       "        vertical-align: middle;\n",
       "    }\n",
       "\n",
       "    .dataframe tbody tr th {\n",
       "        vertical-align: top;\n",
       "    }\n",
       "\n",
       "    .dataframe thead th {\n",
       "        text-align: right;\n",
       "    }\n",
       "</style>\n",
       "<table border=\"1\" class=\"dataframe\">\n",
       "  <thead>\n",
       "    <tr style=\"text-align: right;\">\n",
       "      <th></th>\n",
       "      <th>accommodates</th>\n",
       "      <th>bathrooms</th>\n",
       "      <th>bedrooms</th>\n",
       "      <th>cleaning_fee</th>\n",
       "      <th>security_deposit</th>\n",
       "      <th>extra_people</th>\n",
       "      <th>guests_included</th>\n",
       "      <th>distance</th>\n",
       "      <th>latitude</th>\n",
       "      <th>longitude</th>\n",
       "      <th>beds</th>\n",
       "      <th>price</th>\n",
       "      <th>minimum_nights</th>\n",
       "      <th>maximum_nights</th>\n",
       "      <th>availability_365</th>\n",
       "      <th>number_of_reviews</th>\n",
       "      <th>calculated_host_listings_count</th>\n",
       "      <th>host_days_active</th>\n",
       "      <th>amenities_count</th>\n",
       "    </tr>\n",
       "  </thead>\n",
       "  <tbody>\n",
       "    <tr>\n",
       "      <th>count</th>\n",
       "      <td>65575.000000</td>\n",
       "      <td>65575.000000</td>\n",
       "      <td>65575.000000</td>\n",
       "      <td>65575.000000</td>\n",
       "      <td>65575.000000</td>\n",
       "      <td>65575.000000</td>\n",
       "      <td>65575.000000</td>\n",
       "      <td>65575.000000</td>\n",
       "      <td>65575.000000</td>\n",
       "      <td>65575.000000</td>\n",
       "      <td>65575.000000</td>\n",
       "      <td>65575.000000</td>\n",
       "      <td>65575.000000</td>\n",
       "      <td>6.557500e+04</td>\n",
       "      <td>65575.000000</td>\n",
       "      <td>65575.000000</td>\n",
       "      <td>65575.000000</td>\n",
       "      <td>65575.000000</td>\n",
       "      <td>65575.000000</td>\n",
       "    </tr>\n",
       "    <tr>\n",
       "      <th>mean</th>\n",
       "      <td>3.042791</td>\n",
       "      <td>1.114868</td>\n",
       "      <td>1.074907</td>\n",
       "      <td>30.938681</td>\n",
       "      <td>285.712482</td>\n",
       "      <td>5.647274</td>\n",
       "      <td>1.488494</td>\n",
       "      <td>2.871435</td>\n",
       "      <td>48.864121</td>\n",
       "      <td>2.345580</td>\n",
       "      <td>1.652810</td>\n",
       "      <td>107.535067</td>\n",
       "      <td>5.279665</td>\n",
       "      <td>8.573175e+02</td>\n",
       "      <td>84.531376</td>\n",
       "      <td>20.712070</td>\n",
       "      <td>7.965124</td>\n",
       "      <td>1641.893923</td>\n",
       "      <td>18.505909</td>\n",
       "    </tr>\n",
       "    <tr>\n",
       "      <th>std</th>\n",
       "      <td>1.519517</td>\n",
       "      <td>0.629130</td>\n",
       "      <td>0.971488</td>\n",
       "      <td>34.386889</td>\n",
       "      <td>493.088177</td>\n",
       "      <td>13.721923</td>\n",
       "      <td>1.093747</td>\n",
       "      <td>1.418917</td>\n",
       "      <td>0.018451</td>\n",
       "      <td>0.033434</td>\n",
       "      <td>1.091482</td>\n",
       "      <td>80.789892</td>\n",
       "      <td>43.982086</td>\n",
       "      <td>3.905551e+04</td>\n",
       "      <td>121.877648</td>\n",
       "      <td>42.301794</td>\n",
       "      <td>33.423409</td>\n",
       "      <td>819.676831</td>\n",
       "      <td>8.306706</td>\n",
       "    </tr>\n",
       "    <tr>\n",
       "      <th>min</th>\n",
       "      <td>1.000000</td>\n",
       "      <td>0.000000</td>\n",
       "      <td>0.000000</td>\n",
       "      <td>0.000000</td>\n",
       "      <td>0.000000</td>\n",
       "      <td>0.000000</td>\n",
       "      <td>1.000000</td>\n",
       "      <td>0.011736</td>\n",
       "      <td>48.813400</td>\n",
       "      <td>2.225070</td>\n",
       "      <td>0.000000</td>\n",
       "      <td>8.000000</td>\n",
       "      <td>1.000000</td>\n",
       "      <td>1.000000e+00</td>\n",
       "      <td>0.000000</td>\n",
       "      <td>0.000000</td>\n",
       "      <td>1.000000</td>\n",
       "      <td>5.000000</td>\n",
       "      <td>1.000000</td>\n",
       "    </tr>\n",
       "    <tr>\n",
       "      <th>25%</th>\n",
       "      <td>2.000000</td>\n",
       "      <td>1.000000</td>\n",
       "      <td>1.000000</td>\n",
       "      <td>0.000000</td>\n",
       "      <td>0.000000</td>\n",
       "      <td>0.000000</td>\n",
       "      <td>1.000000</td>\n",
       "      <td>1.813001</td>\n",
       "      <td>48.850715</td>\n",
       "      <td>2.324430</td>\n",
       "      <td>1.000000</td>\n",
       "      <td>60.000000</td>\n",
       "      <td>1.000000</td>\n",
       "      <td>3.000000e+01</td>\n",
       "      <td>0.000000</td>\n",
       "      <td>1.000000</td>\n",
       "      <td>1.000000</td>\n",
       "      <td>1075.000000</td>\n",
       "      <td>12.000000</td>\n",
       "    </tr>\n",
       "    <tr>\n",
       "      <th>50%</th>\n",
       "      <td>2.000000</td>\n",
       "      <td>1.000000</td>\n",
       "      <td>1.000000</td>\n",
       "      <td>25.000000</td>\n",
       "      <td>150.000000</td>\n",
       "      <td>0.000000</td>\n",
       "      <td>1.000000</td>\n",
       "      <td>2.848247</td>\n",
       "      <td>48.865240</td>\n",
       "      <td>2.348530</td>\n",
       "      <td>1.000000</td>\n",
       "      <td>85.000000</td>\n",
       "      <td>2.000000</td>\n",
       "      <td>1.125000e+03</td>\n",
       "      <td>5.000000</td>\n",
       "      <td>6.000000</td>\n",
       "      <td>1.000000</td>\n",
       "      <td>1728.000000</td>\n",
       "      <td>17.000000</td>\n",
       "    </tr>\n",
       "    <tr>\n",
       "      <th>75%</th>\n",
       "      <td>4.000000</td>\n",
       "      <td>1.000000</td>\n",
       "      <td>1.000000</td>\n",
       "      <td>50.000000</td>\n",
       "      <td>400.000000</td>\n",
       "      <td>5.000000</td>\n",
       "      <td>2.000000</td>\n",
       "      <td>3.857170</td>\n",
       "      <td>48.879205</td>\n",
       "      <td>2.370860</td>\n",
       "      <td>2.000000</td>\n",
       "      <td>120.000000</td>\n",
       "      <td>4.000000</td>\n",
       "      <td>1.125000e+03</td>\n",
       "      <td>147.000000</td>\n",
       "      <td>21.000000</td>\n",
       "      <td>1.000000</td>\n",
       "      <td>2221.000000</td>\n",
       "      <td>24.000000</td>\n",
       "    </tr>\n",
       "    <tr>\n",
       "      <th>max</th>\n",
       "      <td>22.000000</td>\n",
       "      <td>50.000000</td>\n",
       "      <td>50.000000</td>\n",
       "      <td>600.000000</td>\n",
       "      <td>4740.000000</td>\n",
       "      <td>270.000000</td>\n",
       "      <td>100.000000</td>\n",
       "      <td>9.907948</td>\n",
       "      <td>48.906060</td>\n",
       "      <td>2.467050</td>\n",
       "      <td>50.000000</td>\n",
       "      <td>600.000000</td>\n",
       "      <td>9999.000000</td>\n",
       "      <td>1.000000e+07</td>\n",
       "      <td>365.000000</td>\n",
       "      <td>867.000000</td>\n",
       "      <td>301.000000</td>\n",
       "      <td>4220.000000</td>\n",
       "      <td>91.000000</td>\n",
       "    </tr>\n",
       "  </tbody>\n",
       "</table>\n",
       "</div>"
      ],
      "text/plain": [
       "       accommodates     bathrooms      bedrooms  cleaning_fee  \\\n",
       "count  65575.000000  65575.000000  65575.000000  65575.000000   \n",
       "mean       3.042791      1.114868      1.074907     30.938681   \n",
       "std        1.519517      0.629130      0.971488     34.386889   \n",
       "min        1.000000      0.000000      0.000000      0.000000   \n",
       "25%        2.000000      1.000000      1.000000      0.000000   \n",
       "50%        2.000000      1.000000      1.000000     25.000000   \n",
       "75%        4.000000      1.000000      1.000000     50.000000   \n",
       "max       22.000000     50.000000     50.000000    600.000000   \n",
       "\n",
       "       security_deposit  extra_people  guests_included      distance  \\\n",
       "count      65575.000000  65575.000000     65575.000000  65575.000000   \n",
       "mean         285.712482      5.647274         1.488494      2.871435   \n",
       "std          493.088177     13.721923         1.093747      1.418917   \n",
       "min            0.000000      0.000000         1.000000      0.011736   \n",
       "25%            0.000000      0.000000         1.000000      1.813001   \n",
       "50%          150.000000      0.000000         1.000000      2.848247   \n",
       "75%          400.000000      5.000000         2.000000      3.857170   \n",
       "max         4740.000000    270.000000       100.000000      9.907948   \n",
       "\n",
       "           latitude     longitude          beds         price  minimum_nights  \\\n",
       "count  65575.000000  65575.000000  65575.000000  65575.000000    65575.000000   \n",
       "mean      48.864121      2.345580      1.652810    107.535067        5.279665   \n",
       "std        0.018451      0.033434      1.091482     80.789892       43.982086   \n",
       "min       48.813400      2.225070      0.000000      8.000000        1.000000   \n",
       "25%       48.850715      2.324430      1.000000     60.000000        1.000000   \n",
       "50%       48.865240      2.348530      1.000000     85.000000        2.000000   \n",
       "75%       48.879205      2.370860      2.000000    120.000000        4.000000   \n",
       "max       48.906060      2.467050     50.000000    600.000000     9999.000000   \n",
       "\n",
       "       maximum_nights  availability_365  number_of_reviews  \\\n",
       "count    6.557500e+04      65575.000000       65575.000000   \n",
       "mean     8.573175e+02         84.531376          20.712070   \n",
       "std      3.905551e+04        121.877648          42.301794   \n",
       "min      1.000000e+00          0.000000           0.000000   \n",
       "25%      3.000000e+01          0.000000           1.000000   \n",
       "50%      1.125000e+03          5.000000           6.000000   \n",
       "75%      1.125000e+03        147.000000          21.000000   \n",
       "max      1.000000e+07        365.000000         867.000000   \n",
       "\n",
       "       calculated_host_listings_count  host_days_active  amenities_count  \n",
       "count                    65575.000000      65575.000000     65575.000000  \n",
       "mean                         7.965124       1641.893923        18.505909  \n",
       "std                         33.423409        819.676831         8.306706  \n",
       "min                          1.000000          5.000000         1.000000  \n",
       "25%                          1.000000       1075.000000        12.000000  \n",
       "50%                          1.000000       1728.000000        17.000000  \n",
       "75%                          1.000000       2221.000000        24.000000  \n",
       "max                        301.000000       4220.000000        91.000000  "
      ]
     },
     "execution_count": 86,
     "metadata": {},
     "output_type": "execute_result"
    }
   ],
   "source": [
    "raw_data.describe()"
   ]
  },
  {
   "cell_type": "code",
   "execution_count": 87,
   "metadata": {
    "ExecuteTime": {
     "end_time": "2020-05-10T17:27:29.374096Z",
     "start_time": "2020-05-10T17:27:29.346454Z"
    }
   },
   "outputs": [
    {
     "data": {
      "text/plain": [
       "0"
      ]
     },
     "execution_count": 87,
     "metadata": {},
     "output_type": "execute_result"
    }
   ],
   "source": [
    "raw_data['size'].isna().sum()"
   ]
  },
  {
   "cell_type": "code",
   "execution_count": 88,
   "metadata": {
    "ExecuteTime": {
     "end_time": "2020-05-10T17:27:29.402403Z",
     "start_time": "2020-05-10T17:27:29.384651Z"
    }
   },
   "outputs": [
    {
     "data": {
      "text/plain": [
       "3109    35.9786\n",
       "5396         30\n",
       "7397         40\n",
       "7964         75\n",
       "9359    63.6435\n",
       "Name: size, dtype: object"
      ]
     },
     "execution_count": 88,
     "metadata": {},
     "output_type": "execute_result"
    }
   ],
   "source": [
    "raw_data['size'].head()"
   ]
  },
  {
   "cell_type": "code",
   "execution_count": 89,
   "metadata": {
    "ExecuteTime": {
     "end_time": "2020-05-10T17:27:29.493876Z",
     "start_time": "2020-05-10T17:27:29.408370Z"
    }
   },
   "outputs": [],
   "source": [
    "raw_data['size'] = raw_data['size'].astype(float)"
   ]
  },
  {
   "cell_type": "code",
   "execution_count": 90,
   "metadata": {
    "ExecuteTime": {
     "end_time": "2020-05-10T17:27:29.524658Z",
     "start_time": "2020-05-10T17:27:29.500718Z"
    }
   },
   "outputs": [
    {
     "data": {
      "text/plain": [
       "count    65575.000000\n",
       "mean        52.593818\n",
       "std        262.219360\n",
       "min        -58.378364\n",
       "25%         32.000000\n",
       "50%         45.539253\n",
       "75%         57.460527\n",
       "max      47100.000000\n",
       "Name: size, dtype: float64"
      ]
     },
     "execution_count": 90,
     "metadata": {},
     "output_type": "execute_result"
    }
   ],
   "source": [
    "raw_data['size'].describe()"
   ]
  },
  {
   "cell_type": "code",
   "execution_count": 91,
   "metadata": {
    "ExecuteTime": {
     "end_time": "2020-05-10T17:27:29.992521Z",
     "start_time": "2020-05-10T17:27:29.528563Z"
    }
   },
   "outputs": [
    {
     "data": {
      "image/png": "[encoded data removed]",
      "text/plain": [
       "<Figure size 1152x144 with 1 Axes>"
      ]
     },
     "metadata": {},
     "output_type": "display_data"
    }
   ],
   "source": [
    "red_square = dict(markerfacecolor='r', markeredgecolor='r', marker='.')\n",
    "raw_data['size'].plot(kind='box', xlim=(0, 1000), vert=False, flierprops=red_square, figsize=(16,2));"
   ]
  },
  {
   "cell_type": "code",
   "execution_count": 92,
   "metadata": {
    "ExecuteTime": {
     "end_time": "2020-05-10T17:27:30.157124Z",
     "start_time": "2020-05-10T17:27:30.025674Z"
    }
   },
   "outputs": [],
   "source": [
    "# To be save I will cute all the listings with sizes below 0 and above 300 m2.\n",
    "raw_data.drop(raw_data[ (raw_data['size'] <= 0.) | (raw_data['size'] > 300.) ].index, axis=0, inplace=True)"
   ]
  },
  {
   "cell_type": "code",
   "execution_count": 93,
   "metadata": {
    "ExecuteTime": {
     "end_time": "2020-05-10T17:27:30.177987Z",
     "start_time": "2020-05-10T17:27:30.168289Z"
    }
   },
   "outputs": [
    {
     "name": "stdout",
     "output_type": "stream",
     "text": [
      "The dataset has 65442 rows and 58 columns - after being engineered.\n"
     ]
    }
   ],
   "source": [
    "print(\"The dataset has {} rows and {} columns - after being engineered.\".format(*raw_data.shape))"
   ]
  },
  {
   "cell_type": "markdown",
   "metadata": {},
   "source": [
    "## Subway"
   ]
  },
  {
   "cell_type": "code",
   "execution_count": 94,
   "metadata": {
    "ExecuteTime": {
     "end_time": "2020-05-10T17:27:31.458103Z",
     "start_time": "2020-05-10T17:27:30.185277Z"
    }
   },
   "outputs": [],
   "source": [
    "# With this feature I want to extract if metro, subway etc. is part of the description, and maybe has some effect on the price.\n",
    "raw_data.dropna(subset=['description', ], inplace=True)\n",
    "raw_data.loc[raw_data['description'].str.contains('subway|Metro|metro'), 'subway'] = 1\n",
    "raw_data['subway'].fillna(0, inplace=True)"
   ]
  },
  {
   "cell_type": "code",
   "execution_count": 95,
   "metadata": {
    "ExecuteTime": {
     "end_time": "2020-05-10T17:27:31.512673Z",
     "start_time": "2020-05-10T17:27:31.465565Z"
    }
   },
   "outputs": [
    {
     "data": {
      "text/plain": [
       "0.0    45945\n",
       "1.0    18481\n",
       "Name: subway, dtype: int64"
      ]
     },
     "execution_count": 95,
     "metadata": {},
     "output_type": "execute_result"
    }
   ],
   "source": [
    "raw_data['subway'].value_counts()"
   ]
  },
  {
   "cell_type": "code",
   "execution_count": 96,
   "metadata": {
    "ExecuteTime": {
     "end_time": "2020-05-10T17:27:31.615048Z",
     "start_time": "2020-05-10T17:27:31.523552Z"
    }
   },
   "outputs": [],
   "source": [
    "raw_data[['subway']] = raw_data[['subway']].applymap(bool)"
   ]
  },
  {
   "cell_type": "markdown",
   "metadata": {},
   "source": [
    "## property_type / room_type"
   ]
  },
  {
   "cell_type": "code",
   "execution_count": 97,
   "metadata": {
    "ExecuteTime": {
     "end_time": "2020-05-10T17:27:31.661425Z",
     "start_time": "2020-05-10T17:27:31.625554Z"
    }
   },
   "outputs": [
    {
     "data": {
      "text/plain": [
       "Apartment             58514\n",
       "Condominium            1940\n",
       "Loft                   1182\n",
       "Boutique hotel          917\n",
       "Serviced apartment      452\n",
       "House                   432\n",
       "Townhouse               242\n",
       "Hotel                   217\n",
       "Bed and breakfast       148\n",
       "Other                    99\n",
       "Guesthouse               93\n",
       "Guest suite              46\n",
       "Aparthotel               33\n",
       "Hostel                   30\n",
       "Tiny house               30\n",
       "Boat                     11\n",
       "Villa                     8\n",
       "Houseboat                 7\n",
       "Earth house               3\n",
       "Cave                      3\n",
       "Bungalow                  2\n",
       "Farm stay                 2\n",
       "Dome house                2\n",
       "Nature lodge              2\n",
       "Cottage                   2\n",
       "Barn                      2\n",
       "Igloo                     1\n",
       "Camper/RV                 1\n",
       "Campsite                  1\n",
       "Plane                     1\n",
       "Island                    1\n",
       "Cabin                     1\n",
       "Dorm                      1\n",
       "Name: property_type, dtype: int64"
      ]
     },
     "execution_count": 97,
     "metadata": {},
     "output_type": "execute_result"
    }
   ],
   "source": [
    "raw_data.property_type.value_counts()"
   ]
  },
  {
   "cell_type": "code",
   "execution_count": 98,
   "metadata": {
    "ExecuteTime": {
     "end_time": "2020-05-10T17:27:31.803706Z",
     "start_time": "2020-05-10T17:27:31.671183Z"
    }
   },
   "outputs": [
    {
     "data": {
      "text/html": [
       "<div>\n",
       "<style scoped>\n",
       "    .dataframe tbody tr th:only-of-type {\n",
       "        vertical-align: middle;\n",
       "    }\n",
       "\n",
       "    .dataframe tbody tr th {\n",
       "        vertical-align: top;\n",
       "    }\n",
       "\n",
       "    .dataframe thead th {\n",
       "        text-align: right;\n",
       "    }\n",
       "</style>\n",
       "<table border=\"1\" class=\"dataframe\">\n",
       "  <thead>\n",
       "    <tr style=\"text-align: right;\">\n",
       "      <th></th>\n",
       "      <th>accommodates</th>\n",
       "      <th>bathrooms</th>\n",
       "      <th>bedrooms</th>\n",
       "      <th>cleaning_fee</th>\n",
       "      <th>security_deposit</th>\n",
       "      <th>extra_people</th>\n",
       "      <th>guests_included</th>\n",
       "      <th>distance</th>\n",
       "      <th>size</th>\n",
       "      <th>listing_url</th>\n",
       "      <th>description</th>\n",
       "      <th>host_since</th>\n",
       "      <th>host_response_time</th>\n",
       "      <th>host_response_rate</th>\n",
       "      <th>host_acceptance_rate</th>\n",
       "      <th>host_is_superhost</th>\n",
       "      <th>host_identity_verified</th>\n",
       "      <th>neighbourhood</th>\n",
       "      <th>latitude</th>\n",
       "      <th>longitude</th>\n",
       "      <th>property_type</th>\n",
       "      <th>room_type</th>\n",
       "      <th>beds</th>\n",
       "      <th>price</th>\n",
       "      <th>minimum_nights</th>\n",
       "      <th>maximum_nights</th>\n",
       "      <th>availability_365</th>\n",
       "      <th>number_of_reviews</th>\n",
       "      <th>first_review</th>\n",
       "      <th>last_review</th>\n",
       "      <th>review_scores_rating</th>\n",
       "      <th>review_scores_accuracy</th>\n",
       "      <th>review_scores_cleanliness</th>\n",
       "      <th>review_scores_checkin</th>\n",
       "      <th>review_scores_communication</th>\n",
       "      <th>review_scores_location</th>\n",
       "      <th>review_scores_value</th>\n",
       "      <th>instant_bookable</th>\n",
       "      <th>cancellation_policy</th>\n",
       "      <th>calculated_host_listings_count</th>\n",
       "      <th>host_days_active</th>\n",
       "      <th>amenities_count</th>\n",
       "      <th>bed_linen</th>\n",
       "      <th>breakfast</th>\n",
       "      <th>tv</th>\n",
       "      <th>coffee_machine</th>\n",
       "      <th>cooking_basics</th>\n",
       "      <th>household appliance</th>\n",
       "      <th>elevator</th>\n",
       "      <th>child_friendly</th>\n",
       "      <th>parking</th>\n",
       "      <th>host_greeting</th>\n",
       "      <th>internet</th>\n",
       "      <th>long_term_stays</th>\n",
       "      <th>private_entrance</th>\n",
       "      <th>smoking_allowed</th>\n",
       "      <th>time_since_first_review</th>\n",
       "      <th>time_since_last_review</th>\n",
       "      <th>subway</th>\n",
       "    </tr>\n",
       "  </thead>\n",
       "  <tbody>\n",
       "    <tr>\n",
       "      <th>4311177</th>\n",
       "      <td>4</td>\n",
       "      <td>2.5</td>\n",
       "      <td>1.0</td>\n",
       "      <td>0.0</td>\n",
       "      <td>0.0</td>\n",
       "      <td>0.0</td>\n",
       "      <td>1</td>\n",
       "      <td>1.297616</td>\n",
       "      <td>78.52994</td>\n",
       "      <td>https://www.airbnb.com/rooms/4311177</td>\n",
       "      <td>Vous revez de vivre une soirée comme  un vrai ...</td>\n",
       "      <td>2014-07-28</td>\n",
       "      <td>unknown</td>\n",
       "      <td>unknown</td>\n",
       "      <td>unknown</td>\n",
       "      <td>False</td>\n",
       "      <td>True</td>\n",
       "      <td>Hôtel-de-Ville</td>\n",
       "      <td>48.85558</td>\n",
       "      <td>2.36005</td>\n",
       "      <td>Igloo</td>\n",
       "      <td>Shared room</td>\n",
       "      <td>4.0</td>\n",
       "      <td>500.0</td>\n",
       "      <td>1</td>\n",
       "      <td>1125</td>\n",
       "      <td>0</td>\n",
       "      <td>0</td>\n",
       "      <td>NaT</td>\n",
       "      <td>NaT</td>\n",
       "      <td>nan</td>\n",
       "      <td>nan</td>\n",
       "      <td>nan</td>\n",
       "      <td>nan</td>\n",
       "      <td>nan</td>\n",
       "      <td>nan</td>\n",
       "      <td>nan</td>\n",
       "      <td>False</td>\n",
       "      <td>flexible</td>\n",
       "      <td>1</td>\n",
       "      <td>2062.0</td>\n",
       "      <td>26</td>\n",
       "      <td>False</td>\n",
       "      <td>True</td>\n",
       "      <td>True</td>\n",
       "      <td>False</td>\n",
       "      <td>False</td>\n",
       "      <td>True</td>\n",
       "      <td>True</td>\n",
       "      <td>True</td>\n",
       "      <td>True</td>\n",
       "      <td>False</td>\n",
       "      <td>True</td>\n",
       "      <td>False</td>\n",
       "      <td>False</td>\n",
       "      <td>True</td>\n",
       "      <td>nan</td>\n",
       "      <td>nan</td>\n",
       "      <td>False</td>\n",
       "    </tr>\n",
       "  </tbody>\n",
       "</table>\n",
       "</div>"
      ],
      "text/plain": [
       "         accommodates  bathrooms  bedrooms  cleaning_fee  security_deposit  \\\n",
       "4311177             4        2.5       1.0           0.0               0.0   \n",
       "\n",
       "         extra_people  guests_included  distance      size  \\\n",
       "4311177           0.0                1  1.297616  78.52994   \n",
       "\n",
       "                                  listing_url  \\\n",
       "4311177  https://www.airbnb.com/rooms/4311177   \n",
       "\n",
       "                                               description host_since  \\\n",
       "4311177  Vous revez de vivre une soirée comme  un vrai ... 2014-07-28   \n",
       "\n",
       "        host_response_time host_response_rate host_acceptance_rate  \\\n",
       "4311177            unknown            unknown              unknown   \n",
       "\n",
       "         host_is_superhost  host_identity_verified   neighbourhood  latitude  \\\n",
       "4311177              False                    True  Hôtel-de-Ville  48.85558   \n",
       "\n",
       "         longitude property_type    room_type  beds  price  minimum_nights  \\\n",
       "4311177    2.36005         Igloo  Shared room   4.0  500.0               1   \n",
       "\n",
       "         maximum_nights  availability_365  number_of_reviews first_review  \\\n",
       "4311177            1125                 0                  0          NaT   \n",
       "\n",
       "        last_review review_scores_rating review_scores_accuracy  \\\n",
       "4311177         NaT                  nan                    nan   \n",
       "\n",
       "        review_scores_cleanliness review_scores_checkin  \\\n",
       "4311177                       nan                   nan   \n",
       "\n",
       "        review_scores_communication review_scores_location  \\\n",
       "4311177                         nan                    nan   \n",
       "\n",
       "        review_scores_value  instant_bookable cancellation_policy  \\\n",
       "4311177                 nan             False            flexible   \n",
       "\n",
       "         calculated_host_listings_count  host_days_active  amenities_count  \\\n",
       "4311177                               1            2062.0               26   \n",
       "\n",
       "         bed_linen  breakfast    tv  coffee_machine  cooking_basics  \\\n",
       "4311177      False       True  True           False           False   \n",
       "\n",
       "         household appliance  elevator  child_friendly  parking  \\\n",
       "4311177                 True      True            True     True   \n",
       "\n",
       "         host_greeting  internet  long_term_stays  private_entrance  \\\n",
       "4311177          False      True            False             False   \n",
       "\n",
       "         smoking_allowed time_since_first_review time_since_last_review  \\\n",
       "4311177             True                     nan                    nan   \n",
       "\n",
       "         subway  \n",
       "4311177   False  "
      ]
     },
     "execution_count": 98,
     "metadata": {},
     "output_type": "execute_result"
    }
   ],
   "source": [
    "# Some weird properties can be found in the dataset. \n",
    "raw_data[raw_data['property_type'] == 'Igloo']"
   ]
  },
  {
   "cell_type": "markdown",
   "metadata": {
    "ExecuteTime": {
     "end_time": "2020-05-07T13:15:14.074454Z",
     "start_time": "2020-05-07T13:15:14.057685Z"
    }
   },
   "source": [
    "<img src=\"data/Igloo.png\"> "
   ]
  },
  {
   "cell_type": "code",
   "execution_count": 99,
   "metadata": {
    "ExecuteTime": {
     "end_time": "2020-05-10T17:27:31.862402Z",
     "start_time": "2020-05-10T17:27:31.808001Z"
    }
   },
   "outputs": [],
   "source": [
    "# Replacing categories that are types of houses or apartments\n",
    "raw_data.property_type.replace({\n",
    "    'Townhouse': 'House',\n",
    "    'Serviced apartment': 'Apartment',\n",
    "    'Loft': 'Apartment',\n",
    "    'Bungalow': 'House',\n",
    "    'Villa': 'House',\n",
    "    'Tiny house': 'House',\n",
    "    'Earth house': 'House',  \n",
    "    }, inplace=True)\n",
    "\n",
    "# Replacing other categories with 'other'\n",
    "raw_data.loc[~raw_data.property_type.isin(['House', 'Apartment']), 'property_type'] = 'Other'"
   ]
  },
  {
   "cell_type": "code",
   "execution_count": 100,
   "metadata": {
    "ExecuteTime": {
     "end_time": "2020-05-10T17:27:31.975033Z",
     "start_time": "2020-05-10T17:27:31.875212Z"
    }
   },
   "outputs": [
    {
     "data": {
      "text/plain": [
       "Entire home/apt    56271\n",
       "Private room        6831\n",
       "Hotel room           935\n",
       "Shared room          389\n",
       "Name: room_type, dtype: int64"
      ]
     },
     "execution_count": 100,
     "metadata": {},
     "output_type": "execute_result"
    }
   ],
   "source": [
    "raw_data.room_type.value_counts()"
   ]
  },
  {
   "cell_type": "code",
   "execution_count": 101,
   "metadata": {
    "ExecuteTime": {
     "end_time": "2020-05-10T17:27:33.490209Z",
     "start_time": "2020-05-10T17:27:32.041267Z"
    }
   },
   "outputs": [
    {
     "data": {
      "image/png": "[encoded data removed]",
      "text/plain": [
       "<Figure size 1080x576 with 1 Axes>"
      ]
     },
     "metadata": {},
     "output_type": "display_data"
    },
    {
     "data": {
      "text/plain": [
       "<Figure size 842.4x595.44 with 0 Axes>"
      ]
     },
     "metadata": {},
     "output_type": "display_data"
    }
   ],
   "source": [
    "# This graph shows the distribution of property_types and what room type they consist of.\n",
    "# Most properties consists of entire homes and the most frequent property type is apartment, which makes sence being in a major city.\n",
    "prop = raw_data.groupby(['property_type','room_type']).room_type.count()\n",
    "prop = prop.unstack()\n",
    "prop['total'] = prop.iloc[:,0:3].sum(axis = 1)\n",
    "prop = prop.sort_values(by=['total'])\n",
    "prop = prop[prop['total']>=100]\n",
    "prop = prop.drop(columns=['total'])\n",
    "\n",
    "prop.plot(kind='barh',stacked=True, color = [\"r\",\"b\",\"g\",\"k\"],\n",
    "              linewidth = 1, grid=True, figsize=(15,8), width=1)\n",
    "plt.title('Property types in Paris', fontsize=18)\n",
    "plt.xlabel('Number of listings', fontsize=14)\n",
    "plt.ylabel(\"\")\n",
    "plt.legend(loc = 4,prop = {\"size\" : 13})\n",
    "plt.rc('ytick', labelsize=13)\n",
    "plt.show()\n",
    "plt.savefig('data/Propertytypes.png')"
   ]
  },
  {
   "cell_type": "code",
   "execution_count": 102,
   "metadata": {
    "ExecuteTime": {
     "end_time": "2020-05-10T17:27:33.556642Z",
     "start_time": "2020-05-10T17:27:33.499087Z"
    }
   },
   "outputs": [
    {
     "data": {
      "text/plain": [
       "property_type\n",
       "House          710.0\n",
       "Other         3494.0\n",
       "Apartment    59833.0\n",
       "Name: total, dtype: float64"
      ]
     },
     "execution_count": 102,
     "metadata": {},
     "output_type": "execute_result"
    }
   ],
   "source": [
    "prop['total'] = prop.iloc[:,0:3].sum(axis = 1)\n",
    "prop['total']"
   ]
  },
  {
   "cell_type": "markdown",
   "metadata": {},
   "source": [
    "## cancellation_policy"
   ]
  },
  {
   "cell_type": "code",
   "execution_count": 103,
   "metadata": {
    "ExecuteTime": {
     "end_time": "2020-05-10T17:27:33.633007Z",
     "start_time": "2020-05-10T17:27:33.578071Z"
    }
   },
   "outputs": [
    {
     "data": {
      "text/plain": [
       "strict_14_with_grace_period    24381\n",
       "flexible                       21974\n",
       "moderate                       17677\n",
       "super_strict_60                  272\n",
       "super_strict_30                  119\n",
       "strict                             3\n",
       "Name: cancellation_policy, dtype: int64"
      ]
     },
     "execution_count": 103,
     "metadata": {},
     "output_type": "execute_result"
    }
   ],
   "source": [
    "raw_data.cancellation_policy.value_counts()"
   ]
  },
  {
   "cell_type": "code",
   "execution_count": 104,
   "metadata": {
    "ExecuteTime": {
     "end_time": "2020-05-10T17:27:33.676134Z",
     "start_time": "2020-05-10T17:27:33.651874Z"
    }
   },
   "outputs": [],
   "source": [
    "# Replacing categories\n",
    "raw_data.cancellation_policy.replace({\n",
    "    'super_strict_30': 'strict_14_with_grace_period',\n",
    "    'super_strict_60': 'strict_14_with_grace_period',\n",
    "    'strict': 'strict_14_with_grace_period'\n",
    "    }, inplace=True)"
   ]
  },
  {
   "cell_type": "code",
   "execution_count": 105,
   "metadata": {
    "ExecuteTime": {
     "end_time": "2020-05-10T17:27:34.052995Z",
     "start_time": "2020-05-10T17:27:33.682628Z"
    }
   },
   "outputs": [
    {
     "name": "stdout",
     "output_type": "stream",
     "text": [
      "<class 'pandas.core.frame.DataFrame'>\n",
      "Int64Index: 64426 entries, 3109 to 42912016\n",
      "Data columns (total 59 columns):\n",
      "accommodates                      64426 non-null int64\n",
      "bathrooms                         64426 non-null float64\n",
      "bedrooms                          64426 non-null float64\n",
      "cleaning_fee                      64426 non-null float64\n",
      "security_deposit                  64426 non-null float64\n",
      "extra_people                      64426 non-null float64\n",
      "guests_included                   64426 non-null int64\n",
      "distance                          64426 non-null float64\n",
      "size                              64426 non-null float64\n",
      "listing_url                       64426 non-null object\n",
      "description                       64426 non-null object\n",
      "host_since                        64426 non-null datetime64[ns]\n",
      "host_response_time                64426 non-null object\n",
      "host_response_rate                64426 non-null object\n",
      "host_acceptance_rate              64426 non-null object\n",
      "host_is_superhost                 64426 non-null bool\n",
      "host_identity_verified            64426 non-null bool\n",
      "neighbourhood                     64426 non-null object\n",
      "latitude                          64426 non-null float64\n",
      "longitude                         64426 non-null float64\n",
      "property_type                     64426 non-null object\n",
      "room_type                         64426 non-null object\n",
      "beds                              64426 non-null float64\n",
      "price                             64426 non-null float64\n",
      "minimum_nights                    64426 non-null int64\n",
      "maximum_nights                    64426 non-null int64\n",
      "availability_365                  64426 non-null int64\n",
      "number_of_reviews                 64426 non-null int64\n",
      "first_review                      51816 non-null datetime64[ns]\n",
      "last_review                       51816 non-null datetime64[ns]\n",
      "review_scores_rating              64426 non-null object\n",
      "review_scores_accuracy            64426 non-null object\n",
      "review_scores_cleanliness         64426 non-null object\n",
      "review_scores_checkin             64426 non-null object\n",
      "review_scores_communication       64426 non-null object\n",
      "review_scores_location            64426 non-null object\n",
      "review_scores_value               64426 non-null object\n",
      "instant_bookable                  64426 non-null bool\n",
      "cancellation_policy               64426 non-null object\n",
      "calculated_host_listings_count    64426 non-null int64\n",
      "host_days_active                  64426 non-null float64\n",
      "amenities_count                   64426 non-null int64\n",
      "bed_linen                         64426 non-null bool\n",
      "breakfast                         64426 non-null bool\n",
      "tv                                64426 non-null bool\n",
      "coffee_machine                    64426 non-null bool\n",
      "cooking_basics                    64426 non-null bool\n",
      "household appliance               64426 non-null bool\n",
      "elevator                          64426 non-null bool\n",
      "child_friendly                    64426 non-null bool\n",
      "parking                           64426 non-null bool\n",
      "host_greeting                     64426 non-null bool\n",
      "internet                          64426 non-null bool\n",
      "long_term_stays                   64426 non-null bool\n",
      "private_entrance                  64426 non-null bool\n",
      "smoking_allowed                   64426 non-null bool\n",
      "time_since_first_review           64426 non-null object\n",
      "time_since_last_review            64426 non-null object\n",
      "subway                            64426 non-null bool\n",
      "dtypes: bool(18), datetime64[ns](3), float64(12), int64(8), object(18)\n",
      "memory usage: 21.8+ MB\n"
     ]
    }
   ],
   "source": [
    "raw_data.info()"
   ]
  },
  {
   "cell_type": "code",
   "execution_count": 106,
   "metadata": {
    "ExecuteTime": {
     "end_time": "2020-05-10T17:27:50.803518Z",
     "start_time": "2020-05-10T17:27:34.075982Z"
    }
   },
   "outputs": [],
   "source": [
    "raw_data.to_csv('data/raw_data_preprocessed')"
   ]
  }
 ],
 "metadata": {
  "kernelspec": {
   "display_name": "Python [conda env:nf] *",
   "language": "python",
   "name": "conda-env-nf-py"
  },
  "language_info": {
   "codemirror_mode": {
    "name": "ipython",
    "version": 3
   },
   "file_extension": ".py",
   "mimetype": "text/x-python",
   "name": "python",
   "nbconvert_exporter": "python",
   "pygments_lexer": "ipython3",
   "version": "3.6.10"
  },
  "toc": {
   "base_numbering": 1,
   "nav_menu": {},
   "number_sections": true,
   "sideBar": true,
   "skip_h1_title": false,
   "title_cell": "Table of Contents",
   "title_sidebar": "Contents",
   "toc_cell": false,
   "toc_position": {
    "height": "calc(100% - 180px)",
    "left": "10px",
    "top": "150px",
    "width": "207.8px"
   },
   "toc_section_display": true,
   "toc_window_display": true
  }
 },
 "nbformat": 4,
 "nbformat_minor": 2
}
